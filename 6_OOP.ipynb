{
 "cells": [
  {
   "cell_type": "code",
   "execution_count": 2,
   "metadata": {},
   "outputs": [
    {
     "name": "stdout",
     "output_type": "stream",
     "text": [
      "My name is John. I'm 23 years old\n"
     ]
    }
   ],
   "source": [
    "# 1\n",
    "\n",
    "class People:\n",
    "    \n",
    "    def __init__(self, name, age):\n",
    "        self.name = name\n",
    "        self.age = age\n",
    "    \n",
    "    def introduce(self):\n",
    "        print(f\"My name is {self.name}. I'm {self.age} years old\")\n",
    "        \n",
    "john = People(\"John\", 23)ko\n",
    "john.introduce()"
   ]
  },
  {
   "cell_type": "code",
   "execution_count": 4,
   "metadata": {},
   "outputs": [
    {
     "name": "stdout",
     "output_type": "stream",
     "text": [
      "Before: 23 years old\n",
      "After: 33 years old\n"
     ]
    }
   ],
   "source": [
    "# 2\n",
    "\n",
    "class Human:\n",
    "    \n",
    "    def __init__(self, name, age):\n",
    "        self.name = name\n",
    "        self.age = age\n",
    "    \n",
    "    def aging(self, year):\n",
    "        print(f\"Before: {self.age} years old\")\n",
    "        print(f\"After: {self.age + year} years old\")\n",
    "        \n",
    "john = Human(\"John\", 23)\n",
    "john.aging(10)"
   ]
  },
  {
   "cell_type": "code",
   "execution_count": 6,
   "metadata": {},
   "outputs": [
    {
     "name": "stdout",
     "output_type": "stream",
     "text": [
      "2 + 4i\n"
     ]
    }
   ],
   "source": [
    "# 3\n",
    "\n",
    "class ComplexNumber:\n",
    "    \n",
    "    def __init__(self, r, i):\n",
    "        self.r = r\n",
    "        self.i = i\n",
    "    \n",
    "    def get_value(self):\n",
    "        print(f\"{self.r} + {self.i}i\")\n",
    "        \n",
    "z = ComplexNumber(2, 4)\n",
    "z.get_value()"
   ]
  },
  {
   "cell_type": "code",
   "execution_count": 10,
   "metadata": {},
   "outputs": [
    {
     "name": "stdout",
     "output_type": "stream",
     "text": [
      "area = 3216.990877275948\n",
      "perimeter = 201.06192982974676\n",
      "area = 804.247719318987\n",
      "perimeter = 100.53096491487338\n"
     ]
    }
   ],
   "source": [
    "# 4\n",
    "\n",
    "class Circle:\n",
    "    \n",
    "    import math as m\n",
    "    \n",
    "    def __init__(self, radius):\n",
    "        self.radius = radius\n",
    "        \n",
    "    def get_area(self):\n",
    "        print(f\"area = {self.m.pi * (self.radius **2)}\")\n",
    "    \n",
    "    def get_perimeter(self):\n",
    "        print(f\"perimeter = {2 * self.m.pi * self.radius}\")\n",
    "\n",
    "circle_a = Circle(32)\n",
    "circle_b = Circle(16)\n",
    "\n",
    "circle_a.get_area()\n",
    "circle_a.get_perimeter()\n",
    "\n",
    "circle_b.get_area()\n",
    "circle_b.get_perimeter()"
   ]
  },
  {
   "cell_type": "code",
   "execution_count": 4,
   "metadata": {},
   "outputs": [
    {
     "name": "stdout",
     "output_type": "stream",
     "text": [
      "Book status :  available\n",
      "borrow successfully\n",
      "Book status :  unavailable\n",
      "return successfully\n",
      "Book status :  available\n"
     ]
    }
   ],
   "source": [
    "# 5\n",
    "\n",
    "class Book:\n",
    "    \n",
    "    def __init__(self, book_name, book_status = \"available\"):\n",
    "        self.book_name = book_name\n",
    "        self.book_status = book_status\n",
    "        \n",
    "    def borrow_book(self):\n",
    "        if self.book_status == \"available\":\n",
    "            print(\"borrow successfully\")\n",
    "            self.book_status = \"unavailable\"\n",
    "        else:\n",
    "            print(\"borrow unsuccessfully\")\n",
    "            \n",
    "    def return_book(self):\n",
    "        if self.book_status == \"unavailable\":\n",
    "            print(\"return successfully\")\n",
    "            self.book_status = \"available\"\n",
    "        else:\n",
    "            print(\"return unsuccessfully\")\n",
    "            \n",
    "book_A = Book(\"AI Superpower\")\n",
    "print(\"Book status : \", book_A.book_status)\n",
    "book_A.borrow_book()\n",
    "print(\"Book status : \", book_A.book_status)\n",
    "book_A.return_book()\n",
    "print(\"Book status : \", book_A.book_status)"
   ]
  },
  {
   "cell_type": "code",
   "execution_count": 7,
   "metadata": {},
   "outputs": [
    {
     "name": "stdout",
     "output_type": "stream",
     "text": [
      "color = Red\n"
     ]
    }
   ],
   "source": [
    "# 6\n",
    "\n",
    "class Car:\n",
    "    \n",
    "    def __init__(self, brand, model, year, color):\n",
    "        self.brand = brand\n",
    "        self.model = model\n",
    "        self.year = year\n",
    "        self.color = color\n",
    "        \n",
    "    def new_color(self, new_color): # setter method\n",
    "        self.color = new_color\n",
    "        \n",
    "car_A = Car(\"Honda\", \"Civic\", \"2019\", \"Black\")\n",
    "car_A.new_color(\"Red\")\n",
    "print(f\"color = {car_A.color}\")"
   ]
  },
  {
   "cell_type": "code",
   "execution_count": 8,
   "metadata": {},
   "outputs": [
    {
     "name": "stdout",
     "output_type": "stream",
     "text": [
      "Height = 33.0\n",
      "Weight = 7.7\n"
     ]
    }
   ],
   "source": [
    "# 7\n",
    "\n",
    "class Dog:\n",
    "    \n",
    "    def __init__(self, breed, color, height, weight):\n",
    "        self.breed = breed\n",
    "        self.color = color\n",
    "        self.height = height\n",
    "        self.weight = weight\n",
    "        \n",
    "    def growth(self):\n",
    "        print(f\"Height = {(self.height * 0.1) + self.height}\")\n",
    "        print(f\"Weight = {(self.weight * 0.1) + self.weight}\")\n",
    "        \n",
    "dog_A = Dog(\"Jack Russell Terrier\", \"White\", 30, 7)\n",
    "dog_A.growth()"
   ]
  },
  {
   "cell_type": "code",
   "execution_count": 33,
   "metadata": {},
   "outputs": [
    {
     "name": "stdout",
     "output_type": "stream",
     "text": [
      "Mean : 6\n",
      "Min : 1\n",
      "Max : 11\n"
     ]
    }
   ],
   "source": [
    "# 8\n",
    "\n",
    "class Stats:\n",
    "    \n",
    "    import statistics as s\n",
    "    \n",
    "    def __init__(self, data):\n",
    "        self.data = data\n",
    "\n",
    "    def mean(self): \n",
    "        mean_data = self.s.mean(self.data)\n",
    "        return mean_data\n",
    "    \n",
    "    def min(self): \n",
    "        _min = min(self.data)\n",
    "        return _min\n",
    "        \n",
    "    def max(self):\n",
    "        _max = max(self.data)\n",
    "        return _max\n",
    "    \n",
    "    def summary(self):\n",
    "        print(\"Mean :\", self.mean())\n",
    "        print(\"Min :\", self.min())\n",
    "        print(\"Max :\", self.max())\n",
    "\n",
    "stat_a = Stats([1, 3, 5, 7, 9, 11])\n",
    "stat_a.summary()"
   ]
  },
  {
   "cell_type": "code",
   "execution_count": 2,
   "metadata": {},
   "outputs": [
    {
     "name": "stdout",
     "output_type": "stream",
     "text": [
      "30000 USD\n",
      "900000\n",
      "30000 USD\n",
      "1000.0\n",
      "30000 USD\n"
     ]
    }
   ],
   "source": [
    "# 9\n",
    "\n",
    "class USDTHB:\n",
    "    \n",
    "    def __init__(self, amount: int, currency: str):\n",
    "        self.amount = amount\n",
    "        self.currency = currency\n",
    "        \n",
    "    def to_THB(self):\n",
    "        return self.amount * 30\n",
    "    \n",
    "    def to_USD(self):\n",
    "        return self.amount / 30\n",
    "    \n",
    "money = USDTHB(30000, \"USD\")\n",
    "print(money.amount, money.currency)\n",
    "print(money.to_THB())\n",
    "\n",
    "print(money.amount, money.currency)\n",
    "print(money.to_USD())\n",
    "print(money.amount, money.currency)"
   ]
  },
  {
   "cell_type": "code",
   "execution_count": 6,
   "metadata": {},
   "outputs": [
    {
     "name": "stdout",
     "output_type": "stream",
     "text": [
      "We have apple, banana, orange.\n"
     ]
    }
   ],
   "source": [
    "# 10\n",
    "\n",
    "class Cashier:\n",
    "    \n",
    "    def __init__(self, products: list):\n",
    "        self.products = products\n",
    "        \n",
    "    def recommend(self):\n",
    "        product_strings = [str(i) for i in self.products]\n",
    "        product_list = \", \".join(product_strings)\n",
    "        print(f\"We have {product_list}.\")\n",
    "\n",
    "cashier = Cashier([\"apple\", \"banana\", \"orange\"])\n",
    "cashier.recommend()"
   ]
  },
  {
   "cell_type": "code",
   "execution_count": 10,
   "metadata": {},
   "outputs": [
    {
     "name": "stdout",
     "output_type": "stream",
     "text": [
      "=== Before Attack ===\n",
      "warrior_a HP = 80\n",
      "warrior_b HP = 120\n",
      "=== After Attack ===\n",
      "warrior_a HP = 70\n",
      "warrior_b HP = 100\n"
     ]
    }
   ],
   "source": [
    "# 11\n",
    "\n",
    "class Warrior:\n",
    "    \n",
    "    def __init__(self, power, defense, HP):\n",
    "        self.power = power\n",
    "        self.defense = defense\n",
    "        self.HP = HP\n",
    "    \n",
    "    def attack(self, enemy):\n",
    "        if enemy.HP > 0 and self.HP > 0:\n",
    "            enemy.HP = max(0, enemy.HP - max(0, self.power - enemy.defense))\n",
    "        if enemy.HP == 0:\n",
    "            print(\"Enemy died\")\n",
    "\n",
    "warrior_a = Warrior(100, 50, 80)\n",
    "warrior_b = Warrior(60, 80, 120)\n",
    "print(\"=== Before Attack ===\")\n",
    "print(f\"warrior_a HP = {warrior_a.HP}\")\n",
    "print(f\"warrior_b HP = {warrior_b.HP}\")\n",
    "warrior_a.attack(warrior_b)\n",
    "warrior_b.attack(warrior_a)\n",
    "print(\"=== After Attack ===\")\n",
    "print(f\"warrior_a HP = {warrior_a.HP}\")\n",
    "print(f\"warrior_b HP = {warrior_b.HP}\")"
   ]
  },
  {
   "cell_type": "code",
   "execution_count": 11,
   "metadata": {},
   "outputs": [
    {
     "name": "stdout",
     "output_type": "stream",
     "text": [
      "current position : (0, 0)\n",
      "current position : (0, 20)\n",
      "current position : (-23, 20)\n",
      "current position : (-23, -45)\n",
      "current position : (27, -45)\n"
     ]
    }
   ],
   "source": [
    "# 12\n",
    "\n",
    "class Point:\n",
    "    \n",
    "    def __init__(self, x, y):\n",
    "        self.x = x\n",
    "        self.y = y\n",
    "        print(f\"current position : ({self.x}, {self.y})\")\n",
    "    \n",
    "    def move_up(self, d):\n",
    "        self.y = self.y + d\n",
    "        print(f\"current position : ({self.x}, {self.y})\")\n",
    "        \n",
    "    def move_down(self, d):\n",
    "        self.y = self.y - d\n",
    "        print(f\"current position : ({self.x}, {self.y})\")\n",
    "        \n",
    "    def move_left(self, d):\n",
    "        self.x = self.x - d\n",
    "        print(f\"current position : ({self.x}, {self.y})\")\n",
    "        \n",
    "    def move_right(self, d):\n",
    "        self.x = self.x + d\n",
    "        print(f\"current position : ({self.x}, {self.y})\")\n",
    "    \n",
    "A = Point(0, 0)\n",
    "A.move_up(20)\n",
    "A.move_left(23)\n",
    "A.move_down(65)\n",
    "A.move_right(50)"
   ]
  },
  {
   "cell_type": "code",
   "execution_count": 13,
   "metadata": {},
   "outputs": [
    {
     "name": "stdout",
     "output_type": "stream",
     "text": [
      "HP = 100, Money = 100, Happiness = 100\n",
      "HP = 90, Money = 120, Happiness = 110\n",
      "HP = 80, Money = 110, Happiness = 130\n",
      "HP = 100, Money = 100, Happiness = 140\n"
     ]
    }
   ],
   "source": [
    "# 13\n",
    "\n",
    "class Businessman:\n",
    "    \n",
    "    def __init__(self, hp, money, happiness):\n",
    "        self.hp = hp\n",
    "        self.money = money\n",
    "        self.happiness = happiness\n",
    "        self.report()\n",
    "    \n",
    "    def work(self):\n",
    "        self.hp = self.hp - 10\n",
    "        self.money = self.money + 20\n",
    "        self.happiness = self.happiness + 10\n",
    "        \n",
    "    def sleep(self):\n",
    "        self.hp = self.hp + 20\n",
    "        self.money = self.money - 10\n",
    "        self.happiness = self.happiness + 10\n",
    "        \n",
    "    def play(self):\n",
    "        self.hp = self.hp - 10\n",
    "        self.money = self.money - 10\n",
    "        self.happiness = self.happiness + 20\n",
    "        \n",
    "    def report(self):\n",
    "        print(f\"HP = {self.hp}, Money = {self.money}, Happiness = {self.happiness}\")\n",
    "        \n",
    "John = Businessman(100, 100, 100)\n",
    "John.work()\n",
    "John.report()\n",
    "John.play()\n",
    "John.report()\n",
    "John.sleep()\n",
    "John.report()"
   ]
  },
  {
   "cell_type": "code",
   "execution_count": 16,
   "metadata": {},
   "outputs": [
    {
     "name": "stdout",
     "output_type": "stream",
     "text": [
      "HP = 90, Generated_money = 110\n",
      "HP = 100, Generated_money = 100\n"
     ]
    }
   ],
   "source": [
    "# 14\n",
    "\n",
    "class Driver:\n",
    "    \n",
    "    def __init__(self, HP, generated_money):\n",
    "        self.HP = HP\n",
    "        self.generated_money = generated_money\n",
    "        \n",
    "    def drive(self):\n",
    "        self.HP = self.HP - 10\n",
    "        self.generated_money = self.generated_money + 10\n",
    "        \n",
    "    def care(self):\n",
    "        self.HP = self.HP + 10\n",
    "        self.generated_money = self.generated_money - 10\n",
    "        \n",
    "    def report(self):\n",
    "        print(f\"HP = {self.HP}, Generated_money = {self.generated_money}\")\n",
    "        \n",
    "driver_a = Driver(100, 100)\n",
    "driver_a.drive()\n",
    "driver_a.report()\n",
    "driver_a.care()\n",
    "driver_a.report()"
   ]
  },
  {
   "cell_type": "code",
   "execution_count": 18,
   "metadata": {},
   "outputs": [
    {
     "name": "stdout",
     "output_type": "stream",
     "text": [
      "Width = 22, Height = 20\n",
      "Generated money = 1223.683319527346\n"
     ]
    }
   ],
   "source": [
    "# 15\n",
    "\n",
    "class Tree:\n",
    "    \n",
    "    def __init__(self, height, width, generated_money):\n",
    "        self.height = height\n",
    "        self.width = width\n",
    "        self.generated_money = generated_money\n",
    "    \n",
    "    def feed_A(self):\n",
    "        self.generated_money = self.generated_money - 10\n",
    "        self.width = self.width + 12\n",
    "        \n",
    "    def feed_B(self):\n",
    "        self.generated_money = self.generated_money - 8\n",
    "        self.height = self.height + 10\n",
    "        \n",
    "    def sell(self):\n",
    "        print(f\"Width = {self.width}, Height = {self.height}\")\n",
    "        print(f\"Generated money = {self.generated_money + (self.width * self.height ** 0.8)}\")\n",
    "        \n",
    "tree_a = Tree(10, 10, 1000)\n",
    "tree_a.feed_A()\n",
    "tree_a.feed_B()\n",
    "tree_a.sell()"
   ]
  }
 ],
 "metadata": {
  "kernelspec": {
   "display_name": "Python 3",
   "language": "python",
   "name": "python3"
  },
  "language_info": {
   "codemirror_mode": {
    "name": "ipython",
    "version": 3
   },
   "file_extension": ".py",
   "mimetype": "text/x-python",
   "name": "python",
   "nbconvert_exporter": "python",
   "pygments_lexer": "ipython3",
   "version": "3.11.6"
  }
 },
 "nbformat": 4,
 "nbformat_minor": 2
}
