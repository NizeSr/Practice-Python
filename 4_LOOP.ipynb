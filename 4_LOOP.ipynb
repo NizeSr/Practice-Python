{
 "cells": [
  {
   "cell_type": "code",
   "execution_count": 31,
   "metadata": {},
   "outputs": [
    {
     "name": "stdout",
     "output_type": "stream",
     "text": [
      "3\n",
      "6\n",
      "9\n",
      "12\n",
      "15\n",
      "18\n",
      "21\n",
      "24\n",
      "27\n",
      "30\n",
      "33\n",
      "36\n",
      "39\n",
      "42\n",
      "45\n",
      "48\n",
      "51\n",
      "54\n",
      "57\n",
      "60\n",
      "63\n",
      "66\n",
      "69\n",
      "72\n",
      "75\n",
      "78\n",
      "81\n",
      "84\n",
      "87\n",
      "90\n",
      "93\n",
      "96\n",
      "99\n"
     ]
    }
   ],
   "source": [
    "# 1\n",
    "\n",
    "\"\"\"\n",
    "The code is using a for loop to iterate through the numbers from 1 to 99 (inclusive). For each number, it checks if the number is divisible by 3. If the number is divisible by 3, it prints the number.\n",
    "\"\"\"\n",
    "\n",
    "for i in range(1, 100): # between 0 and 100 (exclusive) : 0 < i < 100\n",
    "    if i % 3 == 0:\n",
    "        print(i)"
   ]
  },
  {
   "cell_type": "code",
   "execution_count": 32,
   "metadata": {},
   "outputs": [
    {
     "name": "stdout",
     "output_type": "stream",
     "text": [
      "15\n",
      "30\n",
      "45\n",
      "60\n",
      "75\n",
      "90\n"
     ]
    }
   ],
   "source": [
    "# 2\n",
    "\n",
    "\"\"\"\n",
    "The code is using a for loop to iterate through the numbers from 1 to 99. It then checks if each number is divisible by both 3 and 5 using the modulo operator (%). If the number satisfies both conditions, it is printed.\n",
    "\"\"\"\n",
    "\n",
    "for i in range(1, 100): \n",
    "    if (i % 3 == 0) and (i % 5 == 0):\n",
    "        print(i)"
   ]
  },
  {
   "cell_type": "code",
   "execution_count": 33,
   "metadata": {},
   "outputs": [
    {
     "name": "stdout",
     "output_type": "stream",
     "text": [
      "3\n",
      "5\n",
      "6\n",
      "9\n",
      "10\n",
      "12\n",
      "15\n",
      "18\n",
      "20\n",
      "21\n",
      "24\n",
      "25\n",
      "27\n",
      "30\n",
      "33\n",
      "35\n",
      "36\n",
      "39\n",
      "40\n",
      "42\n",
      "45\n",
      "48\n",
      "50\n",
      "51\n",
      "54\n",
      "55\n",
      "57\n",
      "60\n",
      "63\n",
      "65\n",
      "66\n",
      "69\n",
      "70\n",
      "72\n",
      "75\n",
      "78\n",
      "80\n",
      "81\n",
      "84\n",
      "85\n",
      "87\n",
      "90\n",
      "93\n",
      "95\n",
      "96\n",
      "99\n"
     ]
    }
   ],
   "source": [
    "# 3\n",
    "\n",
    "\"\"\"\n",
    "The code is using a for loop to iterate through the numbers from 1 to 99. It then checks if each number is divisible by 3 or 5 using the modulo operator (%). If the number is divisible by either 3 or 5, it is printed.\n",
    "\"\"\"\n",
    "\n",
    "for i in range(1, 100): \n",
    "    if (i % 3 == 0) or (i % 5 == 0):\n",
    "        print(i)"
   ]
  },
  {
   "cell_type": "code",
   "execution_count": 37,
   "metadata": {},
   "outputs": [
    {
     "name": "stdout",
     "output_type": "stream",
     "text": [
      "105\n",
      "210\n",
      "315\n",
      "420\n",
      "525\n",
      "630\n",
      "735\n",
      "840\n",
      "945\n"
     ]
    }
   ],
   "source": [
    "# 4\n",
    "\n",
    "\"\"\"\n",
    "The code is using a for loop to iterate through the numbers from 1 to 999. It then checks if each number is divisible by 3, 5, and 7 using the modulo operator (%). If the number is divisible by all three, it prints the number.\n",
    "\"\"\"\n",
    "\n",
    "for i in range(1, 1000):\n",
    "    if (i % 3 == 0) and (i % 5 == 0) and (i % 7 == 0):\n",
    "        print(i)"
   ]
  },
  {
   "cell_type": "code",
   "execution_count": 38,
   "metadata": {},
   "outputs": [
    {
     "name": "stdout",
     "output_type": "stream",
     "text": [
      "3\n",
      "5\n",
      "6\n",
      "7\n",
      "9\n",
      "10\n",
      "12\n",
      "14\n",
      "15\n",
      "18\n",
      "20\n",
      "21\n",
      "24\n",
      "25\n",
      "27\n",
      "28\n",
      "30\n",
      "33\n",
      "35\n",
      "36\n",
      "39\n",
      "40\n",
      "42\n",
      "45\n",
      "48\n",
      "49\n",
      "50\n",
      "51\n",
      "54\n",
      "55\n",
      "56\n",
      "57\n",
      "60\n",
      "63\n",
      "65\n",
      "66\n",
      "69\n",
      "70\n",
      "72\n",
      "75\n",
      "77\n",
      "78\n",
      "80\n",
      "81\n",
      "84\n",
      "85\n",
      "87\n",
      "90\n",
      "91\n",
      "93\n",
      "95\n",
      "96\n",
      "98\n",
      "99\n"
     ]
    }
   ],
   "source": [
    "# 5\n",
    "\n",
    "\"\"\"\n",
    "The code is using a for loop to iterate through the numbers from 1 to 99. For each number, it checks if the number is divisible by 3, 5, or 7 using the modulo operator (%). If the number is divisible by any of these three numbers, it prints the number.\n",
    "\"\"\"\n",
    "\n",
    "for i in range(1, 100):\n",
    "    if (i % 3 == 0) or (i % 5 == 0) or (i % 7 == 0):\n",
    "        print(i)"
   ]
  },
  {
   "cell_type": "code",
   "execution_count": 42,
   "metadata": {},
   "outputs": [
    {
     "name": "stdout",
     "output_type": "stream",
     "text": [
      "3\n",
      "5\n",
      "6\n",
      "9\n",
      "10\n",
      "12\n",
      "18\n",
      "20\n",
      "21\n",
      "24\n",
      "25\n",
      "27\n",
      "33\n",
      "35\n",
      "36\n",
      "39\n",
      "40\n",
      "42\n",
      "48\n",
      "50\n",
      "51\n",
      "54\n",
      "55\n",
      "57\n",
      "63\n",
      "65\n",
      "66\n",
      "69\n",
      "70\n",
      "72\n",
      "78\n",
      "80\n",
      "81\n",
      "84\n",
      "85\n",
      "87\n",
      "93\n",
      "95\n",
      "96\n",
      "99\n"
     ]
    }
   ],
   "source": [
    "# 6\n",
    "\n",
    "\"\"\"\n",
    "The code uses a for loop to iterate from 1 to 99. Inside the loop, it checks if the number is divisible by 3 (using i % 3 == 0). If true, it further checks if the number is not divisible by 5 (using i % 5 != 0). If both conditions are met, it prints the number.\n",
    "\"\"\"\n",
    "\n",
    "for i in range(1, 100):\n",
    "    if i % 3 == 0:\n",
    "        if i % 5 != 0:\n",
    "            print(i)\n",
    "    else:\n",
    "        if i % 5 == 0:\n",
    "            print(i)"
   ]
  },
  {
   "cell_type": "code",
   "execution_count": 43,
   "metadata": {},
   "outputs": [
    {
     "name": "stdout",
     "output_type": "stream",
     "text": [
      "15\n",
      "45\n",
      "75\n"
     ]
    }
   ],
   "source": [
    "# 7 \n",
    "\n",
    "\"\"\"\n",
    "The code is using a for loop to iterate through the numbers from 1 to 99. It then checks if the number is divisible by 3, divisible by 5, and not divisible by 2. If all these conditions are true, it prints the number.\n",
    "\"\"\"\n",
    "\n",
    "for i in range(1, 100):\n",
    "    if (i % 3 == 0) and (i % 5 == 0) and (i % 2 != 0):\n",
    "        print(i)"
   ]
  },
  {
   "cell_type": "code",
   "execution_count": 44,
   "metadata": {},
   "outputs": [
    {
     "name": "stdout",
     "output_type": "stream",
     "text": [
      "3\n",
      "5\n",
      "9\n",
      "15\n",
      "21\n",
      "25\n",
      "27\n",
      "33\n",
      "35\n",
      "39\n",
      "45\n",
      "51\n",
      "55\n",
      "57\n",
      "63\n",
      "65\n",
      "69\n",
      "75\n",
      "81\n",
      "85\n",
      "87\n",
      "93\n",
      "95\n",
      "99\n"
     ]
    }
   ],
   "source": [
    "# 8\n",
    "\n",
    "\"\"\"\n",
    "The code is using a for loop to iterate through the numbers from 1 to 99. It then checks if each number is divisible by 3 or 5 (using the modulo operator `%`). If the number is divisible by either 3 or 5 and is not divisible by 2, it will print the number.\n",
    "\"\"\"\n",
    "\n",
    "for i in range(1, 100):\n",
    "    if ((i % 3 == 0) or (i % 5 == 0)) and (i % 2 != 0):\n",
    "        print(i)"
   ]
  },
  {
   "cell_type": "code",
   "execution_count": 47,
   "metadata": {},
   "outputs": [
    {
     "name": "stdout",
     "output_type": "stream",
     "text": [
      "333\n"
     ]
    }
   ],
   "source": [
    "# 9\n",
    "\n",
    "\"\"\"\n",
    "The code is counting the number of integers between 1 and 1000 (excluding 1000) that are divisible by 3. It initializes a variable `count` to 0 and then iterates through the range of numbers from 1 to 1000. For each number `i`, it checks if `i` is divisible by 3 using the modulo operator (`%`). If `i` is divisible by 3, it increments the `count` variable by 1. Finally, it prints the value of `count`, which represents the total number of integers divisible by 3 in the given range.\n",
    "\"\"\"\n",
    "\n",
    "count = 0\n",
    "for i in range(1, 1000):\n",
    "    if i % 3 == 0:\n",
    "        count = count + 1\n",
    "print(count)"
   ]
  },
  {
   "cell_type": "code",
   "execution_count": 48,
   "metadata": {},
   "outputs": [
    {
     "name": "stdout",
     "output_type": "stream",
     "text": [
      "166833\n"
     ]
    }
   ],
   "source": [
    "# 10\n",
    "\n",
    "\"\"\"\n",
    "The code is calculating the sum of all numbers between 1 and 1000 (excluding 1000) that are divisible by 3.\n",
    "\"\"\"\n",
    "\n",
    "summary = 0\n",
    "for i in range(1, 1000):\n",
    "    if i % 3 == 0:\n",
    "        summary = summary + i\n",
    "print(summary)"
   ]
  },
  {
   "cell_type": "code",
   "execution_count": 51,
   "metadata": {},
   "outputs": [
    {
     "name": "stdout",
     "output_type": "stream",
     "text": [
      "1\n",
      "3\n",
      "5\n",
      "7\n",
      "9\n",
      "sum = 25\n"
     ]
    }
   ],
   "source": [
    "# 11\n",
    "\n",
    "\"\"\"\n",
    "The code is calculating the sum of 5 numbers entered by the user.\n",
    "\"\"\"\n",
    "\n",
    "sumx = 0\n",
    "for i in range(5):\n",
    "    number = int(input())\n",
    "    print(number)\n",
    "    sumx = sumx + number\n",
    "print(\"sum =\", sumx)"
   ]
  },
  {
   "cell_type": "code",
   "execution_count": 1,
   "metadata": {},
   "outputs": [
    {
     "name": "stdout",
     "output_type": "stream",
     "text": [
      "number_1: 0.0\n",
      "number_2: 1.0\n",
      "number_3: 3.0\n",
      "number_4: -2.0\n",
      "number_5: -4.0\n",
      "Sum of positive numbers is 4.00 \n",
      "sum of negative numbers is -6.00\n"
     ]
    }
   ],
   "source": [
    "# 12 \n",
    "\n",
    "\"\"\"\n",
    "The code is calculating the sum of positive and negative numbers entered by the user.\n",
    "\"\"\"\n",
    "\n",
    "sum_positive = 0\n",
    "sum_negative = 0\n",
    "for i in range(5):\n",
    "    number = float(input())\n",
    "    print(\"number_\" + str(i + 1) + \":\", number)\n",
    "    if number > 0:\n",
    "        sum_positive = sum_positive + number\n",
    "    elif number < 0:\n",
    "        sum_negative = sum_negative + number\n",
    "    else:\n",
    "        continue\n",
    "print(\"Sum of positive numbers is %.2f\" %sum_positive,\"\\nsum of negative numbers is %.2f\" %sum_negative)"
   ]
  },
  {
   "cell_type": "code",
   "execution_count": 2,
   "metadata": {},
   "outputs": [
    {
     "name": "stdout",
     "output_type": "stream",
     "text": [
      "number_1: 0.0\n",
      "number_2: 1.0\n",
      "number_3: 3.0\n",
      "number_4: -2.0\n",
      "number_5: -4.0\n",
      "The product of positive numbers is 3.00\n"
     ]
    }
   ],
   "source": [
    "# 13\n",
    "\n",
    "\"\"\"\n",
    "The code is calculating the product of positive numbers entered by the user.\n",
    "\"\"\"\n",
    "\n",
    "positive_product = 1\n",
    "for i in range(5):\n",
    "    number = float(input())\n",
    "    print(\"number_\" + str(i + 1) + \":\", number)\n",
    "    if number > 0:\n",
    "        positive_product = positive_product * number\n",
    "    else:\n",
    "        continue\n",
    "print(\"The product of positive numbers is %.2f\" %positive_product)"
   ]
  },
  {
   "cell_type": "code",
   "execution_count": 6,
   "metadata": {},
   "outputs": [
    {
     "name": "stdout",
     "output_type": "stream",
     "text": [
      "1\n",
      "3\n",
      "5\n",
      "9\n",
      "15\n",
      "27\n",
      "45\n",
      "135\n"
     ]
    }
   ],
   "source": [
    "# 14\n",
    "\n",
    "\"\"\"\n",
    "This code prompts the user to input a number and stores it in the variable `num`. The code is using a for loop to iterate through a range of numbers from 1 to `num + 1`. For each number `i` in the range, it checks if `num` is divisible by `i`. If it is divisible, it prints the value of `i`. This code essentially finds all the factors of the input number `num` and prints them.\n",
    "\"\"\"\n",
    "\n",
    "num = int(input(\"Please insert positive integer: \"))\n",
    "\n",
    "for i in range(1, num + 1):\n",
    "    if num % i == 0:\n",
    "        print(i)"
   ]
  },
  {
   "cell_type": "code",
   "execution_count": 8,
   "metadata": {},
   "outputs": [
    {
     "name": "stdout",
     "output_type": "stream",
     "text": [
      "8\n"
     ]
    }
   ],
   "source": [
    "# 15\n",
    "\n",
    "\"\"\"\n",
    "The code is counting the number of factors of the input integer number.\n",
    "\"\"\"\n",
    "\n",
    "int_1 = int(input(\"Please insert positive integer: \"))\n",
    "\n",
    "count_int1 = sum(1 for i in range(1, int_1 + 1) if int_1 % i == 0)\n",
    "print(count_int1)"
   ]
  },
  {
   "cell_type": "code",
   "execution_count": 14,
   "metadata": {},
   "outputs": [
    {
     "name": "stdout",
     "output_type": "stream",
     "text": [
      "3 is prime\n"
     ]
    }
   ],
   "source": [
    "# 16\n",
    "\n",
    "\"\"\"\n",
    "The code is checking whether a given positive integer is prime or not.\n",
    "\"\"\"\n",
    "\n",
    "count_int2 = 0\n",
    "int_2 = int(input(\"Please insert positive integer: \"))\n",
    "\n",
    "for i in range(1, int_2 + 1):\n",
    "    if int_2 % i == 0:\n",
    "        count_int2 = count_int2 + 1\n",
    "if count_int2 == 2:\n",
    "    print(\"%d is prime\" %int_2)\n",
    "else:\n",
    "    print(\"%d is not prime\" %int_2)"
   ]
  },
  {
   "cell_type": "code",
   "execution_count": 15,
   "metadata": {},
   "outputs": [
    {
     "name": "stdout",
     "output_type": "stream",
     "text": [
      "2\n",
      "3\n",
      "5\n",
      "7\n",
      "11\n",
      "13\n",
      "17\n",
      "19\n",
      "23\n",
      "29\n",
      "31\n",
      "37\n",
      "41\n",
      "43\n",
      "47\n",
      "53\n",
      "59\n",
      "61\n",
      "67\n",
      "71\n",
      "73\n",
      "79\n",
      "83\n",
      "89\n",
      "97\n"
     ]
    }
   ],
   "source": [
    "# 17\n",
    "\n",
    "\"\"\"\n",
    "The code is checking for prime numbers between 1 and 100 (exclusive).\n",
    "\"\"\"\n",
    "\n",
    "for i in range(1, 100):\n",
    "    count_prime_1 = 0   \n",
    "    for j in range(1, i + 1):\n",
    "        if i % j == 0:\n",
    "            count_prime_1 += 1\n",
    "    if count_prime_1 == 2:\n",
    "        print(i)"
   ]
  },
  {
   "cell_type": "code",
   "execution_count": 16,
   "metadata": {},
   "outputs": [
    {
     "name": "stdout",
     "output_type": "stream",
     "text": [
      "2\n",
      "3\n",
      "5\n",
      "7\n",
      "11\n",
      "13\n",
      "17\n",
      "19\n",
      "23\n",
      "29\n",
      "31\n",
      "37\n",
      "41\n",
      "43\n",
      "47\n",
      "53\n",
      "59\n",
      "61\n",
      "67\n",
      "71\n",
      "73\n",
      "79\n",
      "83\n",
      "89\n",
      "97\n",
      "101\n",
      "103\n",
      "107\n",
      "109\n",
      "113\n",
      "127\n",
      "131\n",
      "137\n",
      "139\n",
      "149\n",
      "151\n",
      "157\n",
      "163\n",
      "167\n",
      "173\n",
      "179\n",
      "181\n",
      "191\n",
      "193\n",
      "197\n",
      "199\n",
      "211\n",
      "223\n",
      "227\n",
      "229\n",
      "233\n",
      "239\n",
      "241\n",
      "251\n",
      "257\n",
      "263\n",
      "269\n",
      "271\n",
      "277\n",
      "281\n",
      "283\n",
      "293\n",
      "307\n",
      "311\n",
      "313\n",
      "317\n",
      "331\n",
      "337\n",
      "347\n",
      "349\n",
      "353\n",
      "359\n",
      "367\n",
      "373\n",
      "379\n",
      "383\n",
      "389\n",
      "397\n",
      "401\n",
      "409\n",
      "419\n",
      "421\n",
      "431\n",
      "433\n",
      "439\n",
      "443\n",
      "449\n",
      "457\n",
      "461\n",
      "463\n",
      "467\n",
      "479\n",
      "487\n",
      "491\n",
      "499\n",
      "503\n",
      "509\n",
      "521\n",
      "523\n",
      "541\n"
     ]
    }
   ],
   "source": [
    "# 18\n",
    "\n",
    "\"\"\"\n",
    "The code is finding and printing the first 100 prime numbers.\n",
    "\"\"\"\n",
    "\n",
    "count_prime_2 = 0\n",
    "i = 1\n",
    "while count_prime_2 <= 99:\n",
    "    count = 0\n",
    "    for j in range(1, i + 1):\n",
    "        if i % j == 0:\n",
    "            count += 1\n",
    "    if count == 2:\n",
    "        print(i)\n",
    "        count_prime_2 += 1\n",
    "    i = i + 1"
   ]
  },
  {
   "cell_type": "code",
   "execution_count": 18,
   "metadata": {},
   "outputs": [
    {
     "name": "stdout",
     "output_type": "stream",
     "text": [
      "Sum of the prime numbers =  24133\n"
     ]
    }
   ],
   "source": [
    "# 19\n",
    "\n",
    "\"\"\"\n",
    "The code is finding the sum of the first 100 prime numbers.\n",
    "\"\"\"\n",
    "\n",
    "count_prime_3 = 0\n",
    "sumx = 0\n",
    "i = 1\n",
    "while count_prime_3 <= 99:\n",
    "    count = 0\n",
    "    for j in range(1, i + 1):\n",
    "        if i % j == 0:\n",
    "            count += 1\n",
    "    if count == 2:\n",
    "        sumx = sumx + i\n",
    "        count_prime_3 += 1\n",
    "    i = i + 1\n",
    "print(\"Sum of the prime numbers = \", sumx)"
   ]
  },
  {
   "cell_type": "code",
   "execution_count": 19,
   "metadata": {},
   "outputs": [
    {
     "name": "stdout",
     "output_type": "stream",
     "text": [
      "Hello, world\n",
      "H\n",
      "l\n",
      "o\n",
      " \n",
      "o\n",
      "l\n"
     ]
    }
   ],
   "source": [
    "# 20\n",
    "\n",
    "\"\"\"\n",
    "The code reads a string from the user, iterates through the string's characters, and prints every alternate character (starting from the first character). The output will be a sequence of characters from the original string, considering only the characters at even positions (index 0, 2, 4, etc.).\n",
    "\"\"\"\n",
    "\n",
    "str_1 = input()\n",
    "print(str_1)\n",
    "\n",
    "n = len(str_1)\n",
    "for i in range(n):\n",
    "    if i % 2 == 0:\n",
    "        print(str_1[i])"
   ]
  },
  {
   "cell_type": "code",
   "execution_count": 20,
   "metadata": {},
   "outputs": [
    {
     "name": "stdout",
     "output_type": "stream",
     "text": [
      "Hello, world\n",
      "e\n",
      "l\n",
      ",\n",
      "w\n",
      "r\n",
      "d\n"
     ]
    }
   ],
   "source": [
    "# 21\n",
    "\n",
    "\"\"\"\n",
    "The code reads a string from the user, iterates through the string's characters, and prints every alternate character (starting from the first character). The output will be a sequence of characters from the original string, considering only the characters at odd positions (index 1, 3, 5, etc.).\n",
    "\"\"\"\n",
    "\n",
    "str_2 = input()\n",
    "print(str_2)\n",
    "\n",
    "n = len(str_2)\n",
    "for i in range(n):\n",
    "    if i % 2 != 0:\n",
    "        print(str_2[i])"
   ]
  },
  {
   "cell_type": "code",
   "execution_count": 3,
   "metadata": {},
   "outputs": [
    {
     "name": "stdout",
     "output_type": "stream",
     "text": [
      "Hello\n",
      "world\n",
      "A\n",
      "b\n",
      "c\n",
      "Total length =  13\n"
     ]
    }
   ],
   "source": [
    "# 22 \n",
    "\n",
    "\"\"\"\n",
    "The code is asking the user to input 5 strings and then calculates the total length of all the strings combined.\n",
    "\"\"\"\n",
    "\n",
    "length = 0\n",
    "for _ in range(5):\n",
    "    str_3 = input()\n",
    "    length = length + len(str_3)\n",
    "    print(str_3)\n",
    "print(\"Total length = \", length)"
   ]
  },
  {
   "cell_type": "code",
   "execution_count": 6,
   "metadata": {},
   "outputs": [
    {
     "name": "stdout",
     "output_type": "stream",
     "text": [
      "string =  Hello\n",
      "character =  l\n",
      "index 2\n",
      "index 3\n"
     ]
    }
   ],
   "source": [
    "# 23\n",
    "\n",
    "\"\"\"\n",
    "The code is taking user input for a string (`str1`) and a character (`char1`). It then checks if the length of `char1` is equal to 1. If it is, it iterates through each character in `str1` and checks if it is equal to `char1`. If a match is found, it prints the index of that character in the string.\n",
    "\"\"\"\n",
    "\n",
    "str1 = input()\n",
    "char1 = input()\n",
    "print(\"string = \", str1)\n",
    "print(\"character = \", char1)\n",
    "\n",
    "if len(char1) == 1:\n",
    "    n = len(str1)\n",
    "    for i in range(n):\n",
    "        if str1[i] == char1:\n",
    "            print(\"index\", i)"
   ]
  },
  {
   "cell_type": "code",
   "execution_count": 8,
   "metadata": {},
   "outputs": [
    {
     "name": "stdout",
     "output_type": "stream",
     "text": [
      "a =  2\n"
     ]
    }
   ],
   "source": [
    "# 24 \n",
    "\n",
    "\"\"\"\n",
    "The code is asking the user to input a character five times. If the character inputted is \"a\", then the variable `a` is incremented by 1. Finally, the code prints the value of `a`.\n",
    "\"\"\"\n",
    "\n",
    "count_a = 0\n",
    "for i in range(5):\n",
    "    word = input()\n",
    "    a_appear = word.count(\"a\")\n",
    "    count_a = count_a + a_appear\n",
    "print(count_a)"
   ]
  },
  {
   "cell_type": "code",
   "execution_count": 4,
   "metadata": {},
   "outputs": [
    {
     "name": "stdout",
     "output_type": "stream",
     "text": [
      "word = Hello, world\n",
      "There is vowel\n"
     ]
    }
   ],
   "source": [
    "# 25 \n",
    "\n",
    "\"\"\"\n",
    "The code is checking whether a given word contains any vowel or not.\n",
    "\"\"\"\n",
    "\n",
    "vowel = [\"a\", \"e\", \"i\", \"o\", \"u\"]\n",
    "str_4 = input()\n",
    "print(\"word =\", str_4)\n",
    "\n",
    "hasVowel = any(i in vowel for i in vowel)\n",
    "if hasVowel:\n",
    "    print(\"There is vowel\")\n",
    "else:\n",
    "    print(\"There is no vowel\")"
   ]
  },
  {
   "cell_type": "code",
   "execution_count": 11,
   "metadata": {},
   "outputs": [
    {
     "name": "stdout",
     "output_type": "stream",
     "text": [
      "H*ll*\n"
     ]
    }
   ],
   "source": [
    "# 26\n",
    "\n",
    "\"\"\"\n",
    "The code is replacing all the vowels in the input string with asterisks.\n",
    "\"\"\"\n",
    "\n",
    "vowel = [\"a\", \"e\", \"i\", \"o\", \"u\"]\n",
    "str_5 = input()\n",
    "\n",
    "for i in vowel:\n",
    "    str_5 = str_5.replace(i, \"*\")\n",
    "print(str_5)"
   ]
  },
  {
   "cell_type": "code",
   "execution_count": 18,
   "metadata": {},
   "outputs": [
    {
     "name": "stdout",
     "output_type": "stream",
     "text": [
      " olleH\n"
     ]
    }
   ],
   "source": [
    "# 27\n",
    "\n",
    "\"\"\"\n",
    "The code is taking user input and storing it in the variable `str_6`. It then calculates the length of the input string using the `len()` function and stores it in the variable `n`.\n",
    "\"\"\"\n",
    "\n",
    "str_6 = input()\n",
    "n = len(str_6)\n",
    "reverse_str = \" \"\n",
    "\n",
    "for i in range(n-1, -1, -1):\n",
    "    reverse_str = reverse_str + str_6[i]\n",
    "print(reverse_str)"
   ]
  },
  {
   "cell_type": "code",
   "execution_count": 5,
   "metadata": {},
   "outputs": [
    {
     "name": "stdout",
     "output_type": "stream",
     "text": [
      " abcde\n"
     ]
    }
   ],
   "source": [
    "# 28\n",
    "\n",
    "\"\"\"\n",
    "The code is asking the user to input a string 5 times and then concatenating all the input strings together into a single string.\n",
    "\"\"\"\n",
    "concat_string = \" \"\n",
    "\n",
    "for i in range(5):\n",
    "    str_7 = input()\n",
    "    concat_string = concat_string + str_7\n",
    "print(concat_string)"
   ]
  },
  {
   "cell_type": "code",
   "execution_count": 11,
   "metadata": {},
   "outputs": [
    {
     "name": "stdout",
     "output_type": "stream",
     "text": [
      "Hello*****\n"
     ]
    }
   ],
   "source": [
    "# 29\n",
    "\n",
    "\"\"\"\n",
    "The code is asking the user to input a string and an integer number. It then checks if the length of the string is less than the integer number. If it is, it adds asterisks (*) to the end of the string until its length is equal to or greater than the integer number. Finally, it prints the modified string.\n",
    "\"\"\"\n",
    "\n",
    "str2 = input(\"Please insert a string: \")\n",
    "int2 = int(input(\"Please insert an integer number: \"))\n",
    "\n",
    "while len(str2) < int2:\n",
    "    str2 = str2 + \"*\"\n",
    "print(str2)"
   ]
  },
  {
   "cell_type": "code",
   "execution_count": 13,
   "metadata": {},
   "outputs": [
    {
     "name": "stdout",
     "output_type": "stream",
     "text": [
      "{'e', 'g', 'r', 'n'}\n"
     ]
    }
   ],
   "source": [
    "# 30\n",
    "\n",
    "\"\"\"\n",
    "The code is asking the user to input a string and storing it in the variable `str3`. Then, it converts the string `str3` into a set using the `set()` function. A set is a collection of unique elements, so any duplicate characters in the string will be removed. The resulting set is stored in the variable `set1`. Finally, the code prints the set `set1`.\n",
    "\"\"\"\n",
    "\n",
    "str3 = input(\"Please insert a string: \")\n",
    "set1 = set(str3) # Convert the string to a set, which keeps only unique members.\n",
    "\n",
    "print(set1)"
   ]
  },
  {
   "cell_type": "code",
   "execution_count": 14,
   "metadata": {},
   "outputs": [
    {
     "name": "stdout",
     "output_type": "stream",
     "text": [
      "a 2\n",
      "l 2\n",
      "l 2\n",
      "i 1\n",
      "g 1\n",
      "a 2\n",
      "t 1\n",
      "o 1\n",
      "r 1\n"
     ]
    }
   ],
   "source": [
    "# 31\n",
    "\n",
    "\"\"\"\n",
    "The code is asking the user to input a string and storing it in the variable `str4`. Then, it creates a set `set2` from the characters in `str4`. After that, the code is iterating over each character `i` in the string `str4`. For each character, it counts the number of occurrences of that character in the string using the `count()` method. Then, it prints the character `i` and its count.\n",
    "\"\"\"\n",
    "\n",
    "str4 = input(\"Please insert a string: \")\n",
    "set2 = set(str4)\n",
    "\n",
    "for i in str4:\n",
    "    count = str4.count(i)\n",
    "    print(i, count)"
   ]
  },
  {
   "cell_type": "code",
   "execution_count": 16,
   "metadata": {},
   "outputs": [
    {
     "name": "stdout",
     "output_type": "stream",
     "text": [
      "[0, 1, 2, 3, 4, 5, 6, 7, 8, 9, 10, 11, 12, 13, 14, 15, 16, 17, 18, 19]\n"
     ]
    }
   ],
   "source": [
    "# 32\n",
    "\n",
    "\"\"\"\n",
    "The code is creating an empty list called `list2` and then using a for loop to iterate through the range of numbers from 0 to 19. In each iteration, the current number `i` is appended to the `list2`. Finally, the code prints the contents of `list2`.\n",
    "\"\"\"\n",
    "\n",
    "list2 = []\n",
    "for i in range(20):\n",
    "    list2.append(i)\n",
    "print(list2)"
   ]
  },
  {
   "cell_type": "code",
   "execution_count": 18,
   "metadata": {},
   "outputs": [
    {
     "name": "stdout",
     "output_type": "stream",
     "text": [
      "[99, 98, 97, 96, 95, 94, 93, 92, 91, 90, 89, 88, 87, 86, 85, 84, 83, 82, 81, 80]\n"
     ]
    }
   ],
   "source": [
    "# 33\n",
    "\n",
    "\"\"\"\n",
    "The code is creating a list called `list3` using the `range()` function. The `range()` function is generating a sequence of numbers starting from 99 and going down to 79 (inclusive) with a step of -1. The `list()` function is then converting this sequence into a list. Finally, the `print()` function is used to display the contents of `list3`.\n",
    "\"\"\"\n",
    "\n",
    "list3 = list(range(99, 79, -1)) \n",
    "print(list3)"
   ]
  },
  {
   "cell_type": "code",
   "execution_count": 5,
   "metadata": {},
   "outputs": [
    {
     "name": "stdout",
     "output_type": "stream",
     "text": [
      "[1, 2, 4, 5]\n"
     ]
    }
   ],
   "source": [
    "# 34\n",
    "\n",
    "\"\"\"\n",
    "The code is creating an empty list called `list4`. It then prompts the user to input an integer number 5 times using a for loop. Each input is stored in the variable `member`. If the `member` is not already in `list4`, it is added to the list using the `append()` method. Finally, the code prints the contents of `list4`.\n",
    "\"\"\"\n",
    "\n",
    "list4 = []\n",
    "\n",
    "for _ in range(5): # replace unused for index with underscore\n",
    "    member = int(input(\"Please insert an integer number: \"))\n",
    "    if member not in list4:\n",
    "        list4.append(member)\n",
    "print(list4)"
   ]
  },
  {
   "cell_type": "code",
   "execution_count": 2,
   "metadata": {},
   "outputs": [
    {
     "name": "stdout",
     "output_type": "stream",
     "text": [
      "['Hello', 'world', 'A', 'B', 'C']\n"
     ]
    }
   ],
   "source": [
    "# 35\n",
    "\n",
    "\"\"\"\n",
    "The code is creating an empty list called `list5` and then entering a while loop. The loop continues until the length of `list5` is equal to 5. Inside the loop, the code prompts the user to input an element and stores it in the variable `element`. If the `element` is not already in `list5`, it is appended to the list. Finally, the code prints the contents of `list5`.\n",
    "\"\"\"\n",
    "\n",
    "list5 = []\n",
    "\n",
    "while len(list5) != 5:\n",
    "    element = input(\"Please insert element: \")\n",
    "    if element not in list5:\n",
    "        list5.append(element)\n",
    "print(list5)"
   ]
  },
  {
   "cell_type": "code",
   "execution_count": 7,
   "metadata": {},
   "outputs": [
    {
     "name": "stdout",
     "output_type": "stream",
     "text": [
      "[10, 9, 8, 7, 6, 5, 4, 3, 2, 1]\n"
     ]
    }
   ],
   "source": [
    "# 36\n",
    "\n",
    "\"\"\"\n",
    "The code is creating a new list called `reverse_list6` that contains the elements of `list6` in reverse order. It does this by iterating over the indices of `list6` in reverse order using the `range()` function, and appending the corresponding element to `reverse_list6`. Finally, it prints the contents of `reverse_list6`.\n",
    "\"\"\"\n",
    "\n",
    "list6 = [1, 2, 3, 4, 5, 6, 7, 8, 9, 10]\n",
    "n = len(list6)\n",
    "reverse_list6 = []\n",
    "\n",
    "for i in range(n - 1, -1, -1):\n",
    "    reverse_list6.append(list6[i])\n",
    "print(reverse_list6)"
   ]
  },
  {
   "cell_type": "code",
   "execution_count": 15,
   "metadata": {},
   "outputs": [
    {
     "name": "stdout",
     "output_type": "stream",
     "text": [
      "1\n",
      "3\n",
      "5\n",
      "7\n",
      "9\n"
     ]
    }
   ],
   "source": [
    "# 37\n",
    "\n",
    "\"\"\"\n",
    "The code is iterating over each element in the list `list7`. For each element, it checks if `(i - 1) % 2 == 0`, which means if the element minus 1 is divisible by 2. If the condition is true, it prints the element. If the condition is false, it continues to the next iteration.\n",
    "\"\"\"\n",
    "\n",
    "list7 = [1, 2, 3, 4, 5, 6, 7, 8, 9, 10]\n",
    "n = len(list7)\n",
    "\n",
    "for i in range(n):\n",
    "    if i % 2 == 0:\n",
    "        print(list7[i])"
   ]
  },
  {
   "cell_type": "code",
   "execution_count": 12,
   "metadata": {},
   "outputs": [
    {
     "name": "stdout",
     "output_type": "stream",
     "text": [
      "2\n",
      "4\n",
      "6\n",
      "8\n",
      "10\n"
     ]
    }
   ],
   "source": [
    "# 38\n",
    "\n",
    "\"\"\"\n",
    "The code is iterating over each element in the list `list8` and checking if `(i - 1) % 2` is not equal to 0. If the condition is true, it means that the element is odd, and it will be printed.\n",
    "\"\"\"\n",
    "\n",
    "list8 = [1, 2, 3, 4, 5, 6, 7, 8, 9, 10]\n",
    "n = len(list8)\n",
    "\n",
    "for i in n:\n",
    "    if i % 2 != 0:\n",
    "        print(list8[i])"
   ]
  },
  {
   "cell_type": "code",
   "execution_count": 13,
   "metadata": {},
   "outputs": [
    {
     "name": "stdout",
     "output_type": "stream",
     "text": [
      "3\n",
      "6\n",
      "9\n"
     ]
    }
   ],
   "source": [
    "# 39\n",
    "\n",
    "\"\"\"\n",
    "The code is creating a list called `list9` with numbers from 1 to 10. Then, it iterates over each element in `list9` using a for loop. If the current element is divisible by 3 (i.e., the remainder of the division is 0), it prints the element. In this case, it will print the numbers 3, 6, and 9.\n",
    "\"\"\"\n",
    "\n",
    "list9 = [1, 2, 3, 4, 5, 6, 7, 8, 9, 10]\n",
    "\n",
    "for i in list9:\n",
    "    if i % 3 == 0:\n",
    "        print(i)"
   ]
  },
  {
   "cell_type": "code",
   "execution_count": 6,
   "metadata": {},
   "outputs": [
    {
     "name": "stdout",
     "output_type": "stream",
     "text": [
      "index = 4\n"
     ]
    }
   ],
   "source": [
    "# 40\n",
    "\n",
    "\"\"\"\n",
    "The code is creating a list called `list10` with the elements \"a\", \"l\", \"l\", \"i\", \"g\", \"a\", \"t\", \"o\", \"r\". It then prompts the user to input a string and assigns it to the variable `str5`.\n",
    "\"\"\"\n",
    "\n",
    "list10 = [\"a\", \"l\", \"l\", \"i\", \"g\", \"a\", \"t\", \"o\", \"r\"]\n",
    "str5 = input(\"Please insert a string: \")\n",
    "n = len(list10)\n",
    "\n",
    "for i in range(n):\n",
    "    if list10[i] == str5:\n",
    "        print(\"index =\", i)"
   ]
  },
  {
   "cell_type": "code",
   "execution_count": 1,
   "metadata": {},
   "outputs": [
    {
     "name": "stdout",
     "output_type": "stream",
     "text": [
      "['a', 2, 'a', 4, 'a', 6, 'a', 8, 'a', 10, 'a', 12, 'a', 14, 'a', 16, 'a', 18, 'a', 20, 'a', 22, 'a', 24, 'a']\n"
     ]
    }
   ],
   "source": [
    "# 41\n",
    "\n",
    "\"\"\"\n",
    "The code is iterating through each element in the list `list11` and checking if the index `i` is divisible by 2 (i.e., if it is an even index). If the index is even, it replaces the element at that index with the string \"a\". Finally, it prints the modified list `list11`.\n",
    "\"\"\"\n",
    "\n",
    "list11 = [1, 2, 3, 4, 5, 6, 7, 8, 9, 10, 11, 12, 13, 14, 15, 16, 17, 18, 19, 20, 21, 22, 23, 24, 25]\n",
    "n = len(list11)\n",
    "\n",
    "for i in range(n):\n",
    "    if i % 2 == 0:\n",
    "        list11[i] = \"a\"\n",
    "print(list11)"
   ]
  },
  {
   "cell_type": "code",
   "execution_count": 2,
   "metadata": {},
   "outputs": [
    {
     "name": "stdout",
     "output_type": "stream",
     "text": [
      "[1, 'b', 3, 'b', 5, 'b', 7, 'b', 9, 'b', 11, 'b', 13, 'b', 15, 'b', 17, 'b', 19, 'b', 21, 'b', 23, 'b', 25]\n"
     ]
    }
   ],
   "source": [
    "# 42\n",
    "\n",
    "\"\"\"\n",
    "The code is iterating through each element in the list `list12` using a for loop. It checks if the index `i` is odd (i.e., not divisible by 2) using the condition `i % 2 != 0`. If the condition is true, it replaces the element at index `i` with the string \"b\". Finally, it prints the modified list `list12`.\n",
    "\"\"\"\n",
    "\n",
    "list12 = [1, 2, 3, 4, 5, 6, 7, 8, 9, 10, 11, 12, 13, 14, 15, 16, 17, 18, 19, 20, 21, 22, 23, 24, 25]\n",
    "n = len(list12)\n",
    "\n",
    "for i in range(n):\n",
    "    if i % 2 != 0:\n",
    "        list12[i] = \"b\"\n",
    "print(list12)"
   ]
  },
  {
   "cell_type": "code",
   "execution_count": 8,
   "metadata": {},
   "outputs": [
    {
     "name": "stdout",
     "output_type": "stream",
     "text": [
      "['square', 2, 3, 'square', 5, 6, 7, 8, 'square', 10, 11, 12, 13, 14, 15, 'square', 17, 18, 19, 20, 21, 22, 23, 24, 'square']\n"
     ]
    }
   ],
   "source": [
    "# 43\n",
    "\n",
    "\"\"\"\n",
    "The code is importing the `math` module, which provides various mathematical functions and operations. Then, the code is iterating over each element in the list `list13` and checking if the square root of the element is an integer. If it is, the element is replaced with the string \"square\". Finally, the modified list is printed.\n",
    "\"\"\"\n",
    "\n",
    "import math\n",
    "\n",
    "list13 = [1, 2, 3, 4, 5, 6, 7, 8, 9, 10, 11, 12, 13, 14, 15, 16, 17, 18, 19, 20, 21, 22, 23, 24, 25]\n",
    "n = len(list13)\n",
    "\n",
    "for i in range(n):\n",
    "    if math.sqrt(list13[i]).is_integer():\n",
    "        list13[i] = \"square\"\n",
    "print(list13)"
   ]
  },
  {
   "cell_type": "code",
   "execution_count": 15,
   "metadata": {},
   "outputs": [
    {
     "name": "stdout",
     "output_type": "stream",
     "text": [
      "['*', 'a', '*', 'b', '*', 'c', '*', 'd', '*', 'e', 'f']\n"
     ]
    }
   ],
   "source": [
    "# 44\n",
    "\n",
    "\"\"\"\n",
    "The code is inserting the character \"*\" at the specified indices in `list_y` based on the values in `list_x`.\n",
    "\"\"\"\n",
    "\n",
    "list_x = [0, 2, 4, 6, 8]\n",
    "list_y = [\"a\", \"b\", \"c\", \"d\", \"e\", \"f\"]\n",
    "n = len(list_x)\n",
    "\n",
    "for i in range(n):\n",
    "    list_y.insert(list_x[i], \"*\")\n",
    "print(list_y)"
   ]
  },
  {
   "cell_type": "code",
   "execution_count": 20,
   "metadata": {},
   "outputs": [
    {
     "name": "stdout",
     "output_type": "stream",
     "text": [
      "['a', 'A', 'b', 'B', 'c', 'C', 'd', 'e', 'f']\n"
     ]
    }
   ],
   "source": [
    "# 45\n",
    "\n",
    "\"\"\"\n",
    "The code is inserting elements into the list `list_y` based on user input.\n",
    "\"\"\"\n",
    "\n",
    "list_y = [\"a\", \"b\", \"c\", \"d\", \"e\", \"f\"]\n",
    "\n",
    "for _ in range(3):\n",
    "    index_insert = int(input(\"Please insert index: \"))\n",
    "    element_insert = input(\"Please insert element: \")\n",
    "    list_y.insert(index_insert, element_insert)\n",
    "print(list_y)"
   ]
  },
  {
   "cell_type": "code",
   "execution_count": 21,
   "metadata": {},
   "outputs": [
    {
     "name": "stdout",
     "output_type": "stream",
     "text": [
      "['a', 'b', 'C', 'c', 'd', 'e', 'E', 'f']\n"
     ]
    }
   ],
   "source": [
    "# 46\n",
    "\n",
    "\"\"\"\n",
    "The code is asking the user to input an index and an element three times. It then checks if the element is not already in the list `list_y`. If it is not in the list, it inserts the element at the specified index. Finally, it prints the updated list `list_y`.\n",
    "\"\"\"\n",
    "\n",
    "list_y = [\"a\", \"b\", \"c\", \"d\", \"e\", \"f\"]\n",
    "\n",
    "for _ in range(3):\n",
    "    index_insert = int(input(\"Please insert index: \"))\n",
    "    element_insert = input(\"Please insert element: \")\n",
    "    if element_insert not in list_y:\n",
    "        list_y.insert(index_insert, element_insert)\n",
    "print(list_y)"
   ]
  },
  {
   "cell_type": "code",
   "execution_count": 27,
   "metadata": {},
   "outputs": [
    {
     "name": "stdout",
     "output_type": "stream",
     "text": [
      "['a', 'b', 'c', 'e', 'f']\n"
     ]
    }
   ],
   "source": [
    "# 47\n",
    "\n",
    "\"\"\"\n",
    "The code is creating a list called `list_y` with elements \"a\", \"b\", \"c\", \"d\", \"e\", and \"f\". It then prompts the user to input an integer number. If the input number is less than or equal to the length of `list_y` minus 1, it deletes the element at the index specified by the input number using the `del` keyword. Finally, it prints the updated `list_y`.\n",
    "\"\"\"\n",
    "\n",
    "list_y = [\"a\", \"b\", \"c\", \"d\", \"e\", \"f\"]\n",
    "num1 = int(input(\"Please insert integer number: \"))\n",
    "\n",
    "if num1 <= len(list_y) - 1:\n",
    "    del list_y[num1]\n",
    "print(list_y)"
   ]
  },
  {
   "cell_type": "code",
   "execution_count": 28,
   "metadata": {},
   "outputs": [
    {
     "name": "stdout",
     "output_type": "stream",
     "text": [
      "['a', 'b', 'd', 'e', 'f']\n"
     ]
    }
   ],
   "source": [
    "# 48\n",
    "\n",
    "\"\"\"\n",
    "The code is creating a list called `list_y` with elements \"a\", \"b\", \"c\", \"d\", \"e\", and \"f\". It then prompts the user to input a string and assigns it to the variable `str6`. Then, the code is checking if the string `str6` is present in the list `list_y`. If it is, it removes the string from the list using the `remove()` method. Finally, it prints the updated list `list_y`.\n",
    "\"\"\"\n",
    "\n",
    "list_y = [\"a\", \"b\", \"c\", \"d\", \"e\", \"f\"]\n",
    "str6 = input(\"Please insert a string: \")\n",
    "\n",
    "if str6 in list_y:\n",
    "    list_y.remove(str6)\n",
    "print(list_y)"
   ]
  },
  {
   "cell_type": "code",
   "execution_count": 32,
   "metadata": {},
   "outputs": [
    {
     "name": "stdout",
     "output_type": "stream",
     "text": [
      "[1, 2, 3, 4, 6, 7, 8, 9, 10]\n"
     ]
    }
   ],
   "source": [
    "# 49\n",
    "\n",
    "\"\"\"\n",
    "\"\"\"\n",
    "list14 = [1, 2, 3, 4, 5, 6, 7, 8, 9, 10]\n",
    "int3 = int(input(\"Please insert an integer number: \"))\n",
    "\n",
    "if int3 in list14:\n",
    "    index = list14.index(int3)\n",
    "    del list14[index]\n",
    "else:\n",
    "    list14.append(int3)\n",
    "print(list14)"
   ]
  },
  {
   "cell_type": "code",
   "execution_count": 3,
   "metadata": {},
   "outputs": [
    {
     "name": "stdout",
     "output_type": "stream",
     "text": [
      "[1, 2, 3, 4, 5, 6, 7, 8, 9, 10, 11]\n"
     ]
    }
   ],
   "source": [
    "# 50\n",
    "\n",
    "\"\"\"\n",
    "The code is creating a list called `list14` with the numbers 1 to 10. It then prompts the user to input an integer number. If the input number is already in the list, it removes that number from the list. Otherwise, it appends the input number to the list. Finally, it prints the updated list.\n",
    "\"\"\"\n",
    "\n",
    "list14 = [1, 2, 3, 4, 5, 6, 7, 8, 9, 10]\n",
    "int4 = int(input(\"Please insert an integer number: \"))\n",
    "\n",
    "if int4 in list14:\n",
    "    list14.remove(int4)\n",
    "else:\n",
    "    list14.append(int4)\n",
    "print(list14)"
   ]
  },
  {
   "cell_type": "code",
   "execution_count": 5,
   "metadata": {},
   "outputs": [
    {
     "name": "stdout",
     "output_type": "stream",
     "text": [
      "[2, 4, 6, 8, 10]\n"
     ]
    }
   ],
   "source": [
    "# 51\n",
    "\n",
    "\"\"\"\n",
    "The code is removing all the even-indexed elements from the list `list14`.\n",
    "\"\"\"\n",
    "\n",
    "list14 = [1, 2, 3, 4, 5, 6, 7, 8, 9, 10]\n",
    "n = len(list14)\n",
    "\n",
    "for i in range(n - 1, -1, -1):\n",
    "    if i % 2 == 0:\n",
    "        del list14[i]\n",
    "print(list14)"
   ]
  },
  {
   "cell_type": "code",
   "execution_count": 9,
   "metadata": {},
   "outputs": [
    {
     "name": "stdout",
     "output_type": "stream",
     "text": [
      "[2, 4, 6, 8, 10]\n"
     ]
    }
   ],
   "source": [
    "# 52\n",
    "\n",
    "\"\"\"\n",
    "The code is removing elements from the list `list14` that have even indices.\n",
    "\"\"\"\n",
    "\n",
    "list14 = [1, 2, 3, 4, 5, 6, 7, 8, 9, 10]\n",
    "n = len(list14)\n",
    "\n",
    "for i in range(n - 1, -1, -1): \n",
    "    if i % 2 == 0:\n",
    "        list14.remove(list14[i])\n",
    "print(list14)"
   ]
  },
  {
   "cell_type": "code",
   "execution_count": 10,
   "metadata": {},
   "outputs": [
    {
     "name": "stdout",
     "output_type": "stream",
     "text": [
      "[1, 5, 6, 7, 11, 12, 13, 17, 18, 19, 23, 24, 25]\n"
     ]
    }
   ],
   "source": [
    "# 53\n",
    "\n",
    "\"\"\"\n",
    "The code is creating a list called `list15` containing numbers from 1 to 25. It then calculates the length of `list15` and assigns it to the variable `n`. Then, the code is iterating over the elements of `list15` in reverse order. For each element, it checks if the element is divisible by 2 and not divisible by 3. If this condition is true, it deletes the element from `list15`. If the element is not divisible by 2, it checks if it is divisible by 3. If this condition is true, it also deletes the element from `list15`. Finally, it prints the modified `list15` after removing the elements that meet the specified conditions.\n",
    "\"\"\"\n",
    "\n",
    "list15 = list(range(1, 26))\n",
    "n = len(list15)\n",
    "\n",
    "for i in range(n - 1, -1, -1):\n",
    "    if list15[i] % 2 == 0:\n",
    "        if list15[i] % 3 != 0:\n",
    "            del list15[i]\n",
    "    else:\n",
    "        if list15[i] % 3 == 0:\n",
    "            del list15[i]\n",
    "print(list15)"
   ]
  },
  {
   "cell_type": "code",
   "execution_count": 1,
   "metadata": {},
   "outputs": [
    {
     "name": "stdout",
     "output_type": "stream",
     "text": [
      "[1, 3, 5, 6, 7, 9, 11, 12, 13, 15, 17, 18, 19, 21, 23, 24, 25]\n"
     ]
    }
   ],
   "source": [
    "# 54\n",
    "\n",
    "\"\"\"\n",
    "The code generates a list `list15` containing numbers from 1 to 25. It calculates the length `n` of `list15` and then iterates through its elements in reverse order. For each element, the code checks if it's even but not divisible by 3; if so, the element is removed. Similarly, if the element is not even, the code checks if it's divisible by 3, and if true, the element is also removed. The resulting modified `list15` is printed, containing elements that meet the specified conditions.\n",
    "\"\"\"\n",
    "\n",
    "list15 = list(range(1, 26))\n",
    "n = len(list15)\n",
    "\n",
    "for i in range(n - 1, -1, -1):\n",
    "    if (list15[i] % 2 == 0) and (list15[i] % 3 != 0):\n",
    "        list15.remove(list15[i])\n",
    "print(list15)"
   ]
  },
  {
   "cell_type": "code",
   "execution_count": 4,
   "metadata": {},
   "outputs": [
    {
     "name": "stdout",
     "output_type": "stream",
     "text": [
      "[1, 2, 3, 4, 5, 6, 7, 8, 10]\n"
     ]
    }
   ],
   "source": [
    "# 55\n",
    "\n",
    "\"\"\"\n",
    "The code initializes a list named `list16` containing numbers from 1 to 10. It prompts the user to input an integer number `int5`. If the input number is found in `list16`, the code removes that number from the list. Finally, it prints the modified `list16` without the removed element, presenting the resulting list.\n",
    "\"\"\"\n",
    "\n",
    "list16 = list(range(1, 11))\n",
    "int5 = int(input(\"Please insert an integer number: \"))\n",
    "\n",
    "if int5 in list16:\n",
    "    list16.remove(int5)\n",
    "print(list16)"
   ]
  },
  {
   "cell_type": "code",
   "execution_count": 6,
   "metadata": {},
   "outputs": [
    {
     "name": "stdout",
     "output_type": "stream",
     "text": [
      "[[2, 4, 6], [5, 7, 9], [8, 10, 12]]\n"
     ]
    }
   ],
   "source": [
    "# 56\n",
    "\n",
    "\"\"\"\n",
    "The code is performing matrix addition. It creates two matrices, `matrix1` and `matrix2`, and initializes a variable `sum_matrix` as a matrix of zeros with the same dimensions as `matrix1` and `matrix2`.\n",
    "\"\"\"\n",
    "\n",
    "matrix1 = [[1, 2, 3], [4, 5, 6], [7, 8, 9]]\n",
    "matrix2 = [[1, 2, 3], [1, 2, 3], [1, 2, 3]]\n",
    "n_rows = len(matrix1) # number of rows\n",
    "n_columns = len(matrix1[0]) # number of column\n",
    "sum_matrix = [[0, 0, 0], [0, 0, 0], [0, 0, 0]]\n",
    "\n",
    "for r in range(n_rows):\n",
    "    for c in range(n_columns):\n",
    "        sum_matrix[r][c] = matrix1[r][c] + matrix2[r][c]\n",
    "print(sum_matrix)"
   ]
  },
  {
   "cell_type": "code",
   "execution_count": 7,
   "metadata": {},
   "outputs": [
    {
     "name": "stdout",
     "output_type": "stream",
     "text": [
      "[[1, 4, 9], [4, 10, 18], [7, 16, 27]]\n"
     ]
    }
   ],
   "source": [
    "# 57\n",
    "\n",
    "\"\"\"\n",
    "Multiply two matrices element-wise and print the resulting product matrix.\n",
    "\"\"\"\n",
    "\n",
    "matrix1 = [[1, 2, 3], [4, 5, 6], [7, 8, 9]]\n",
    "matrix2 = [[1, 2, 3], [1, 2, 3], [1, 2, 3]]\n",
    "n_rows = len(matrix1) \n",
    "n_columns = len(matrix1[0]) \n",
    "product_matrix = [[1, 1, 1], [1, 1, 1], [1, 1, 1]]\n",
    "\n",
    "for r in range(n_rows):\n",
    "    for c in range(n_columns):\n",
    "        product_matrix[r][c] = matrix1[r][c] * matrix2[r][c]\n",
    "print(product_matrix)"
   ]
  },
  {
   "cell_type": "code",
   "execution_count": 8,
   "metadata": {},
   "outputs": [
    {
     "name": "stdout",
     "output_type": "stream",
     "text": [
      "[[1, 4, 7], [2, 5, 8], [3, 6, 9]]\n"
     ]
    }
   ],
   "source": [
    "# 58\n",
    "\n",
    "\"\"\"\n",
    "The code is creating a transpose of the matrix `matrix1`.\n",
    "\"\"\"\n",
    "\n",
    "matrix1 = [[1, 2, 3], [4, 5, 6], [7, 8, 9]]\n",
    "transpose_matrix1 = [[0, 0, 0], [0, 0, 0], [0, 0, 0]]\n",
    "n_rows = len(matrix1) \n",
    "n_columns = len(matrix1[0])\n",
    "\n",
    "for r in range(n_rows):\n",
    "    for c in range(n_columns):\n",
    "        transpose_matrix1[c][r] = matrix1[r][c]\n",
    "print(transpose_matrix1)"
   ]
  },
  {
   "cell_type": "code",
   "execution_count": 15,
   "metadata": {},
   "outputs": [
    {
     "name": "stdout",
     "output_type": "stream",
     "text": [
      "[[1, 5], [2, 6], [3, 7], [4, 8]]\n"
     ]
    }
   ],
   "source": [
    "# 59\n",
    "\n",
    "\"\"\"\n",
    "The code is creating a transpose of the given matrix `matrix3`.\n",
    "\"\"\"\n",
    "\n",
    "matrix3 = [[1, 2, 3, 4], [5, 6, 7, 8]]\n",
    "n_rows = len(matrix3) \n",
    "n_columns = len(matrix3[0])\n",
    "transpose_matrix3 = [[0 for _ in range(n_rows)] for _ in range(n_columns)]\n",
    "\n",
    "for r in range(n_rows):\n",
    "    for c in range(n_columns):\n",
    "        transpose_matrix3[c][r] = matrix3[r][c]\n",
    "print(transpose_matrix3)"
   ]
  },
  {
   "cell_type": "code",
   "execution_count": 17,
   "metadata": {},
   "outputs": [
    {
     "name": "stdout",
     "output_type": "stream",
     "text": [
      "['a', 'b', 'c', 'd', 'e', 'f']\n"
     ]
    }
   ],
   "source": [
    "# 60\n",
    "\n",
    "\"\"\"\n",
    "The code is creating a list called `list17` with elements \"a\", \"b\", \"c\", \"d\", \"e\", and \"f\". Then, it is creating a tuple called `tuple1` and assigning it the same values as `list17`. Finally, it is printing the value of `tuple1`, which will be the same as `list17`.\n",
    "\"\"\"\n",
    "\n",
    "list17 = [\"a\", \"b\", \"c\", \"d\", \"e\", \"f\"]\n",
    "tuple1 = list17\n",
    "print(tuple1)"
   ]
  },
  {
   "cell_type": "code",
   "execution_count": 3,
   "metadata": {},
   "outputs": [
    {
     "name": "stdout",
     "output_type": "stream",
     "text": [
      "165\n"
     ]
    }
   ],
   "source": [
    "# 61\n",
    "\n",
    "\"\"\"\n",
    "The code is calculating the sum of the squares of the even-indexed elements in the tuple `tuple2`.\n",
    "\"\"\"\n",
    "\n",
    "tuple2 = tuple(range(1, 11))\n",
    "n = len(tuple2)\n",
    "result_1 = 0\n",
    "\n",
    "for i in range(n):\n",
    "    if i % 2 == 0:\n",
    "        result_1 = result_1 + (tuple2[i] ** 2)\n",
    "print(result_1)"
   ]
  },
  {
   "cell_type": "code",
   "execution_count": 4,
   "metadata": {},
   "outputs": [
    {
     "name": "stdout",
     "output_type": "stream",
     "text": [
      "220\n"
     ]
    }
   ],
   "source": [
    "# 62\n",
    "\n",
    "\"\"\"\n",
    "The code is calculating the sum of the squares of the odd-indexed elements in the tuple `tuple2`.\n",
    "\"\"\"\n",
    "\n",
    "tuple2 = tuple(range(1, 11))\n",
    "n = len(tuple2)\n",
    "result_2 = 0\n",
    "\n",
    "for i in range(n):\n",
    "    if i % 2 != 0:\n",
    "        result_2 = result_2 + (tuple2[i] ** 2)\n",
    "print(result_2)"
   ]
  },
  {
   "cell_type": "code",
   "execution_count": 12,
   "metadata": {},
   "outputs": [
    {
     "name": "stdout",
     "output_type": "stream",
     "text": [
      "2\n",
      "3\n",
      "5\n",
      "7\n",
      "11\n",
      "13\n",
      "17\n",
      "19\n",
      "23\n"
     ]
    }
   ],
   "source": [
    "# 63\n",
    "\n",
    "\"\"\"\n",
    "The code is finding and printing all the prime numbers up to 25.\n",
    "\"\"\"\n",
    "\n",
    "tuple3 = tuple(range(1, 26))\n",
    "n = len(tuple3)\n",
    "\n",
    "for i in range(n):\n",
    "    count_prime_4 = 0\n",
    "    for j in range(1, i + 1):\n",
    "        if i % j == 0:\n",
    "            count_prime_4 += 1\n",
    "    if count_prime_4 == 2:\n",
    "        print(i)"
   ]
  },
  {
   "cell_type": "code",
   "execution_count": 14,
   "metadata": {},
   "outputs": [
    {
     "name": "stdout",
     "output_type": "stream",
     "text": [
      "13.0\n"
     ]
    }
   ],
   "source": [
    "# 64 \n",
    "\n",
    "\"\"\"\n",
    "The code is creating a tuple named `tuple3` that contains the numbers from 1 to 25 (inclusive).\n",
    "\"\"\"\n",
    "\n",
    "tuple3 = tuple(range(1, 26))\n",
    "n = len(tuple3)\n",
    "average = sum(tuple3) / n\n",
    "print(average)"
   ]
  },
  {
   "cell_type": "code",
   "execution_count": 15,
   "metadata": {},
   "outputs": [],
   "source": [
    "# 65\n",
    "\n",
    "\"\"\"\n",
    "The code is creating a tuple named `tuple2` that contains the numbers from 1 to 10 using the `range()` function and the `tuple()` constructor. Then, the code is checking if the value of the variable `int6` is present in the tuple `tuple2`. If it is, it will print \"yes\". Otherwise, it will print \"no\".\n",
    "\"\"\"\n",
    "\n",
    "tuple2 = tuple(range(1, 11))\n",
    "int6 = int(input(\"Please insert an integer number: \"))\n",
    "\n",
    "if int6 in tuple2:\n",
    "    print(\"yes\")\n",
    "else:\n",
    "    print(\"no\")"
   ]
  },
  {
   "cell_type": "code",
   "execution_count": 19,
   "metadata": {},
   "outputs": [
    {
     "name": "stdout",
     "output_type": "stream",
     "text": [
      "The input value is equal to the length of the tuple.\n"
     ]
    }
   ],
   "source": [
    "# 66\n",
    "\n",
    "\"\"\"\n",
    "The code is creating a tuple named `tuple2` containing the numbers from 1 to 10 using the `range()` function. Then, it calculates the length of the tuple using the `len()` function and assigns it to the variable `n`. After that, the code is asking the user to input an integer number and storing it in the variable `int7`. Then, it compares the value of `int7` with the length of the tuple `n`.\n",
    "\"\"\"\n",
    "\n",
    "tuple2 = tuple(range(1, 11))\n",
    "n = len(tuple2)\n",
    "int7 = int(input(\"Please insert an integer number: \"))\n",
    "\n",
    "if int7 > n:\n",
    "    print(\"The input value is greater than the length of the tuple.\")\n",
    "elif int7 < n:\n",
    "    print(\"The input value is less than the length of the tuple.\")\n",
    "elif int7 == n:\n",
    "    print(\"The input value is equal to the length of the tuple.\")"
   ]
  },
  {
   "cell_type": "code",
   "execution_count": 2,
   "metadata": {},
   "outputs": [
    {
     "name": "stdout",
     "output_type": "stream",
     "text": [
      "{'one': 1, 'two': 2, 'three': 3, 'four': 4}\n"
     ]
    }
   ],
   "source": [
    "# 67\n",
    "\n",
    "\"\"\"\n",
    "The code is creating a dictionary `dict1` where the keys are the elements of `list_text` and the values are the corresponding elements of `list_number`. It does this by iterating over the indices of `list_text` and `list_number` using a for loop, and assigning the key-value pairs to `dict1`. Finally, it prints the resulting dictionary.\n",
    "\"\"\"\n",
    "\n",
    "list_text = [\"one\", \"two\", \"three\", \"four\"]\n",
    "list_number = [1, 2, 3, 4]\n",
    "n = len(list_text)\n",
    "dict1 = {}\n",
    "\n",
    "for i in range(n):\n",
    "    dict1[list_text[i]] = list_number[i]\n",
    "print(dict1)"
   ]
  },
  {
   "cell_type": "code",
   "execution_count": 3,
   "metadata": {},
   "outputs": [
    {
     "name": "stdout",
     "output_type": "stream",
     "text": [
      "{1: 'ant', 2: 'bird', 3: 'cat', 4: 'dog'}\n"
     ]
    }
   ],
   "source": [
    "# 68\n",
    "\n",
    "\"\"\"\n",
    "The code is creating a dictionary `dict2` where the keys are the elements of `tuple4` and the values are the corresponding elements of `tuple5`. It does this by iterating over the indices of `tuple4` using a for loop, and for each index `i`, it assigns `tuple4[i]` as the key and `tuple5[i]` as the value in the dictionary. Finally, it prints the dictionary `dict2`.\n",
    "\"\"\"\n",
    "\n",
    "tuple4 = (1, 2, 3, 4)\n",
    "tuple5 = (\"ant\", \"bird\", \"cat\", \"dog\")\n",
    "n = len(tuple4)\n",
    "dict2 = {}\n",
    "\n",
    "for i in range(n):\n",
    "    dict2[tuple4[i]] = tuple5[i]\n",
    "print(dict2)"
   ]
  },
  {
   "cell_type": "code",
   "execution_count": 6,
   "metadata": {},
   "outputs": [
    {
     "name": "stdout",
     "output_type": "stream",
     "text": [
      "{0: 0, 1: 2, 2: 4, 3: 6, 4: 8, 5: 10, 6: 12, 7: 14, 8: 16, 9: 18}\n"
     ]
    }
   ],
   "source": [
    "# 69\n",
    "\n",
    "\"\"\"\n",
    "The code is creating a dictionary called `dict3` using a dictionary comprehension. The keys of the dictionary are the numbers from 0 to 9, and the values are twice the corresponding key value. The code then prints the dictionary `dict3`.\n",
    "\"\"\"\n",
    "\n",
    "dict3 = {i: i *2 for i in range(10)}\n",
    "print(dict3)"
   ]
  },
  {
   "cell_type": "code",
   "execution_count": 8,
   "metadata": {},
   "outputs": [
    {
     "name": "stdout",
     "output_type": "stream",
     "text": [
      "{'armchair': 700, 'basketball': 500, 'candy': 3}\n"
     ]
    }
   ],
   "source": [
    "# 70\n",
    "\n",
    "\"\"\"\n",
    "The code is asking the user to input an integer number `n`. Then, it prompts the user `n` times to input a text and an integer number. The texts are stored in a list called `list_str`, and the integer numbers are stored in a list called `list_int`. Finally, the code creates a dictionary `dict4` where the texts are the keys and the corresponding integer numbers are the values. The dictionary is then printed.\n",
    "\"\"\"\n",
    "\n",
    "n = int(input(\"Please insert an integer number: \"))\n",
    "list_str = []\n",
    "list_int = []\n",
    "for _ in range(n):\n",
    "    input_str = input(\"Please insert a text: \")\n",
    "    list_str.append(input_str)\n",
    "for _ in range(n):\n",
    "    input_int = int(input(\"Please insert an integer number: \"))\n",
    "    list_int.append(input_int)\n",
    "dict4 = {list_str[i]: list_int[i] for i in range(n)}\n",
    "print(dict4)"
   ]
  },
  {
   "cell_type": "code",
   "execution_count": 1,
   "metadata": {},
   "outputs": [
    {
     "name": "stdout",
     "output_type": "stream",
     "text": [
      "{'armchair': 700, 500: 'basketball', 'candy': 3}\n"
     ]
    }
   ],
   "source": [
    "# 71\n",
    "\n",
    "\"\"\"\n",
    "The code is asking the user to input an integer number `n`. Then, it prompts the user `n` times to input a text and an integer number. The texts are stored in the list `list_str2` and the integers are stored in the list `list_int2`. After that, the code is creating a dictionary `dict5` and populating it with key-value pairs based on the inputs provided by the user.\n",
    "\"\"\"\n",
    "\n",
    "n = int(input(\"Please insert an integer number: \"))\n",
    "list_str2 = []\n",
    "list_int2 = []\n",
    "dict5 = {}\n",
    "\n",
    "for _ in range(n):\n",
    "    input_str = input(\"Please insert a text: \")\n",
    "    list_str2.append(input_str)\n",
    "for _ in range(n):\n",
    "    input_int = int(input(\"Please insert an integer number: \"))\n",
    "    list_int2.append(input_int)\n",
    "for i in range(n):\n",
    "    if i % 2 == 0:\n",
    "        dict5[list_str2[i]] = list_int2[i]\n",
    "    else:\n",
    "        dict5[list_int2[i]] = list_str2[i]\n",
    "print(dict5)"
   ]
  },
  {
   "cell_type": "code",
   "execution_count": 3,
   "metadata": {},
   "outputs": [
    {
     "name": "stdout",
     "output_type": "stream",
     "text": [
      "{'mean': 5.0, 'variance': 10.0}\n"
     ]
    }
   ],
   "source": [
    "# 72\n",
    "\n",
    "\"\"\"Calculate the mean and variance of a list of floating-point numbers.\n",
    "\n",
    "This program takes an integer 'n' as input, representing the number of elements in a list.\n",
    "Then, it prompts the user to input 'n' floating-point numbers and calculates the mean\n",
    "and variance of the entered numbers using the statistics module. The results are\n",
    "stored in a dictionary with keys 'mean' and 'variance' and printed.\n",
    "\n",
    "Inputs:\n",
    "- n: Number of elements in the list\n",
    "\n",
    "Outputs:\n",
    "- dict6: A dictionary containing the calculated mean and variance\n",
    "\n",
    "Requirements:\n",
    "- Python 3.x\n",
    "- statistics module\n",
    "\"\"\"\n",
    "\n",
    "import statistics as s\n",
    "n = int(input(\"Please insert an integer number: \"))\n",
    "list18 = []\n",
    "\n",
    "for _ in range(n):\n",
    "    member = float(input(\"Please insert a floating number: \"))\n",
    "    list18.append(member)\n",
    "    \n",
    "dict6 = {\"mean\": s.mean(list18), \"variance\": s.variance(list18)}\n",
    "print(dict6)"
   ]
  },
  {
   "cell_type": "code",
   "execution_count": 5,
   "metadata": {},
   "outputs": [
    {
     "name": "stdout",
     "output_type": "stream",
     "text": [
      "carrot = 46 kcal\n"
     ]
    }
   ],
   "source": [
    "# 73\n",
    "\n",
    "\"\"\"\n",
    "Retrieve or update calorie information for food items.\n",
    "\n",
    "This program demonstrates the use of a dictionary 'dict7' to store calorie information\n",
    "for different food items. The user is prompted to input a word representing a food item.\n",
    "If the input word exists as a key in the dictionary 'dict7', the corresponding calorie\n",
    "information is printed. Otherwise, a new entry is added to the dictionary with the\n",
    "input word as the key and a placeholder value \"wait for assignment\".\n",
    "\n",
    "Inputs:\n",
    "- str7: A string representing a food item or key for the dictionary\n",
    "\n",
    "Outputs:\n",
    "- If 'str7' is found in 'dict7':\n",
    "  - Print the food item and its calorie information\n",
    "- If 'str7' is not found in 'dict7':\n",
    "  - Add a new entry to 'dict7' with 'str7' as the key and \"wait for assignment\" as the value\n",
    "  - Print the updated 'dict7'\n",
    "\n",
    "Example Usage:\n",
    "$ Please insert a word: apple\n",
    "Output: apple = 52 kcal\n",
    "\n",
    "$ Please insert a word: orange\n",
    "Output: {'apple': '52 kcal', 'banana': '132 kcal', 'carrot': '46 kcal', 'orange': 'wait for assignment'}\n",
    "\"\"\"\n",
    "\n",
    "dict7 = {\"apple\": \"52 kcal\", \"banana\": \"132 kcal\", \"carrot\": \"46 kcal\"}\n",
    "str7 = input(\"Please insert a word: \")\n",
    "\n",
    "if str7 in dict7:\n",
    "    print(f\"{str7} = {dict7[str7]}\")\n",
    "else:\n",
    "    dict7[str7] = \"wait for assignment\"\n",
    "    print(dict7)"
   ]
  },
  {
   "cell_type": "code",
   "execution_count": null,
   "metadata": {},
   "outputs": [],
   "source": [
    "# 74\n",
    "\n",
    "\"\"\"The code snippet is creating a dictionary called `dict7` with three key-value pairs. The keys are strings representing different fruits, and the values are strings representing the calorie content of each fruit. Then, the code is checking if the value of the variable `str8` exists as a key in the dictionary `dict7`. If it does, it assigns the value `\"wait for new value\"` to the key `str8` in the dictionary. If it doesn't, it assigns the value `\"wait for assignment\"` to the key `str8` in the dictionary.\"\"\"\n",
    "\n",
    "dict7 = {\"apple\": \"52 kcal\", \"banana\": \"132 kcal\", \"carrot\": \"46 kcal\"}\n",
    "str8 = input(\"Please insert a word: \")\n",
    "\n",
    "dict7[str8] = \"wait for new value\" if str8 in dict7 else \"wait for assignment\""
   ]
  },
  {
   "cell_type": "code",
   "execution_count": 7,
   "metadata": {},
   "outputs": [
    {
     "data": {
      "text/plain": [
       "'yes'"
      ]
     },
     "execution_count": 7,
     "metadata": {},
     "output_type": "execute_result"
    }
   ],
   "source": [
    "# 75\n",
    "\n",
    "\"\"\"\n",
    "Check if a value exists in a dictionary's values.\n",
    "\n",
    "This program checks if a given input value exists in the values of the dictionary 'dict8'.\n",
    "The dictionary contains information about a person's name, age, and job. The user is prompted\n",
    "to input a word representing a value. If the input value exists in the values of 'dict8',\n",
    "the program outputs \"yes\". Otherwise, it outputs \"no\".\n",
    "\n",
    "Inputs:\n",
    "- str9: A string representing the value to be checked in the dictionary's values\n",
    "\n",
    "Outputs:\n",
    "- \"yes\" if 'str9' is found in the values of 'dict8', otherwise \"no\"\n",
    "\"\"\"\n",
    "\n",
    "dict8 = {\"name\": \"Mario\", \"age\": \"30\", \"job\": \"mushroom picker\"}\n",
    "str9 = input(\"Please insert a word: \")\n",
    "\n",
    "\"yes\" if str9 in dict8.values() else \"no\""
   ]
  },
  {
   "cell_type": "code",
   "execution_count": 8,
   "metadata": {},
   "outputs": [
    {
     "name": "stdout",
     "output_type": "stream",
     "text": [
      "job\n"
     ]
    }
   ],
   "source": [
    "# 76\n",
    "\n",
    "\"\"\"\n",
    "Retrieve dictionary keys based on a given value.\n",
    "\n",
    "This program searches for a given input value in the values of the dictionary 'dict8'.\n",
    "The dictionary contains information about a person's name, age, and job. If the input\n",
    "value exists in the dictionary's values, the program iterates through the dictionary's keys\n",
    "to find the corresponding key and prints it.\n",
    "\n",
    "Inputs:\n",
    "- str10: A string representing the value to be searched in the dictionary's values\n",
    "\n",
    "Outputs:\n",
    "- If 'str10' is found in the values of 'dict8':\n",
    "  - Print the key(s) associated with the input value\n",
    "\"\"\"\n",
    "\n",
    "dict8 = {\"name\": \"Mario\", \"age\": \"30\", \"job\": \"mushroom picker\"}\n",
    "str10 = input(\"Please insert a word: \")\n",
    "\n",
    "if str10 in dict8.values():\n",
    "    for i in dict8:\n",
    "        if dict8[i] == str10:\n",
    "            print(i)"
   ]
  },
  {
   "cell_type": "code",
   "execution_count": 13,
   "metadata": {},
   "outputs": [
    {
     "name": "stdout",
     "output_type": "stream",
     "text": [
      "{'name': 'Mario', 'age': '30', 'job': 'mushroom picker', 'new_key': 'book'}\n"
     ]
    }
   ],
   "source": [
    "# 77\n",
    "\n",
    "\"\"\"\n",
    "Manage a dictionary of person information.\n",
    "\n",
    "This program interacts with a dictionary 'dict8' that stores information about a person's name,\n",
    "age, and job. The user is prompted to input a word representing a value. If the input value exists\n",
    "in the values of 'dict8', the program iterates through the dictionary's keys to find the\n",
    "corresponding key, deletes the key-value pair, and prints the updated dictionary. If the input\n",
    "value is not found in the dictionary's values, the program adds a new key-value pair to the\n",
    "dictionary and prints the updated dictionary.\n",
    "\n",
    "Inputs:\n",
    "- str11: A string representing the value to be searched or added in the dictionary\n",
    "\n",
    "Outputs:\n",
    "- If 'str11' is found in the values of 'dict8':\n",
    "  - Delete the key-value pair and print the updated dictionary\n",
    "- If 'str11' is not found in the values of 'dict8':\n",
    "  - Add a new key-value pair with 'str11' as the value and \"new_key\" as the key, and print the updated dictionary\n",
    "\"\"\"\n",
    "\n",
    "dict8 = {\"name\": \"Mario\", \"age\": \"30\", \"job\": \"mushroom picker\"}\n",
    "str11 = input(\"Please insert a word: \")\n",
    "\n",
    "if str11 in dict8.values():\n",
    "    for i in dict8:\n",
    "        if dict8[i] == str11:\n",
    "            del dict8[i]\n",
    "            print(dict8)\n",
    "else:\n",
    "    dict8[\"new_key\"] = str11\n",
    "    print(dict8)"
   ]
  },
  {
   "cell_type": "code",
   "execution_count": 14,
   "metadata": {},
   "outputs": [
    {
     "name": "stdout",
     "output_type": "stream",
     "text": [
      "{'name': 'Mario'}\n"
     ]
    }
   ],
   "source": [
    "# 78\n",
    "\n",
    "\"\"\"\n",
    "Remove specific keys from a dictionary.\n",
    "\n",
    "This program interacts with a dictionary 'dict8' that contains information about a person's\n",
    "name, age, and job. It also uses a list 'list19' that specifies keys to be removed from the dictionary.\n",
    "The program iterates through the keys in 'list19' and checks if each key exists in the dictionary.\n",
    "If a key is found, it deletes the corresponding key-value pair from 'dict8'. Finally, it prints the\n",
    "updated dictionary after removing the specified keys.\n",
    "\n",
    "Inputs:\n",
    "- dict8: A dictionary containing person information\n",
    "- list19: A list of keys to be removed from the dictionary\n",
    "\n",
    "Outputs:\n",
    "- Updated 'dict8' with specified keys removed\n",
    "\"\"\"\n",
    "\n",
    "dict8 = {\"name\": \"Mario\", \"age\": \"30\", \"job\": \"mushroom picker\"}\n",
    "list19 = [\"first_name\", \"last_name\", \"age\", \"job\"]\n",
    "n = len(list19)\n",
    "\n",
    "for i in range(n):\n",
    "    if list19[i] in dict8:\n",
    "        del dict8[list19[i]]\n",
    "print(dict8)"
   ]
  },
  {
   "cell_type": "code",
   "execution_count": 15,
   "metadata": {},
   "outputs": [
    {
     "name": "stdout",
     "output_type": "stream",
     "text": [
      "{'Age': 24}\n"
     ]
    }
   ],
   "source": [
    "# 79\n",
    "\n",
    "\"\"\"\n",
    "Manage a dictionary of user inputs.\n",
    "\n",
    "This program demonstrates how to interact with a dictionary 'dict9' to store user inputs.\n",
    "The user is prompted to input a word ('key_name') and a corresponding number. If the input\n",
    "word already exists as a key in 'dict9', the program deletes the key-value pair. If the\n",
    "input word does not exist, the program adds a new key-value pair with the input word as the\n",
    "key and the user-provided number as the value. Finally, the program prints the updated dictionary.\n",
    "\n",
    "Inputs:\n",
    "- key_name: A string representing the key to be added or deleted in the dictionary\n",
    "- user-provided number: An integer representing the value associated with the key\n",
    "\n",
    "Outputs:\n",
    "- Updated 'dict9' after adding a new key-value pair or deleting an existing key-value pair\n",
    "\"\"\"\n",
    "\n",
    "\n",
    "dict9 = {}\n",
    "key_name = input(\"Please insert a word: \")\n",
    "\n",
    "if key_name in dict9:\n",
    "    del dict9[key_name]\n",
    "else:\n",
    "    dict9[key_name] = int(input(\"Please insert a number: \"))\n",
    "print(dict9)"
   ]
  },
  {
   "cell_type": "code",
   "execution_count": 18,
   "metadata": {},
   "outputs": [
    {
     "name": "stdout",
     "output_type": "stream",
     "text": [
      "{'b', 'e', 'f', 'c', 'a', 'd'}\n"
     ]
    }
   ],
   "source": [
    "# 80\n",
    "\n",
    "\"\"\"The code is creating a list called `list20` with elements \"a\", \"b\", \"c\", \"d\", \"e\", and \"f\". Then, it is converting the list into a set called `set3` using the `set()` function. Finally, it is printing the set `set3`.\"\"\"\n",
    "\n",
    "list20 = [\"a\", \"b\", \"c\", \"d\", \"e\", \"f\"]\n",
    "set3 = set(list20)\n",
    "print(set3)"
   ]
  },
  {
   "cell_type": "code",
   "execution_count": 20,
   "metadata": {},
   "outputs": [
    {
     "name": "stdout",
     "output_type": "stream",
     "text": [
      "{1, 2, 3, 4}\n"
     ]
    }
   ],
   "source": [
    "# 81\n",
    "\n",
    "\"\"\"The code is creating an empty set called `set4`. It then prompts the user to input 5 integer numbers. Each number is added to the set using the `add()` method. Finally, the code prints the contents of `set4`.\"\"\"\n",
    "\n",
    "set4 = set()\n",
    "\n",
    "for _ in range(5):\n",
    "    set_member = int(input(\"Please insert integer number: \"))\n",
    "    set4.add(set_member)\n",
    "print(set4)"
   ]
  },
  {
   "cell_type": "code",
   "execution_count": 24,
   "metadata": {},
   "outputs": [
    {
     "name": "stdout",
     "output_type": "stream",
     "text": [
      "{1, 2, 3, 4, 5}\n"
     ]
    }
   ],
   "source": [
    "# 82\n",
    "\n",
    "\"\"\"Collect and display unique integer values in a set.\n",
    "\n",
    "This program demonstrates the process of collecting user-input integer values and storing them in a set.\n",
    "The user is prompted to input integer numbers five times. Each input value is added to the set 'set5'\n",
    "using the .add() method, ensuring that only unique values are stored. After the loop completes, the program\n",
    "prints the resulting set, displaying the unique integer values provided by the user.\n",
    "\n",
    "Inputs:\n",
    "- set5: An empty set to store the unique integer values\n",
    "- n: An integer representing the loop iteration count\n",
    "\n",
    "Outputs:\n",
    "- set5: A set containing the unique integer values provided by the user\"\"\"\n",
    "\n",
    "set5 = set()\n",
    "n = 0\n",
    "\n",
    "while n < 5:\n",
    "    set_member2 = int(input(\"Please insert integer number: \"))\n",
    "    set5.add(set_member2)\n",
    "    n += 1\n",
    "print(set5)"
   ]
  },
  {
   "cell_type": "code",
   "execution_count": 4,
   "metadata": {},
   "outputs": [
    {
     "name": "stdout",
     "output_type": "stream",
     "text": [
      "{1, 2, 3, 'c', 'b'}\n"
     ]
    }
   ],
   "source": [
    "# 83\n",
    "\n",
    "\"\"\"\n",
    "Manage a set of mixed data types by removing specific elements.\n",
    "\n",
    "This program showcases how to interact with a set 'set6' that contains a combination of integer\n",
    "values and string values. The user is prompted to input a string ('str12'). If the input string\n",
    "exists as an element in 'set6', the program removes that element from the set. The updated set\n",
    "is then printed to the console.\n",
    "\n",
    "Inputs:\n",
    "- set6: A set containing mixed data types including integers and strings\n",
    "- str12: A string representing the element to be removed from the set\n",
    "\n",
    "Outputs:\n",
    "- Updated 'set6' with the specified element removed\n",
    "\"\"\"\n",
    "\n",
    "set6 = {1, 2, 3, \"a\", \"b\", \"c\"}\n",
    "str12 = input(\"Please insert a string: \")\n",
    "\n",
    "if str12 in set6:\n",
    "    set6.remove(str12)\n",
    "print(set6)"
   ]
  },
  {
   "cell_type": "code",
   "execution_count": 6,
   "metadata": {},
   "outputs": [
    {
     "name": "stdout",
     "output_type": "stream",
     "text": [
      "set from list = {'r', 't', 'n'}\n",
      "\n",
      "set from tuple = {'e', 't', 'n'}\n"
     ]
    }
   ],
   "source": [
    "# 84\n",
    "\n",
    "\"\"\"Create sets from a list and a tuple with selective elements.\n",
    "\n",
    "This program demonstrates the process of creating sets from a list 'list21' and a tuple 'tuple6'.\n",
    "The sets are populated by selecting specific elements based on their indices. The program iterates\n",
    "through the elements of the list and tuple, adding elements to the sets based on the conditions.\n",
    "After the sets are created, the program prints the resulting sets.\n",
    "\n",
    "Inputs:\n",
    "- list21: A list of characters\n",
    "- tuple6: A tuple of characters\n",
    "- set_from_list: An empty set to store selected elements from the list\n",
    "- set_from_tuple: An empty set to store selected elements from the tuple\n",
    "- n_list: An integer representing the length of 'list21'\n",
    "- n_tuple: An integer representing the length of 'tuple6'\n",
    "\n",
    "Outputs:\n",
    "- set_from_list: A set containing elements from 'list21' with even indices\n",
    "- set_from_tuple: A set containing elements from 'tuple6' with odd indices\"\"\"\n",
    "\n",
    "\n",
    "list21 = [\"t\", \"u\", \"r\", \"i\", \"n\", \"g\"]\n",
    "tuple6 = (\"n\", \"e\", \"w\", \"t\", \"o\", \"n\")\n",
    "set_from_list = set()\n",
    "set_from_tuple = set()\n",
    "n_list = len(list21)\n",
    "n_tuple = len(tuple6)\n",
    "\n",
    "for i in range(n_list):\n",
    "    if i % 2 == 0:\n",
    "        set_from_list.add(list21[i])\n",
    "for j in range(n_tuple):\n",
    "    if j % 2 != 0:\n",
    "        set_from_tuple.add(tuple6[j])\n",
    "        \n",
    "print(f\"\"\"set from list = {set_from_list}\\n\n",
    "set from tuple = {set_from_tuple}\"\"\")"
   ]
  },
  {
   "cell_type": "code",
   "execution_count": 7,
   "metadata": {},
   "outputs": [
    {
     "name": "stdout",
     "output_type": "stream",
     "text": [
      "{'r', 't', 'n', 'e'}\n",
      "{'r', 't', 'n', 'e'}\n"
     ]
    }
   ],
   "source": [
    "# 85\n",
    "\n",
    "# The code is creating two sets, `set_from_list` and `set_from_tuple`, and then performing a union operation on them.\n",
    "\n",
    "set_from_list = {'r', 't', 'n'}\n",
    "set_from_tuple = {'e', 't', 'n'}\n",
    "\n",
    "print(set_from_list.union(set_from_tuple))\n",
    "print(set_from_list | set_from_tuple)"
   ]
  },
  {
   "cell_type": "code",
   "execution_count": 8,
   "metadata": {},
   "outputs": [
    {
     "name": "stdout",
     "output_type": "stream",
     "text": [
      "{'t', 'n'}\n",
      "{'t', 'n'}\n"
     ]
    }
   ],
   "source": [
    "# 86\n",
    "\n",
    "# The code is creating two sets, `set_from_list` and `set_from_tuple`, and then performing a intersection operation on them.\n",
    "\n",
    "set_from_list = {'r', 't', 'n'}\n",
    "set_from_tuple = {'e', 't', 'n'}\n",
    "\n",
    "print(set_from_list.intersection(set_from_tuple))\n",
    "print(set_from_list & set_from_tuple)"
   ]
  },
  {
   "cell_type": "code",
   "execution_count": 9,
   "metadata": {},
   "outputs": [
    {
     "name": "stdout",
     "output_type": "stream",
     "text": [
      "set7 - set8 = {'c', 'b'}\n",
      "\n",
      "set8 - set7 = {'e', 'd'}\n"
     ]
    }
   ],
   "source": [
    "# 87\n",
    "\n",
    "\"\"\"Perform set difference operations on two sets.\n",
    "\n",
    "This program demonstrates the set difference operation on two sets, 'set7' and 'set8'.\n",
    "The user is prompted to input three words for each set, which are added to the respective sets.\n",
    "After both sets are populated, the program calculates and prints the set difference results,\n",
    "showing elements that are unique to each set.\n",
    "\n",
    "Inputs:\n",
    "- set7: An empty set to store words entered by the user (first set)\n",
    "- set8: An empty set to store words entered by the user (second set)\n",
    "\n",
    "Outputs:\n",
    "- The set difference between 'set7' and 'set8': Elements present in 'set7' but not in 'set8'\n",
    "- The set difference between 'set8' and 'set7': Elements present in 'set8' but not in 'set7'\n",
    "\"\"\"\n",
    "\n",
    "set7 = set()\n",
    "set8 = set()\n",
    "\n",
    "for _ in range(3):\n",
    "    member2 = (input(\"Please insert a word: \"))\n",
    "    set7.add(member2)\n",
    "for _ in range(3):\n",
    "    member3 = (input(\"Please insert a word: \"))\n",
    "    set8.add(member3)\n",
    "\n",
    "print(f\"\"\"set7 - set8 = {set7.difference(set8)}\\n\n",
    "set8 - set7 = {set8.difference(set7)}\"\"\")"
   ]
  },
  {
   "cell_type": "code",
   "execution_count": 11,
   "metadata": {},
   "outputs": [
    {
     "name": "stdout",
     "output_type": "stream",
     "text": [
      "[3.0, 5.0, 10.0, 10.9, 2.0]\n",
      "max = 10.9\n"
     ]
    }
   ],
   "source": [
    "# 88\n",
    "\n",
    "\"\"\"Collect a list of floating-point numbers and find the maximum value.\n",
    "\n",
    "This program demonstrates the process of collecting user-input floating-point numbers and\n",
    "populating a list 'list22'. The user is prompted to input numbers five times, which are\n",
    "added to the list. After all inputs are collected, the program calculates and displays\n",
    "the list of numbers and the maximum value using the built-in 'max()' function.\n",
    "\n",
    "Inputs:\n",
    "- list22: An empty list to store the user-provided floating-point numbers\n",
    "\n",
    "Outputs:\n",
    "- list22: A list containing the collected floating-point numbers\n",
    "- Maximum value: The maximum value among the collected numbers\"\"\"\n",
    "\n",
    "list22 = []\n",
    "for _ in range(5):\n",
    "    number2 = float(input(\"Please insert a number: \"))\n",
    "    list22.append(number2)\n",
    "print(list22)\n",
    "print(f\"max = {max(list22)}\")"
   ]
  },
  {
   "cell_type": "code",
   "execution_count": 16,
   "metadata": {},
   "outputs": [
    {
     "name": "stdout",
     "output_type": "stream",
     "text": [
      "[1.0, 2.0, 3.0, 5.0, 5.0]\n",
      "max = 5.0\n",
      "Count of maximum value = 2\n"
     ]
    }
   ],
   "source": [
    "# 89\n",
    "\n",
    "\"\"\"Analyze a list of float numbers to find the maximum value and its count.\n",
    "\n",
    "This program collects user-input floating-point numbers and populates a list 'list23'.\n",
    "The user is prompted to input numbers five times, which are added to the list. After\n",
    "all inputs are collected, the program calculates and displays the list of numbers,\n",
    "the maximum value using the built-in 'max()' function, and the count of occurrences\n",
    "of the maximum value in the list.\n",
    "\n",
    "Inputs:\n",
    "- list23: An empty list to store the user-provided floating-point numbers\n",
    "\n",
    "Outputs:\n",
    "- list23: A list containing the collected floating-point numbers\n",
    "- Maximum value: The maximum value among the collected numbers\n",
    "- Count of the maximum value: The number of occurrences of the maximum value in the list\"\"\"\n",
    "\n",
    "list23 = []\n",
    "for _ in range(5):\n",
    "    number3 = float(input(\"Please insert a float number: \"))\n",
    "    list23.append(number3)\n",
    "print(list23)\n",
    "print(f\"\"\"max = {max(list23)}\\nCount of maximum value = {list23.count(max(list23))}\"\"\")"
   ]
  },
  {
   "cell_type": "code",
   "execution_count": 23,
   "metadata": {},
   "outputs": [
    {
     "name": "stdout",
     "output_type": "stream",
     "text": [
      "{'Brazil': 125000.0, 'China': 250000.0, 'Germany': 55000.0, 'Japan': 75000.0, 'Sweden': 80000.0}\n",
      "max product sale = 250000.0 from China\n"
     ]
    }
   ],
   "source": [
    "# 90\n",
    "\n",
    "\"\"\"Track product sales by country and find the country with the highest sales.\n",
    "\n",
    "This program allows the user to input product sales data for different countries.\n",
    "A list of countries 'country' is provided, and the user is prompted to input product\n",
    "sales values for each country. The sales data is stored in a dictionary 'dict10', where\n",
    "each country is associated with its respective product sales. After all inputs are collected,\n",
    "the program displays the sales data dictionary and identifies the country with the highest\n",
    "product sales along with the corresponding sales value.\n",
    "\n",
    "Inputs:\n",
    "- country: A list of country names\n",
    "- n: An integer representing the length of the 'country' list\n",
    "- dict10: An empty dictionary to store country-product sales associations\n",
    "\n",
    "Outputs:\n",
    "- dict10: A dictionary containing country-product sales associations\n",
    "- Country with the highest sales: The name of the country with the highest product sales\n",
    "- Maximum product sale: The value of the highest product sale\"\"\"\n",
    "\n",
    "country = [\"Brazil\", \"China\", \"Germany\", \"Japan\", \"Sweden\"]\n",
    "n = len(country)\n",
    "dict10 = {}\n",
    "\n",
    "for i in range(n):\n",
    "    product_sales = float(input(\"Please insert product sales: \"))\n",
    "    dict10[country[i]] = product_sales\n",
    "print(dict10)\n",
    "print(f\"max product sale = {max(dict10.values())} from {max(dict10, key=dict10.get)}\")"
   ]
  },
  {
   "cell_type": "code",
   "execution_count": 26,
   "metadata": {},
   "outputs": [
    {
     "name": "stdout",
     "output_type": "stream",
     "text": [
      "[2.5, 4.0, 5.0, 10.0, 8.0]\n",
      "min = 2.5\n"
     ]
    }
   ],
   "source": [
    "# 91\n",
    "\n",
    "\"\"\"Collect a list of floating-point numbers and find the minimum value.\n",
    "\n",
    "This program demonstrates the process of collecting user-input floating-point numbers and\n",
    "populating a list 'list24'. The user is prompted to input numbers five times, which are\n",
    "added to the list. After all inputs are collected, the program calculates and displays\n",
    "the list of numbers and the minimum value using the built-in 'min()' function.\n",
    "\n",
    "Inputs:\n",
    "- list24: An empty list to store the user-provided floating-point numbers\n",
    "\n",
    "Outputs:\n",
    "- list24: A list containing the collected floating-point numbers\n",
    "- Minimum value: The minimum value among the collected numbers\"\"\"\n",
    "\n",
    "list24 = []\n",
    "\n",
    "for _ in range(5):\n",
    "    number4 = float(input(\"Please insert a float number: \"))\n",
    "    list24.append(number4)\n",
    "print(list24)\n",
    "print(f\"min = {min(list24)}\")"
   ]
  },
  {
   "cell_type": "code",
   "execution_count": 27,
   "metadata": {},
   "outputs": [
    {
     "name": "stdout",
     "output_type": "stream",
     "text": [
      "[1.0, 3.0, 2.0, 2.0, 5.0]\n",
      "min = 1.0\n",
      "Count of minimum value = 1\n"
     ]
    }
   ],
   "source": [
    "# 92\n",
    "\n",
    "\"\"\"Collect a list of floating-point numbers, find the minimum value, and count its occurrences.\n",
    "\n",
    "This program demonstrates the process of collecting user-input floating-point numbers and\n",
    "populating a list 'list25'. The user is prompted to input numbers five times, which are\n",
    "added to the list. After all inputs are collected, the program calculates and displays\n",
    "the list of numbers, the minimum value using the built-in 'min()' function, and the count\n",
    "of occurrences of the minimum value in the list.\n",
    "\n",
    "Inputs:\n",
    "- list25: An empty list to store the user-provided floating-point numbers\n",
    "\n",
    "Outputs:\n",
    "- list25: A list containing the collected floating-point numbers\n",
    "- Minimum value: The minimum value among the collected numbers\n",
    "- Count of minimum value: The number of occurrences of the minimum value in the list\"\"\"\n",
    "\n",
    "list25 = []\n",
    "\n",
    "for _ in range(5):\n",
    "    number5 = float(input(\"Please insert float number: \"))\n",
    "    list25.append(number5)\n",
    "print(list25)\n",
    "print(f\"\"\"min = {min(list25)}\\nCount of minimum value = {list25.count(min(list25))}\"\"\")"
   ]
  },
  {
   "cell_type": "code",
   "execution_count": 29,
   "metadata": {},
   "outputs": [
    {
     "name": "stdout",
     "output_type": "stream",
     "text": [
      "{'Brazil': 2500.0, 'China': 45000.0, 'Germany': 60000.0, 'Japan': 125000.0, 'Sweden': 55000.0}\n",
      "min product sale = 2500.0 from Brazil\n"
     ]
    }
   ],
   "source": [
    "# 93\n",
    "\n",
    "\"\"\"Track product sales by country and find the country with the lowest sales.\n",
    "\n",
    "This program allows the user to input product sales data for different countries.\n",
    "A list of countries 'country' is provided, and the user is prompted to input product\n",
    "sales values for each country. The sales data is stored in a dictionary 'dict11', where\n",
    "each country is associated with its respective product sales. After all inputs are collected,\n",
    "the program displays the sales data dictionary and identifies the country with the lowest\n",
    "product sales along with the corresponding sales value.\n",
    "\n",
    "Inputs:\n",
    "- country: A list of country names\n",
    "- n: An integer representing the length of the 'country' list\n",
    "- dict11: An empty dictionary to store country-product sales associations\n",
    "\n",
    "Outputs:\n",
    "- dict11: A dictionary containing country-product sales associations\n",
    "- Country with the lowest sales: The name of the country with the lowest product sales\n",
    "- Minimum product sale: The value of the lowest product sale\"\"\"\n",
    "\n",
    "country = [\"Brazil\", \"China\", \"Germany\", \"Japan\", \"Sweden\"]\n",
    "n = len(country)\n",
    "dict11 = {}\n",
    "\n",
    "for i in range(n):\n",
    "    product_sales2 = float(input(\"Please insert product sales: \"))\n",
    "    dict11[country[i]] = product_sales2\n",
    "print(dict11)\n",
    "print(f\"min product sale = {min(dict11.values())} from {min(dict11, key=dict11.get)}\")"
   ]
  },
  {
   "cell_type": "code",
   "execution_count": 31,
   "metadata": {},
   "outputs": [
    {
     "name": "stdout",
     "output_type": "stream",
     "text": [
      "median = 5\n"
     ]
    }
   ],
   "source": [
    "# 94\n",
    "\n",
    "\"\"\"Calculate and display the median of a given list of numbers.\n",
    "\n",
    "This program calculates the median of a provided list of numbers using the 'median()' function\n",
    "from the 'statistics' module. The list of numbers is given as 'list26'. After the median is\n",
    "calculated, the program displays the result.\n",
    "\n",
    "Inputs:\n",
    "- list26: A list of numbers for which the median will be calculated\n",
    "\n",
    "Outputs:\n",
    "- Median value: The median of the provided list of numbers\n",
    "\n",
    "Requirements:\n",
    "- Python 3.x\n",
    "- 'statistics' module (imported as 's')\"\"\"\n",
    "\n",
    "import statistics as s\n",
    "\n",
    "list26 = [1, 3, 7, 9, 2, 7, 5, 1, 8]\n",
    "print(f\"median = {s.median(list26)}\")"
   ]
  },
  {
   "cell_type": "code",
   "execution_count": 32,
   "metadata": {},
   "outputs": [
    {
     "name": "stdout",
     "output_type": "stream",
     "text": [
      "median = 5\n"
     ]
    }
   ],
   "source": [
    "# 95\n",
    "\n",
    "\"\"\"Calculate and display the median of a given list of numbers.\n",
    "\n",
    "This program calculates the median of a provided list of numbers using the 'median()' function\n",
    "from the 'statistics' module. The list of numbers is given as 'list27'. After the median is\n",
    "calculated, the program displays the result.\n",
    "\n",
    "Inputs:\n",
    "- list27: A list of numbers for which the median will be calculated\n",
    "\n",
    "Outputs:\n",
    "- Median value: The median of the provided list of numbers\n",
    "\n",
    "Requirements:\n",
    "- Python 3.x\n",
    "- 'statistics' module (imported as 's')\"\"\"\n",
    "\n",
    "import statistics as s\n",
    "\n",
    "list27 = [6, 5, 7, 9, 8, 1, 3, 5, 7, 2]\n",
    "print(f\"median = {s.median(list27)}\")"
   ]
  },
  {
   "cell_type": "code",
   "execution_count": 2,
   "metadata": {},
   "outputs": [
    {
     "name": "stdout",
     "output_type": "stream",
     "text": [
      "median = 35000\n"
     ]
    }
   ],
   "source": [
    "# 96 \n",
    "\n",
    "\"\"\"Calculate and display the median of a dictionary's values.\n",
    "\n",
    "This program calculates the median of the values in a provided dictionary using the 'median()'\n",
    "function from the 'statistics' module. The dictionary 'data' contains country names as keys\n",
    "and their corresponding sales values as values. After calculating the median of the sales values,\n",
    "the program displays the result.\n",
    "\n",
    "Inputs:\n",
    "- data: A dictionary containing country-sales associations\n",
    "\n",
    "Outputs:\n",
    "- Median sales value: The median of the sales values in the provided dictionary\n",
    "\n",
    "Requirements:\n",
    "- Python 3.x\n",
    "- 'statistics' module (imported as 's')\"\"\"\n",
    "\n",
    "import statistics as s\n",
    "\n",
    "data = {\"Brazil\": 35000, \"China\": 24000, \"Germany\": 42000, \"Japan\": 53000, \"Sweden\": 17000}\n",
    "print(f\"median = {s.median(data.values())}\")"
   ]
  },
  {
   "cell_type": "code",
   "execution_count": 3,
   "metadata": {},
   "outputs": [
    {
     "name": "stdout",
     "output_type": "stream",
     "text": [
      "{2.5, 3.0, 6.0, 7.0, 9.0}\n"
     ]
    }
   ],
   "source": [
    "# 97\n",
    "\n",
    "\"\"\"Collect floating-point numbers and display their unique values.\n",
    "\n",
    "This program collects user-input floating-point numbers and populates a list 'list28'.\n",
    "The user is prompted to input numbers five times, which are added to the list. After all\n",
    "inputs are collected, the program calculates the unique values in the list using a set,\n",
    "and then displays the set of unique values.\n",
    "\n",
    "Inputs:\n",
    "- list28: An empty list to store the user-provided floating-point numbers\n",
    "\n",
    "Outputs:\n",
    "- unique_values: A set containing the unique floating-point values from the list\"\"\"\n",
    "\n",
    "list28 = []\n",
    "for _ in range(5):\n",
    "    number6 = float(input(\"Please insert a float number: \"))\n",
    "    list28.append(number6)\n",
    "unique_values = set(list28)\n",
    "print(unique_values)"
   ]
  },
  {
   "cell_type": "code",
   "execution_count": null,
   "metadata": {},
   "outputs": [],
   "source": [
    "# 98\n",
    "\n",
    "\"\"\"Collect floating-point numbers, calculate their occurrences, and display a frequency dictionary.\n",
    "\n",
    "This program collects user-input floating-point numbers and populates a list 'list29'.\n",
    "The user is prompted to input numbers five times, which are added to the list. After all\n",
    "inputs are collected, the program calculates the occurrences of each unique floating-point\n",
    "number using a frequency dictionary 'dict10', and then displays the dictionary.\n",
    "\n",
    "Inputs:\n",
    "- list29: An empty list to store the user-provided floating-point numbers\n",
    "\n",
    "Outputs:\n",
    "- dict10: A dictionary containing the unique floating-point numbers as keys and their occurrences as values\"\"\"\n",
    "\n",
    "list29 = []\n",
    "for _ in range(5):\n",
    "    number7 = float(input(\"Please insert a float number: \"))\n",
    "    list29.append(number7)\n",
    "set9 = set(list29)\n",
    "dict10 = {}\n",
    "for i in set9:\n",
    "    n = list29.count(i)\n",
    "    dict10[i] = n\n",
    "print(dict10)"
   ]
  },
  {
   "cell_type": "code",
   "execution_count": 7,
   "metadata": {},
   "outputs": [
    {
     "name": "stdout",
     "output_type": "stream",
     "text": [
      "[1.0, 1.0, 1.0, 2.0, 3.0]\n",
      "mode = 1.0\n"
     ]
    }
   ],
   "source": [
    "# 99\n",
    "\n",
    "\"\"\"\n",
    "Collect floating-point numbers and calculate the mode.\n",
    "\n",
    "This program collects user-input floating-point numbers and populates a list 'list30'.\n",
    "The user is prompted to input numbers five times, which are added to the list. After all\n",
    "inputs are collected, the program calculates the mode of the list using the 'mode()' function\n",
    "from the 'statistics' module, and then displays the list and the calculated mode.\n",
    "\n",
    "Inputs:\n",
    "- list30: An empty list to store the user-provided floating-point numbers\n",
    "\n",
    "Outputs:\n",
    "- list30: A list containing the collected floating-point numbers\n",
    "- Mode value: The mode (most frequent value) among the collected numbers\n",
    "\n",
    "\n",
    "Requirements:\n",
    "- Python 3.x\n",
    "- 'statistics' module (imported as 's')\n",
    "\"\"\"\n",
    "\n",
    "import statistics as s\n",
    "\n",
    "list30 = []\n",
    "for _ in range(5):\n",
    "    number8 = float(input(\"Please insert a float number: \"))\n",
    "    list30.append(number8)\n",
    "print(list30)\n",
    "print(f\"mode = {s.mode(list30)}\")"
   ]
  },
  {
   "cell_type": "code",
   "execution_count": 11,
   "metadata": {},
   "outputs": [
    {
     "name": "stdout",
     "output_type": "stream",
     "text": [
      "xxxxxxxxxx"
     ]
    }
   ],
   "source": [
    "# 100\n",
    "\n",
    "# The code `for _ in range(10): print(\"x\", end=\"\")` is using a for loop to print the letter \"x\" 10 times in a row without any spaces or new lines.\n",
    "\n",
    "for _ in range(10):\n",
    "    print(\"x\", end=\"\")"
   ]
  },
  {
   "cell_type": "code",
   "execution_count": 17,
   "metadata": {},
   "outputs": [
    {
     "name": "stdout",
     "output_type": "stream",
     "text": [
      "xxxxxxxxxx\n",
      "xxxxxxxxxx\n",
      "xxxxxxxxxx\n",
      "xxxxxxxxxx\n",
      "xxxxxxxxxx\n",
      "xxxxxxxxxx\n",
      "xxxxxxxxxx\n",
      "xxxxxxxxxx\n",
      "xxxxxxxxxx\n",
      "xxxxxxxxxx\n"
     ]
    }
   ],
   "source": [
    "# 101\n",
    "\n",
    "\"\"\"The code is using nested for loops to print the letter \"x\" 100 times in a grid pattern. The outer loop runs 10 times, and the inner loop also runs 10 times. Each time the inner loop runs, it prints the letter \"x\" without a newline character (using the `end=\"\"` argument), so all the \"x\" characters are printed on the same line. After the inner loop finishes, a newline character is printed using the `print()` function, which moves the cursor to the next line. This process is repeated 10 times, resulting in a grid of \"x\" characters.\"\"\"\n",
    "\n",
    "for _ in range(10):\n",
    "    for _ in range(10):\n",
    "        print(\"x\", end=\"\")\n",
    "    print()"
   ]
  },
  {
   "cell_type": "code",
   "execution_count": 20,
   "metadata": {},
   "outputs": [
    {
     "name": "stdout",
     "output_type": "stream",
     "text": [
      "x\n",
      "xx\n",
      "xxx\n",
      "xxxx\n",
      "xxxxx\n",
      "xxxxxx\n",
      "xxxxxxx\n",
      "xxxxxxxx\n",
      "xxxxxxxxx\n",
      "xxxxxxxxxx\n"
     ]
    }
   ],
   "source": [
    "# 102\n",
    "\n",
    "\"\"\"Print a pattern of 'x' characters in an increasing sequence.\n",
    "\n",
    "This program uses nested loops to print a pattern of 'x' characters in an increasing sequence.\n",
    "The outer loop iterates from 0 to 9, and for each iteration, the inner loop prints 'x' characters\n",
    "based on the current value of 'i'. The 'end=\"\"' parameter in the 'print()' function ensures that\n",
    "the 'x' characters are printed on the same line. After printing each row, a new line is added.\n",
    "\n",
    "Outputs:\n",
    "- Pattern: A sequence of rows with an increasing number of 'x' characters\"\"\"\n",
    "\n",
    "for i in range(10):\n",
    "    for _ in range(i+1):\n",
    "        print(\"x\", end=\"\")\n",
    "    print() # print new line"
   ]
  },
  {
   "cell_type": "code",
   "execution_count": 22,
   "metadata": {},
   "outputs": [
    {
     "name": "stdout",
     "output_type": "stream",
     "text": [
      "xxxxxxxxxx\n",
      "xxxxxxxxx\n",
      "xxxxxxxx\n",
      "xxxxxxx\n",
      "xxxxxx\n",
      "xxxxx\n",
      "xxxx\n",
      "xxx\n",
      "xx\n",
      "x\n"
     ]
    }
   ],
   "source": [
    "# 103\n",
    "\n",
    "\"\"\"Print a pattern of 'x' characters in a decreasing sequence.\n",
    "\n",
    "This program uses nested loops to print a pattern of 'x' characters in a decreasing sequence.\n",
    "The outer loop iterates from 0 to 9, and for each iteration, the inner loop prints 'x' characters\n",
    "based on the current value of 'i'. The 'end=\"\"' parameter in the 'print()' function ensures that\n",
    "the 'x' characters are printed on the same line. After printing each row, a new line is added.\n",
    "\n",
    "Outputs:\n",
    "- Pattern: A sequence of rows with a decreasing number of 'x' characters\"\"\"\n",
    "\n",
    "for i in range(10):\n",
    "    for _ in range(10, i, -1):\n",
    "        print(\"x\", end=\"\")\n",
    "    print()"
   ]
  },
  {
   "cell_type": "code",
   "execution_count": 28,
   "metadata": {},
   "outputs": [
    {
     "name": "stdout",
     "output_type": "stream",
     "text": [
      "- - - x \n",
      "- - x x x \n",
      "- x x x x x \n",
      "x x x x x x x \n"
     ]
    }
   ],
   "source": [
    "# 104\n",
    "\n",
    "\"\"\"\n",
    "Print a pattern of 'x' and '-' characters in a specific arrangement.\n",
    "\n",
    "This program uses nested loops to print a pattern of 'x' and '-' characters in a specific arrangement.\n",
    "The outer loop iterates from 0 to 3, and for each iteration, the inner loop prints '-' characters\n",
    "followed by 'x' characters based on the current values of 'i' and 'j'. The 'end=\" \"' parameter in the\n",
    "'print()' function ensures that the characters are separated by a space on the same line. After\n",
    "printing each row, a new line is added.\n",
    "\n",
    "Outputs:\n",
    "- Pattern: A sequence of rows with 'x' and '-' characters arranged based on the pattern\n",
    "\"\"\"\n",
    "\n",
    "for i in range(4):\n",
    "    for j in range(4 + i):\n",
    "        if j < 3-i:\n",
    "            print(\"-\", end=\" \")\n",
    "        else:\n",
    "            print(\"x\", end=\" \")\n",
    "    print()"
   ]
  },
  {
   "cell_type": "code",
   "execution_count": 29,
   "metadata": {},
   "outputs": [
    {
     "name": "stdout",
     "output_type": "stream",
     "text": [
      "x x x x x x x \n",
      "- x x x x x \n",
      "- - x x x \n",
      "- - - x \n"
     ]
    }
   ],
   "source": [
    "# 105\n",
    "\n",
    "\"\"\"\n",
    "Print a pattern of 'x' and '-' characters in an inverted arrangement.\n",
    "\n",
    "This program uses nested loops to print a pattern of 'x' and '-' characters in an inverted arrangement.\n",
    "The outer loop iterates from 0 to 3, and for each iteration, the inner loop prints '-' characters\n",
    "followed by 'x' characters based on the current values of 'i' and 'j'. The 'end=\" \"' parameter in the\n",
    "'print()' function ensures that the characters are separated by a space on the same line. After\n",
    "printing each row, a new line is added.\n",
    "\n",
    "Outputs:\n",
    "- Pattern: A sequence of rows with 'x' and '-' characters arranged based on the inverted pattern\n",
    "\"\"\"\n",
    "\n",
    "for i in range(4):\n",
    "    for j in range(7 - i):\n",
    "        if j < i:\n",
    "            print(\"-\", end=\" \")\n",
    "        else:\n",
    "            print(\"x\", end=\" \")\n",
    "    print()"
   ]
  },
  {
   "cell_type": "code",
   "execution_count": 1,
   "metadata": {},
   "outputs": [
    {
     "name": "stdout",
     "output_type": "stream",
     "text": [
      "x - - - - - x \n",
      "- x - - - x - \n",
      "- - x - x - - \n",
      "- - - x - - - \n",
      "- - x - x - - \n",
      "- x - - - x - \n",
      "x - - - - - x \n"
     ]
    }
   ],
   "source": [
    "# 106\n",
    "\n",
    "\"\"\"Print a pattern of 'x' and '-' characters in a diagonal arrangement.\n",
    "\n",
    "This program uses nested loops to print a pattern of 'x' and '-' characters in a diagonal arrangement.\n",
    "The outer loop iterates from 0 to 6 (inclusive), and for each iteration, the inner loop prints 'x'\n",
    "characters if the current indices (i, j) match the conditions (i == j) or (i + j == 6). Otherwise,\n",
    "it prints '-' characters. The 'end=\" \"' parameter in the 'print()' function ensures that the\n",
    "characters are separated by a space on the same line. After printing each row, a new line is added.\n",
    "\n",
    "Outputs:\n",
    "- Pattern: A sequence of rows with 'x' and '-' characters arranged in diagonal lines\"\"\"\n",
    "\n",
    "for i in range(7):\n",
    "    for j in range(7):\n",
    "        if (i == j) or (i + j == 6):\n",
    "            print(\"x\", end=\" \")\n",
    "        else:\n",
    "            print(\"-\", end=\" \")\n",
    "    print()"
   ]
  },
  {
   "cell_type": "code",
   "execution_count": 2,
   "metadata": {},
   "outputs": [
    {
     "name": "stdout",
     "output_type": "stream",
     "text": [
      "- - - x - - - \n",
      "- - x - x - - \n",
      "- x - - - x - \n",
      "x - - - - - x \n",
      "- x - - - x - \n",
      "- - x - x - - \n",
      "- - - x - - - \n"
     ]
    }
   ],
   "source": [
    "# 107\n",
    "\n",
    "\"\"\"\n",
    "Print a pattern of 'x' and '-' characters in a V-shaped arrangement.\n",
    "\n",
    "This program uses nested loops to print a pattern of 'x' and '-' characters in a V-shaped arrangement.\n",
    "The outer loop iterates from 0 to 6 (inclusive), and for each iteration, the inner loop prints 'x'\n",
    "characters if the current index 'j' matches either the value 'abs(3 - i)' or '6 - abs(3 - i)'.\n",
    "These conditions create a V shape in the pattern. Otherwise, it prints '-' characters.\n",
    "The 'end=\" \"' parameter in the 'print()' function ensures that the characters are separated by\n",
    "a space on the same line. After printing each row, a new line is added.\n",
    "\n",
    "Outputs:\n",
    "- Pattern: A sequence of rows with 'x' and '-' characters arranged in a V-shaped pattern\n",
    "\"\"\"\n",
    "\n",
    "for i in range(7):\n",
    "    for j in range(7):\n",
    "        if j in [abs(3 - i), 6 - abs(3 - i)]:\n",
    "            print(\"x\", end=\" \")\n",
    "        else:\n",
    "            print(\"-\", end=\" \")\n",
    "    print()"
   ]
  },
  {
   "cell_type": "code",
   "execution_count": 3,
   "metadata": {},
   "outputs": [
    {
     "name": "stdout",
     "output_type": "stream",
     "text": [
      "- - - - - - - - - x \n",
      "- - - - - - - - x \n",
      "- - - - - - - x \n",
      "- - - - - - x \n",
      "- - - - - x \n",
      "- - - - x \n",
      "- - - x \n",
      "- - x \n",
      "- x \n",
      "x \n"
     ]
    }
   ],
   "source": [
    "# 108\n",
    "\n",
    "\"\"\"\n",
    "Print a pattern of 'x' and '-' characters in an inverted triangular arrangement.\n",
    "\n",
    "This program uses nested loops to print a pattern of 'x' and '-' characters in an inverted triangular arrangement.\n",
    "The outer loop iterates from 9 to 0 (inclusive) in reverse order, and for each iteration, the inner loop prints 'x'\n",
    "characters if the current index 'j' matches the value 'i'. Otherwise, it prints '-' characters.\n",
    "The 'end=\" \"' parameter in the 'print()' function ensures that the characters are separated by a space on the same line.\n",
    "After printing each row, a new line is added to create the inverted triangular shape.\n",
    "\n",
    "Outputs:\n",
    "- Pattern: A sequence of rows with 'x' and '-' characters arranged in an inverted triangular pattern\n",
    "\"\"\"\n",
    "\n",
    "for i in range(9, -1, -1):\n",
    "    for j in range(i+1):\n",
    "        if j == i:\n",
    "            print(\"x\", end= \" \")\n",
    "        else:\n",
    "            print(\"-\", end= \" \")\n",
    "    print()"
   ]
  },
  {
   "cell_type": "code",
   "execution_count": 4,
   "metadata": {},
   "outputs": [
    {
     "name": "stdout",
     "output_type": "stream",
     "text": [
      "- - - - - - - - - x \n",
      "- - - - - - - - x x \n",
      "- - - - - - - x x x \n",
      "- - - - - - x x x x \n",
      "- - - - - x x x x x \n",
      "- - - - x x x x x x \n",
      "- - - x x x x x x x \n",
      "- - x x x x x x x x \n",
      "- x x x x x x x x x \n",
      "x x x x x x x x x x \n"
     ]
    }
   ],
   "source": [
    "# 109\n",
    "\n",
    "\"\"\"\n",
    "Print a pattern of 'x' and '-' characters in a triangular arrangement.\n",
    "\n",
    "This program uses nested loops to print a pattern of 'x' and '-' characters in a triangular arrangement.\n",
    "The outer loop iterates from 0 to 9 (inclusive), and for each iteration, the inner loop prints 'x'\n",
    "characters if the sum of the current indices 'i' and 'j' is greater than or equal to 9.\n",
    "Otherwise, it prints '-' characters. The 'end=\" \"' parameter in the 'print()' function ensures that\n",
    "the characters are separated by a space on the same line. After printing each row, a new line is added\n",
    "to create the triangular shape.\n",
    "\n",
    "Outputs:\n",
    "- Pattern: A sequence of rows with 'x' and '-' characters arranged in a triangular pattern\n",
    "\"\"\"\n",
    "\n",
    "for i in range(10):\n",
    "    for j in range(10):\n",
    "        if i+j >= 9:\n",
    "            print(\"x\", end=\" \")\n",
    "        else:\n",
    "            print(\"-\", end=\" \")\n",
    "    print()"
   ]
  },
  {
   "cell_type": "code",
   "execution_count": 5,
   "metadata": {},
   "outputs": [
    {
     "name": "stdout",
     "output_type": "stream",
     "text": [
      "- - - - - - - - - x \n",
      "- - - - - - - - x x x \n",
      "- - - - - - - x x x x x \n",
      "- - - - - - x x x x x x x \n",
      "- - - - - x x x x x x x x x \n",
      "- - - - x x x x x x x x x x x \n",
      "- - - x x x x x x x x x x x x x \n",
      "- - x x x x x x x x x x x x x x x \n",
      "- x x x x x x x x x x x x x x x x x \n",
      "x x x x x x x x x x x x x x x x x x x \n"
     ]
    }
   ],
   "source": [
    "# 110\n",
    "\n",
    "\"\"\"\n",
    "Print a pattern of 'x' and '-' characters in a triangular arrangement with varying row lengths.\n",
    "\n",
    "This program uses nested loops to print a pattern of 'x' and '-' characters in a triangular arrangement.\n",
    "The outer loop iterates from 0 to 9 (inclusive), and for each iteration, the inner loop prints 'x'\n",
    "characters if the sum of the current indices 'i' and 'j' is greater than or equal to 9.\n",
    "Otherwise, it prints '-' characters. The number of columns in each row varies from 10 to 19 as 'i' increases,\n",
    "creating the triangular shape. The 'end=\" \"' parameter in the 'print()' function ensures that the characters\n",
    "are separated by a space on the same line. After printing each row, a new line is added.\n",
    "\n",
    "Outputs:\n",
    "- Pattern: A sequence of rows with 'x' and '-' characters arranged in a triangular pattern with varying row lengths\n",
    "\"\"\"\n",
    "\n",
    "for i in range(10):\n",
    "    for j in range(10 + i):\n",
    "        if i+j >= 9:\n",
    "            print(\"x\", end=\" \")\n",
    "        else:\n",
    "            print(\"-\", end=\" \")\n",
    "    print()"
   ]
  },
  {
   "cell_type": "code",
   "execution_count": 6,
   "metadata": {},
   "outputs": [
    {
     "name": "stdout",
     "output_type": "stream",
     "text": [
      "- - - - - - - - - x - - - - - - - - - - \n",
      "- - - - - - - - x x x - - - - - - - - - \n",
      "- - - - - - - x x x x x - - - - - - - - \n",
      "- - - - - - x x x x x x x - - - - - - - \n",
      "- - - - - x x x x x x x x x - - - - - - \n",
      "- - - - x x x x x x x x x x x - - - - - \n",
      "- - - x x x x x x x x x x x x x - - - - \n",
      "- - x x x x x x x x x x x x x x x - - - \n",
      "- x x x x x x x x x x x x x x x x x - - \n",
      "x x x x x x x x x x x x x x x x x x x - \n"
     ]
    }
   ],
   "source": [
    "# 111\n",
    "\n",
    "\"\"\"\n",
    "Print a pattern of 'x' and '-' characters in a diamond arrangement.\n",
    "\n",
    "This program uses nested loops to print a pattern of 'x' and '-' characters in a diamond arrangement.\n",
    "The outer loop iterates from 0 to 9 (inclusive), and for each iteration, the inner loop prints 'x'\n",
    "characters if the current index 'j' is within the range [9-i, 9+i]. This range ensures that 'x'\n",
    "characters are printed in a diamond shape. Otherwise, it prints '-' characters.\n",
    "The 'end=\" \"' parameter in the 'print()' function ensures that the characters are separated by a space\n",
    "on the same line. After printing each row, a new line is added.\n",
    "\n",
    "Outputs:\n",
    "- Pattern: A sequence of rows with 'x' and '-' characters arranged in a diamond pattern\n",
    "\"\"\"\n",
    "\n",
    "for i in range(10):\n",
    "    for j in range(20):\n",
    "        if 9-i <= j <= 9+i:\n",
    "            print(\"x\", end=\" \")\n",
    "        else:\n",
    "            print(\"-\", end=\" \")\n",
    "    print()"
   ]
  },
  {
   "cell_type": "code",
   "execution_count": 7,
   "metadata": {},
   "outputs": [
    {
     "name": "stdout",
     "output_type": "stream",
     "text": [
      "- - - - - - - - 1 \n",
      "- - - - - - - 1 2 \n",
      "- - - - - - 1 2 3 \n",
      "- - - - - 1 2 3 4 \n",
      "- - - - 1 2 3 4 5 \n",
      "- - - 1 2 3 4 5 6 \n",
      "- - 1 2 3 4 5 6 7 \n",
      "- 1 2 3 4 5 6 7 8 \n",
      "1 2 3 4 5 6 7 8 9 \n"
     ]
    }
   ],
   "source": [
    "# 112\n",
    "\n",
    "\"\"\"\n",
    "Print a pattern of numbers and '-' characters in a number triangle arrangement.\n",
    "\n",
    "This program uses nested loops to print a pattern of numbers and '-' characters in a number triangle arrangement.\n",
    "The outer loop iterates from 1 to 9 (inclusive), and for each iteration, the inner loop prints the variable 'number'\n",
    "if the sum of the current indices 'i' and 'j' is greater than or equal to 10. The 'number' variable is incremented\n",
    "after printing to ensure consecutive numbers are printed. If the condition is not met, it prints '-' characters.\n",
    "The 'end=\" \"' parameter in the 'print()' function ensures that the characters are separated by a space on the same line.\n",
    "After printing each row, a new line is added.\n",
    "\n",
    "Outputs:\n",
    "- Pattern: A sequence of rows with numbers and '-' characters arranged in a number triangle pattern\n",
    "\"\"\"\n",
    "\n",
    "for i in range(1, 10):\n",
    "    number = 1\n",
    "    for j in range(1, 10):\n",
    "        if i + j >= 10:\n",
    "            print(number, end=\" \")\n",
    "            number += 1\n",
    "        else:\n",
    "            print(\"-\", end=\" \")\n",
    "    print()"
   ]
  },
  {
   "cell_type": "code",
   "execution_count": 9,
   "metadata": {},
   "outputs": [
    {
     "name": "stdout",
     "output_type": "stream",
     "text": [
      "- - - - - - - - 1 \n",
      "- - - - - - - 1 2 1 \n",
      "- - - - - - 1 2 3 2 1 \n",
      "- - - - - 1 2 3 4 3 2 1 \n",
      "- - - - 1 2 3 4 5 4 3 2 1 \n",
      "- - - 1 2 3 4 5 6 5 4 3 2 1 \n",
      "- - 1 2 3 4 5 6 7 6 5 4 3 2 1 \n",
      "- 1 2 3 4 5 6 7 8 7 6 5 4 3 2 1 \n",
      "1 2 3 4 5 6 7 8 9 8 7 6 5 4 3 2 1 \n"
     ]
    }
   ],
   "source": [
    "# 113\n",
    "\n",
    "\"\"\"\n",
    "Print a pattern of numbers and '-' characters in a number pyramid arrangement.\n",
    "\n",
    "This program uses nested loops to print a pattern of numbers and '-' characters in a number pyramid arrangement.\n",
    "The outer loop iterates from 0 to 8 (inclusive), and for each iteration, the inner loop prints numbers and '-'\n",
    "characters based on the following conditions:\n",
    "- If the sum of the current indices 'i' and 'j' is greater than or equal to 8 and 'j' is less than or equal to 8, it prints consecutive numbers in ascending order.\n",
    "- If only the condition of the sum of 'i' and 'j' being greater than or equal to 8 is satisfied, it prints numbers in descending order.\n",
    "- Otherwise, it prints '-' characters.\n",
    "The 'end=\" \"' parameter in the 'print()' function ensures that the characters are separated by a space on the same line.\n",
    "After printing each row, a new line is added.\n",
    "\n",
    "Outputs:\n",
    "- Pattern: A sequence of rows with numbers and '-' characters arranged in a number pyramid pattern\n",
    "\"\"\"\n",
    "\n",
    "for i in range(9):\n",
    "    number = 0\n",
    "    for j in range(9+i):\n",
    "        if (i+j >= 8) and (j <= 8):\n",
    "            number += 1\n",
    "            print(number, end=\" \")\n",
    "        elif i + j >= 8:\n",
    "            number -= 1\n",
    "            print(number, end=\" \")\n",
    "        else:\n",
    "            print(\"-\", end=\" \")\n",
    "    print()"
   ]
  },
  {
   "cell_type": "code",
   "execution_count": 3,
   "metadata": {},
   "outputs": [
    {
     "name": "stdout",
     "output_type": "stream",
     "text": [
      "- - - - 1 \n",
      "- - - 1 2 3 \n",
      "- - 5 4 3 2 1 \n",
      "- 1 2 3 4 5 6 7 \n",
      "9 8 7 6 5 4 3 2 1 \n"
     ]
    }
   ],
   "source": [
    "#  114\n",
    "\n",
    "\"\"\"\n",
    "Print a pattern of numbers and '-' characters in a number pattern with alternating sequences.\n",
    "\n",
    "This program uses nested loops to print a pattern of numbers and '-' characters in a number pattern with alternating sequences.\n",
    "The outer loop iterates from 0 to 4 (inclusive), and for each iteration, it determines whether the current value of 'i'\n",
    "is even or odd. Based on the parity of 'i', the program generates two different sequences of numbers.\n",
    "- For even 'i', it calculates the initial number 'number' as 2*i + 1, and then prints decreasing numbers in a sequence\n",
    "  for each row.\n",
    "- For odd 'i', it calculates the initial number 'number' as 1, and then prints increasing numbers in a sequence for each row.\n",
    "In both cases, the 'end=\" \"' parameter in the 'print()' function ensures that the characters are separated by a space\n",
    "on the same line. After printing each row, a new line is added.\n",
    "\n",
    "Outputs:\n",
    "- Pattern: A sequence of rows with numbers and '-' characters arranged in alternating number sequences\n",
    "\"\"\"\n",
    "\n",
    "\n",
    "for i in range(5):\n",
    "    if i % 2 == 0:\n",
    "        number = 2*i + 1\n",
    "        for j in range(5 + i):\n",
    "            if i + j >= 4:\n",
    "                print(number, end=\" \")\n",
    "                number -= 1\n",
    "            else:\n",
    "                print(\"-\", end=\" \")\n",
    "    else:\n",
    "        number = 1\n",
    "        for j in range(5 + i):\n",
    "            if i+j >= 4:\n",
    "                print(number, end=\" \")\n",
    "                number += 1\n",
    "            else:\n",
    "                print(\"-\", end=\" \")\n",
    "    print()"
   ]
  },
  {
   "cell_type": "code",
   "execution_count": 7,
   "metadata": {},
   "outputs": [
    {
     "name": "stdout",
     "output_type": "stream",
     "text": [
      "- - - - 1 \n",
      "- - - 1 2 \n",
      "- - 5 4 3 \n",
      "- 1 2 3 4 \n",
      "9 8 7 6 5 \n"
     ]
    }
   ],
   "source": [
    "#  115\n",
    "\n",
    "\"\"\"\n",
    "Print a pattern of numbers and '-' characters in a number pattern with alternating sequences.\n",
    "\n",
    "This program uses nested loops to print a pattern of numbers and '-' characters in a number pattern with alternating sequences.\n",
    "The outer loop iterates from 0 to 4 (inclusive), and for each iteration, it determines whether the current value of 'i'\n",
    "is even or odd. Based on the parity of 'i', the program generates two different sequences of numbers.\n",
    "- For even 'i', it calculates the initial number 'number' as 2*i + 1, and then prints decreasing numbers in a sequence for each row.\n",
    "- For odd 'i', it calculates the initial number 'number' as 1, and then prints increasing numbers in a sequence for each row.\n",
    "In both cases, the inner loop iterates 5 times (for a fixed range of 5) to print the numbers and '-' characters.\n",
    "The 'end=\" \"' parameter in the 'print()' function ensures that the characters are separated by a space on the same line.\n",
    "After printing each row, a new line is added.\n",
    "\n",
    "Outputs:\n",
    "- Pattern: A sequence of rows with numbers and '-' characters arranged in alternating number sequences\n",
    "\"\"\"\n",
    "\n",
    "for i in range(5):\n",
    "    if i % 2 == 0:\n",
    "        number = 2*i + 1\n",
    "        for j in range(5):\n",
    "            if i + j >= 4:\n",
    "                print(number, end=\" \")\n",
    "                number -= 1\n",
    "            else:\n",
    "                print(\"-\", end=\" \")\n",
    "    else:\n",
    "        number = 1\n",
    "        for j in range(5):\n",
    "            if i + j >= 4:\n",
    "                print(number, end=\" \")\n",
    "                number += 1\n",
    "            else:\n",
    "                print(\"-\", end=\" \")\n",
    "    print()"
   ]
  }
 ],
 "metadata": {
  "kernelspec": {
   "display_name": "Python 3",
   "language": "python",
   "name": "python3"
  },
  "language_info": {
   "codemirror_mode": {
    "name": "ipython",
    "version": 3
   },
   "file_extension": ".py",
   "mimetype": "text/x-python",
   "name": "python",
   "nbconvert_exporter": "python",
   "pygments_lexer": "ipython3",
   "version": "3.11.4"
  },
  "orig_nbformat": 4
 },
 "nbformat": 4,
 "nbformat_minor": 2
}
