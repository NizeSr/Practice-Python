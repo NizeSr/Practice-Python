{
 "cells": [
  {
   "cell_type": "code",
   "execution_count": 1,
   "metadata": {},
   "outputs": [
    {
     "name": "stdout",
     "output_type": "stream",
     "text": [
      "odd number\n"
     ]
    }
   ],
   "source": [
    "# 1\n",
    "\n",
    "\"\"\"\n",
    "This code prompts the user to input a number, converts the input to an integer using the `int()` function, and then checks if the number is even or odd using the modulo operator `%`. If the number is even, it prints \"even number\", otherwise it prints \"odd num\".\n",
    "\"\"\"\n",
    "\n",
    "int_1 = int(input(\"Please insert the number: \"))\n",
    "\n",
    "if int_1 % 2 == 0:\n",
    "    print(\"even number\")\n",
    "else:\n",
    "    print(\"odd num\")"
   ]
  },
  {
   "cell_type": "code",
   "execution_count": 2,
   "metadata": {},
   "outputs": [
    {
     "name": "stdout",
     "output_type": "stream",
     "text": [
      "less than or equal to 0\n"
     ]
    }
   ],
   "source": [
    "# 2\n",
    "\n",
    "\"\"\"\n",
    "This code prompts the user to input a number, converts the input to an integer using the `int()` function, and then checks if the integer is greater than 0. If the integer is greater than 0, it prints \"more than 0\". Otherwise, it prints \"less than or equal to 0\".\n",
    "\"\"\"\n",
    "\n",
    "int_2 = int(input(\"Please insert the number: \"))\n",
    "\n",
    "if int_2 > 0:\n",
    "    print(\"more than 0\")\n",
    "else:\n",
    "    print(\"less than or equal to 0\")"
   ]
  },
  {
   "cell_type": "code",
   "execution_count": 3,
   "metadata": {},
   "outputs": [
    {
     "name": "stdout",
     "output_type": "stream",
     "text": [
      "zero\n"
     ]
    }
   ],
   "source": [
    "\n",
    "# 3\n",
    "\n",
    "\"\"\"\n",
    "This code prompts the user to input a number as a float, assigns that value to the variable `float_1`, and then checks whether the value is positive, negative, or zero. Depending on the value, it prints out the corresponding string.\n",
    "\"\"\"\n",
    "\n",
    "float_1 = float(input(\"Please insert the number: \"))\n",
    "\n",
    "if float_1 > 0:\n",
    "    print(\"positive\")\n",
    "elif float_1 < 0:\n",
    "    print(\"negative\")\n",
    "else:\n",
    "    print(\"zero\")"
   ]
  },
  {
   "cell_type": "code",
   "execution_count": 5,
   "metadata": {},
   "outputs": [
    {
     "name": "stdout",
     "output_type": "stream",
     "text": [
      "negative even\n"
     ]
    }
   ],
   "source": [
    "# 4\n",
    "\n",
    "\"\"\"\n",
    "This code takes an input from the user and checks if it is positive, negative or zero. If it is positive, it checks if it is even or odd and prints the appropriate message. If it is negative, it also checks if it is even or odd and prints the appropriate message. If it is zero, it simply prints \"zero\".\n",
    "\"\"\"\n",
    "\n",
    "int_3 = int(input(\"Please insert the number\"))\n",
    "\n",
    "if int_3 > 0:\n",
    "    if int_3 % 2 == 0:\n",
    "        print(\"positive even\")\n",
    "    else:\n",
    "        print(\"positive odd\")\n",
    "elif int_3 < 0:\n",
    "    if int_3 % 2 == 0:\n",
    "        print(\"negative even\")\n",
    "    else:\n",
    "        print(\"negative odd\")\n",
    "else:\n",
    "    print(\"zero\")"
   ]
  },
  {
   "cell_type": "code",
   "execution_count": 11,
   "metadata": {},
   "outputs": [
    {
     "name": "stdout",
     "output_type": "stream",
     "text": [
      "30\n"
     ]
    }
   ],
   "source": [
    "# 5\n",
    "\n",
    "\"\"\"\n",
    "This code prompts the user to input the width and length of a rectangle as integer values. If either value is less than or equal to zero, it prints a message asking the user to input an integer number. Otherwise, it calculates the area of the rectangle by multiplying the width and length, and prints the result.\n",
    "\"\"\"\n",
    "\n",
    "width = int(input(\"Please insert the width: \"))\n",
    "length = int(input(\"Please insert the width: \"))\n",
    "\n",
    "if (width <= 0) or (length <= 0):\n",
    "    print(\"Please insert an integer number\")\n",
    "else: \n",
    "    area = width * length\n",
    "    print(area)"
   ]
  },
  {
   "cell_type": "code",
   "execution_count": 13,
   "metadata": {},
   "outputs": [
    {
     "name": "stdout",
     "output_type": "stream",
     "text": [
      "543\n"
     ]
    }
   ],
   "source": [
    "# 6\n",
    "\n",
    "\"\"\"\n",
    "This code is taking an input from the user for the year in Anno Domini (AD) format. It then checks if the input is greater than or equal to 0. If it is, it converts the year to the Buddhist Era (BE) format by adding 543 to the AD year and prints the result. If the input is less than 0, it prints a message asking the user to input a number greater than or equal to 0.\n",
    "\"\"\"\n",
    "\n",
    "AD = int(input(\"Please insert Anno Domini: \"))\n",
    "\n",
    "if AD >= 0:\n",
    "    BE = AD + 543\n",
    "    print(BE)\n",
    "else:\n",
    "    print(\"Please insert a number greater than or equal to 0\")"
   ]
  },
  {
   "cell_type": "code",
   "execution_count": 4,
   "metadata": {},
   "outputs": [
    {
     "name": "stdout",
     "output_type": "stream",
     "text": [
      "37.77777777777778\n"
     ]
    }
   ],
   "source": [
    "# 7\n",
    "\n",
    "\"\"\"\n",
    "This code prompts the user to input a temperature in Fahrenheit, converts it to Celsius if the temperature is above or equal to 32 degrees Fahrenheit, and prints the Celsius temperature. If the temperature is below 32 degrees Fahrenheit, it prints \"cold\".\n",
    "\"\"\"\n",
    "\n",
    "F = float(input(\"Please insert the temperature in Fahrenheit: \"))\n",
    "\n",
    "if F >= 32:\n",
    "    C = 5 * (F - 32) / 9\n",
    "    print(C)\n",
    "else:\n",
    "    print(\"cold\")"
   ]
  },
  {
   "cell_type": "code",
   "execution_count": 8,
   "metadata": {},
   "outputs": [
    {
     "name": "stdout",
     "output_type": "stream",
     "text": [
      "1625.0 ฿\n"
     ]
    }
   ],
   "source": [
    "# 8\n",
    "\n",
    "\"\"\"\n",
    "This code prompts the user to input an amount in US dollars, converts it to Thai Baht (THB) using the exchange rate of 1 USD = 32.5 THB, and prints the result. If the input is less than or equal to 0, it prints a message saying that the user doesn't have money.\n",
    "\"\"\"\n",
    "\n",
    "USD = float(input(\"Please specify the amount in US dollar: \"))\n",
    "\n",
    "if USD > 0:\n",
    "    THB = USD * 32.5\n",
    "    print(THB, \"฿\")\n",
    "else:\n",
    "    print(\"you don\\'t have money\")\n"
   ]
  },
  {
   "cell_type": "code",
   "execution_count": 1,
   "metadata": {},
   "outputs": [
    {
     "name": "stdout",
     "output_type": "stream",
     "text": [
      "15.243902439024392 $\n",
      "4.573170731707317 ฿\n"
     ]
    }
   ],
   "source": [
    "# 9\n",
    "\n",
    "\"\"\"\n",
    "This code is taking an input from the user in the form of a float value representing an amount in Baht. It then checks if the input is greater than 0. If it is, it converts the Baht amount to USD and calculates the bank's profit as 30% of the USD amount. It then prints the USD amount and the bank's profit in Baht. If the input is not greater than 0, it prints a message indicating that the user does not have any money.\n",
    "\"\"\"\n",
    "\n",
    "THB = float(input(\"Please specify the amount in Baht: \"))\n",
    "\n",
    "if THB > 0:\n",
    "    USD = THB / 32.80\n",
    "    bank_profit = USD * 0.30\n",
    "    print(USD, '$')\n",
    "    print(bank_profit, '฿')\n",
    "else:\n",
    "    print(\"you don\\'t have money\")"
   ]
  },
  {
   "attachments": {},
   "cell_type": "markdown",
   "metadata": {},
   "source": []
  },
  {
   "cell_type": "code",
   "execution_count": 1,
   "metadata": {},
   "outputs": [
    {
     "name": "stdout",
     "output_type": "stream",
     "text": [
      "5.2\n"
     ]
    }
   ],
   "source": [
    "# 10\n",
    "\n",
    "\"\"\"\n",
    "This code prompts the user to input two floating-point numbers, compares them, and prints the larger number or a message indicating that they are equal.\n",
    "\"\"\"\n",
    "\n",
    "float_2 = float(input(\"Please insert the number: \"))\n",
    "float_3 = float(input(\"Please insert the number: \"))\n",
    "\n",
    "if float_2 > float_3:\n",
    "    print(float_2)\n",
    "elif float_2 < float_3:\n",
    "    print(float_3)\n",
    "else:\n",
    "    print(\"They are equal\")"
   ]
  },
  {
   "cell_type": "code",
   "execution_count": 2,
   "metadata": {},
   "outputs": [
    {
     "name": "stdout",
     "output_type": "stream",
     "text": [
      "Not divisible by 3\n"
     ]
    }
   ],
   "source": [
    "# 12\n",
    "\n",
    "\"\"\"\n",
    "This code prompts the user to input a number, converts it to an integer using the `int()` function, and then checks if the number is divisible by 3 using the modulo operator `%`. If the number is divisible by 3, it prints \"Divisible by 3\", otherwise it prints \"Not divisible by 3\".\n",
    "\"\"\"\n",
    "\n",
    "int_4 = int(input(\"Please insert the number: \"))\n",
    "\n",
    "if int_4 % 3 == 0:\n",
    "    print(\"Divisible by 3\")\n",
    "else:\n",
    "    print(\"Not divisible by 3\")\n"
   ]
  },
  {
   "cell_type": "code",
   "execution_count": 4,
   "metadata": {},
   "outputs": [
    {
     "name": "stdout",
     "output_type": "stream",
     "text": [
      "Not divisible by 3 and 5\n"
     ]
    }
   ],
   "source": [
    "# 13\n",
    "\n",
    "\"\"\"\n",
    "This code prompts the user to input a number and stores it as an integer variable `int_5`. It then checks if the number is divisible by both 3 and 5 using the modulo operator `%`. If it is, it prints \"Divisible by 3 and 5\". If it is not, it prints \"Not divisible by 3 and 5\".\n",
    "\"\"\"\n",
    "\n",
    "int_5 = int(input(\"Please insert the number: \"))\n",
    "\n",
    "if (int_5 % 3 == 0) and (int_5 % 5 == 0):\n",
    "    print(\"Divisible by 3 and 5\")\n",
    "else:\n",
    "    print(\"Not divisible by 3 and 5\")"
   ]
  },
  {
   "cell_type": "code",
   "execution_count": 5,
   "metadata": {},
   "outputs": [
    {
     "name": "stdout",
     "output_type": "stream",
     "text": [
      "Divisible by 3 or 5\n"
     ]
    }
   ],
   "source": [
    "# 14\n",
    "\n",
    "\"\"\"\n",
    "This code prompts the user to input a number and stores it as an integer variable `int_5`. It then checks if the number is divisible by both 3 or 5 using the modulo operator `%`. If it is, it prints \"Divisible by 3 or 5\". If it is not, it prints \"Not divisible by 3 or 5\".\n",
    "\"\"\"\n",
    "\n",
    "int_6 = int(input(\"Please insert the number: \"))\n",
    "\n",
    "if (int_6 % 3 == 0) or (int_6 % 5 == 0):\n",
    "    print(\"Divisible by 3 or 5\")\n",
    "else:\n",
    "    print(\"Not divisible by 3 or 5\")"
   ]
  },
  {
   "cell_type": "code",
   "execution_count": 6,
   "metadata": {},
   "outputs": [],
   "source": [
    "# 15\n",
    "\n",
    "\"\"\"\n",
    "This code prompts the user to input three numbers (a, b, and c) and then checks if the sum of the first two numbers (a + b) is greater than the third number (c). If it is, then it prints the message \"a + b > c\".\n",
    "\"\"\"\n",
    "\n",
    "a = float(input(\"Please insert the number: \"))\n",
    "b = float(input(\"Please insert the number: \"))\n",
    "c = float(input(\"Please insert the number: \"))\n",
    "\n",
    "if (a + b) > c:\n",
    "    print(\"a + b > c\")"
   ]
  },
  {
   "cell_type": "code",
   "execution_count": null,
   "metadata": {},
   "outputs": [],
   "source": [
    "# 16"
   ]
  },
  {
   "cell_type": "code",
   "execution_count": null,
   "metadata": {},
   "outputs": [],
   "source": []
  }
 ],
 "metadata": {
  "kernelspec": {
   "display_name": "Python 3",
   "language": "python",
   "name": "python3"
  },
  "language_info": {
   "codemirror_mode": {
    "name": "ipython",
    "version": 3
   },
   "file_extension": ".py",
   "mimetype": "text/x-python",
   "name": "python",
   "nbconvert_exporter": "python",
   "pygments_lexer": "ipython3",
   "version": "3.10.11"
  },
  "orig_nbformat": 4
 },
 "nbformat": 4,
 "nbformat_minor": 2
}
