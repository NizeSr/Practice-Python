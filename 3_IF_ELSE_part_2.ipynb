{
 "cells": [
  {
   "cell_type": "code",
   "execution_count": 1,
   "metadata": {},
   "outputs": [
    {
     "name": "stdout",
     "output_type": "stream",
     "text": [
      "odd number\n"
     ]
    }
   ],
   "source": [
    "# 1\n",
    "\n",
    "\"\"\"\n",
    "This code prompts the user to input a number, converts the input to an integer using the `int()` function, and then checks if the number is even or odd using the modulo operator `%`. If the number is even, it prints \"even number\", otherwise it prints \"odd num\".\n",
    "\"\"\"\n",
    "\n",
    "int_1 = int(input(\"Please insert the number: \"))\n",
    "\n",
    "if int_1 % 2 == 0:\n",
    "    print(\"even number\")\n",
    "else:\n",
    "    print(\"odd num\")"
   ]
  },
  {
   "cell_type": "code",
   "execution_count": 2,
   "metadata": {},
   "outputs": [
    {
     "name": "stdout",
     "output_type": "stream",
     "text": [
      "less than or equal to 0\n"
     ]
    }
   ],
   "source": [
    "# 2\n",
    "\n",
    "\"\"\"\n",
    "This code prompts the user to input a number, converts the input to an integer using the `int()` function, and then checks if the integer is greater than 0. If the integer is greater than 0, it prints \"more than 0\". Otherwise, it prints \"less than or equal to 0\".\n",
    "\"\"\"\n",
    "\n",
    "int_2 = int(input(\"Please insert the number: \"))\n",
    "\n",
    "if int_2 > 0:\n",
    "    print(\"more than 0\")\n",
    "else:\n",
    "    print(\"less than or equal to 0\")"
   ]
  },
  {
   "cell_type": "code",
   "execution_count": 3,
   "metadata": {},
   "outputs": [
    {
     "name": "stdout",
     "output_type": "stream",
     "text": [
      "zero\n"
     ]
    }
   ],
   "source": [
    "\n",
    "# 3\n",
    "\n",
    "\"\"\"\n",
    "This code prompts the user to input a number as a float, assigns that value to the variable `float_1`, and then checks whether the value is positive, negative, or zero. Depending on the value, it prints out the corresponding string.\n",
    "\"\"\"\n",
    "\n",
    "float_1 = float(input(\"Please insert the number: \"))\n",
    "\n",
    "if float_1 > 0:\n",
    "    print(\"positive\")\n",
    "elif float_1 < 0:\n",
    "    print(\"negative\")\n",
    "else:\n",
    "    print(\"zero\")"
   ]
  },
  {
   "cell_type": "code",
   "execution_count": 5,
   "metadata": {},
   "outputs": [
    {
     "name": "stdout",
     "output_type": "stream",
     "text": [
      "negative even\n"
     ]
    }
   ],
   "source": [
    "# 4\n",
    "\n",
    "\"\"\"\n",
    "This code takes an input from the user and checks if it is positive, negative or zero. If it is positive, it checks if it is even or odd and prints the appropriate message. If it is negative, it also checks if it is even or odd and prints the appropriate message. If it is zero, it simply prints \"zero\".\n",
    "\"\"\"\n",
    "\n",
    "int_3 = int(input(\"Please insert the number\"))\n",
    "\n",
    "if int_3 > 0:\n",
    "    if int_3 % 2 == 0:\n",
    "        print(\"positive even\")\n",
    "    else:\n",
    "        print(\"positive odd\")\n",
    "elif int_3 < 0:\n",
    "    if int_3 % 2 == 0:\n",
    "        print(\"negative even\")\n",
    "    else:\n",
    "        print(\"negative odd\")\n",
    "else:\n",
    "    print(\"zero\")"
   ]
  },
  {
   "cell_type": "code",
   "execution_count": 11,
   "metadata": {},
   "outputs": [
    {
     "name": "stdout",
     "output_type": "stream",
     "text": [
      "30\n"
     ]
    }
   ],
   "source": [
    "# 5\n",
    "\n",
    "\"\"\"\n",
    "This code prompts the user to input the width and length of a rectangle as integer values. If either value is less than or equal to zero, it prints a message asking the user to input an integer number. Otherwise, it calculates the area of the rectangle by multiplying the width and length, and prints the result.\n",
    "\"\"\"\n",
    "\n",
    "width = int(input(\"Please insert the width: \"))\n",
    "length = int(input(\"Please insert the width: \"))\n",
    "\n",
    "if (width <= 0) or (length <= 0):\n",
    "    print(\"Please insert an integer number\")\n",
    "else: \n",
    "    area = width * length\n",
    "    print(area)"
   ]
  },
  {
   "cell_type": "code",
   "execution_count": 13,
   "metadata": {},
   "outputs": [
    {
     "name": "stdout",
     "output_type": "stream",
     "text": [
      "543\n"
     ]
    }
   ],
   "source": [
    "# 6\n",
    "\n",
    "\"\"\"\n",
    "This code is taking an input from the user for the year in Anno Domini (AD) format. It then checks if the input is greater than or equal to 0. If it is, it converts the year to the Buddhist Era (BE) format by adding 543 to the AD year and prints the result. If the input is less than 0, it prints a message asking the user to input a number greater than or equal to 0.\n",
    "\"\"\"\n",
    "\n",
    "AD = int(input(\"Please insert Anno Domini: \"))\n",
    "\n",
    "if AD >= 0:\n",
    "    BE = AD + 543\n",
    "    print(BE)\n",
    "else:\n",
    "    print(\"Please insert a number greater than or equal to 0\")"
   ]
  },
  {
   "cell_type": "code",
   "execution_count": 4,
   "metadata": {},
   "outputs": [
    {
     "name": "stdout",
     "output_type": "stream",
     "text": [
      "37.77777777777778\n"
     ]
    }
   ],
   "source": [
    "# 7\n",
    "\n",
    "\"\"\"\n",
    "This code prompts the user to input a temperature in Fahrenheit, converts it to Celsius if the temperature is above or equal to 32 degrees Fahrenheit, and prints the Celsius temperature. If the temperature is below 32 degrees Fahrenheit, it prints \"cold\".\n",
    "\"\"\"\n",
    "\n",
    "F = float(input(\"Please insert the temperature in Fahrenheit: \"))\n",
    "\n",
    "if F >= 32:\n",
    "    C = 5 * (F - 32) / 9\n",
    "    print(C)\n",
    "else:\n",
    "    print(\"cold\")"
   ]
  },
  {
   "cell_type": "code",
   "execution_count": 8,
   "metadata": {},
   "outputs": [
    {
     "name": "stdout",
     "output_type": "stream",
     "text": [
      "1625.0 ฿\n"
     ]
    }
   ],
   "source": [
    "# 8\n",
    "\n",
    "\"\"\"\n",
    "This code prompts the user to input an amount in US dollars, converts it to Thai Baht (THB) using the exchange rate of 1 USD = 32.5 THB, and prints the result. If the input is less than or equal to 0, it prints a message saying that the user doesn't have money.\n",
    "\"\"\"\n",
    "\n",
    "USD = float(input(\"Please specify the amount in US dollar: \"))\n",
    "\n",
    "if USD > 0:\n",
    "    THB = USD * 32.5\n",
    "    print(THB, \"฿\")\n",
    "else:\n",
    "    print(\"you don\\'t have money\")\n"
   ]
  },
  {
   "cell_type": "code",
   "execution_count": 1,
   "metadata": {},
   "outputs": [
    {
     "name": "stdout",
     "output_type": "stream",
     "text": [
      "15.243902439024392 $\n",
      "4.573170731707317 ฿\n"
     ]
    }
   ],
   "source": [
    "# 9\n",
    "\n",
    "\"\"\"\n",
    "This code is taking an input from the user in the form of a float value representing an amount in Baht. It then checks if the input is greater than 0. If it is, it converts the Baht amount to USD and calculates the bank's profit as 30% of the USD amount. It then prints the USD amount and the bank's profit in Baht. If the input is not greater than 0, it prints a message indicating that the user does not have any money.\n",
    "\"\"\"\n",
    "\n",
    "THB = float(input(\"Please specify the amount in Baht: \"))\n",
    "\n",
    "if THB > 0:\n",
    "    USD = THB / 32.80\n",
    "    bank_profit = USD * 0.30\n",
    "    print(USD, '$')\n",
    "    print(bank_profit, '฿')\n",
    "else:\n",
    "    print(\"you don\\'t have money\")"
   ]
  },
  {
   "attachments": {},
   "cell_type": "markdown",
   "metadata": {},
   "source": []
  },
  {
   "cell_type": "code",
   "execution_count": 1,
   "metadata": {},
   "outputs": [
    {
     "name": "stdout",
     "output_type": "stream",
     "text": [
      "5.2\n"
     ]
    }
   ],
   "source": [
    "# 10\n",
    "\n",
    "\"\"\"\n",
    "This code prompts the user to input two floating-point numbers, compares them, and prints the larger number or a message indicating that they are equal.\n",
    "\"\"\"\n",
    "\n",
    "float_2 = float(input(\"Please insert the number: \"))\n",
    "float_3 = float(input(\"Please insert the number: \"))\n",
    "\n",
    "if float_2 > float_3:\n",
    "    print(float_2)\n",
    "elif float_2 < float_3:\n",
    "    print(float_3)\n",
    "else:\n",
    "    print(\"They are equal\")"
   ]
  },
  {
   "cell_type": "code",
   "execution_count": 2,
   "metadata": {},
   "outputs": [
    {
     "name": "stdout",
     "output_type": "stream",
     "text": [
      "Not divisible by 3\n"
     ]
    }
   ],
   "source": [
    "# 12\n",
    "\n",
    "\"\"\"\n",
    "This code prompts the user to input a number, converts it to an integer using the `int()` function, and then checks if the number is divisible by 3 using the modulo operator `%`. If the number is divisible by 3, it prints \"Divisible by 3\", otherwise it prints \"Not divisible by 3\".\n",
    "\"\"\"\n",
    "\n",
    "int_4 = int(input(\"Please insert the number: \"))\n",
    "\n",
    "if int_4 % 3 == 0:\n",
    "    print(\"Divisible by 3\")\n",
    "else:\n",
    "    print(\"Not divisible by 3\")\n"
   ]
  },
  {
   "cell_type": "code",
   "execution_count": 4,
   "metadata": {},
   "outputs": [
    {
     "name": "stdout",
     "output_type": "stream",
     "text": [
      "Not divisible by 3 and 5\n"
     ]
    }
   ],
   "source": [
    "# 13\n",
    "\n",
    "\"\"\"\n",
    "This code prompts the user to input a number and stores it as an integer variable `int_5`. It then checks if the number is divisible by both 3 and 5 using the modulo operator `%`. If it is, it prints \"Divisible by 3 and 5\". If it is not, it prints \"Not divisible by 3 and 5\".\n",
    "\"\"\"\n",
    "\n",
    "int_5 = int(input(\"Please insert the number: \"))\n",
    "\n",
    "if (int_5 % 3 == 0) and (int_5 % 5 == 0):\n",
    "    print(\"Divisible by 3 and 5\")\n",
    "else:\n",
    "    print(\"Not divisible by 3 and 5\")"
   ]
  },
  {
   "cell_type": "code",
   "execution_count": 5,
   "metadata": {},
   "outputs": [
    {
     "name": "stdout",
     "output_type": "stream",
     "text": [
      "Divisible by 3 or 5\n"
     ]
    }
   ],
   "source": [
    "# 14\n",
    "\n",
    "\"\"\"\n",
    "This code prompts the user to input a number and stores it as an integer variable `int_5`. It then checks if the number is divisible by both 3 or 5 using the modulo operator `%`. If it is, it prints \"Divisible by 3 or 5\". If it is not, it prints \"Not divisible by 3 or 5\".\n",
    "\"\"\"\n",
    "\n",
    "int_6 = int(input(\"Please insert the number: \"))\n",
    "\n",
    "if (int_6 % 3 == 0) or (int_6 % 5 == 0):\n",
    "    print(\"Divisible by 3 or 5\")\n",
    "else:\n",
    "    print(\"Not divisible by 3 or 5\")"
   ]
  },
  {
   "cell_type": "code",
   "execution_count": 6,
   "metadata": {},
   "outputs": [],
   "source": [
    "# 15\n",
    "\n",
    "\"\"\"\n",
    "This code prompts the user to input three numbers (a, b, and c) and then checks if the sum of the first two numbers (a + b) is greater than the third number (c). If it is, then it prints the message \"a + b > c\".\n",
    "\"\"\"\n",
    "\n",
    "a = float(input(\"Please insert the number: \"))\n",
    "b = float(input(\"Please insert the number: \"))\n",
    "c = float(input(\"Please insert the number: \"))\n",
    "\n",
    "if (a + b) > c:\n",
    "    print(\"a + b > c\")"
   ]
  },
  {
   "cell_type": "code",
   "execution_count": 4,
   "metadata": {},
   "outputs": [
    {
     "name": "stdout",
     "output_type": "stream",
     "text": [
      "30\n"
     ]
    }
   ],
   "source": [
    "# 16\n",
    "\n",
    "\"\"\"\n",
    "The code is calculating the fee for parking based on the number of hours and minutes.\n",
    "\"\"\"\n",
    "\n",
    "hour = int(input())\n",
    "minute = int(input())\n",
    "\n",
    "if minute > 0:\n",
    "    hour += 1\n",
    "    fee = (hour - 1) * 30\n",
    "print(fee)"
   ]
  },
  {
   "cell_type": "code",
   "execution_count": 3,
   "metadata": {},
   "outputs": [
    {
     "name": "stdout",
     "output_type": "stream",
     "text": [
      "30\n"
     ]
    }
   ],
   "source": [
    "# 17\n",
    "\n",
    "\"\"\"\n",
    "The code is taking input from the user for the hour and minute. It then checks if the hour or minute is negative. If either of them is negative, it prints a message asking the user to insert a positive hour. Then, the code is calculating the fee for parking based on the number of hours and minutes.\n",
    "\"\"\"\n",
    "\n",
    "hour = int(input())\n",
    "minute = int(input())\n",
    "\n",
    "if (hour < 0) or (minute < 0):\n",
    "    print(\"Please insert positive hour\")\n",
    "else:\n",
    "    if minute > 0:\n",
    "        hour += 1\n",
    "    fee = (hour - 1) * 30\n",
    "    print(fee)"
   ]
  },
  {
   "cell_type": "code",
   "execution_count": 5,
   "metadata": {},
   "outputs": [
    {
     "name": "stdout",
     "output_type": "stream",
     "text": [
      "60\n"
     ]
    }
   ],
   "source": [
    "# 18\n",
    "\n",
    "\"\"\"\n",
    "The code is calculating the fee for a service based on the bill amount and the duration of the service.\n",
    "\"\"\"\n",
    "\n",
    "bill = int(input(\"Please insert your bill: \"))\n",
    "hour = int(input())\n",
    "minute = int(input())\n",
    "\n",
    "if minute > 0:\n",
    "    hour += 1\n",
    "if bill >= 1000:\n",
    "    fee = (hour - 4) * 30\n",
    "    if fee < 0:\n",
    "        fee = 0\n",
    "else:\n",
    "    fee = (hour - 1) * 30\n",
    "print(fee)"
   ]
  },
  {
   "cell_type": "code",
   "execution_count": 9,
   "metadata": {},
   "outputs": [
    {
     "name": "stdout",
     "output_type": "stream",
     "text": [
      "Your bill is 2000.0\n",
      "discount =  200.0\n",
      "You have to pay 1800.0\n"
     ]
    }
   ],
   "source": [
    "# 19\n",
    "\n",
    "\"\"\"\n",
    "This code prompts the user to input their bill amount as a float. It then checks the value of the bill and calculates the discount based on the following conditions:\n",
    "\"\"\"\n",
    "\n",
    "bill = float(input(\"Please insert your bill: \"))\n",
    "\n",
    "if bill >= 50000:\n",
    "    discount = bill * 0.20\n",
    "elif bill >= 10000:\n",
    "    discount = bill * 0.15\n",
    "elif bill >= 1000:\n",
    "    discount = bill * 0.10\n",
    "else:\n",
    "    discount = 0\n",
    "\n",
    "print(\"Your bill is\", bill)\n",
    "print(\"discount = \", discount)    \n",
    "print(\"You have to pay\", bill - discount)"
   ]
  },
  {
   "cell_type": "code",
   "execution_count": 15,
   "metadata": {},
   "outputs": [
    {
     "name": "stdout",
     "output_type": "stream",
     "text": [
      "You have an excellent physique.\n"
     ]
    }
   ],
   "source": [
    "# 20\n",
    "\n",
    "\"\"\"\n",
    "The code is asking the user to input their gender, weight, and height. It then checks if the gender is \"Male\" or \"Female\" and compares the weight to the height minus a certain value (100 for males and 110 for females). Based on the comparison, it prints out a message suggesting whether the person should exercise or if they have an excellent physique.\n",
    "\"\"\"\n",
    "\n",
    "gender = str(input(\"What is your gender: \"))\n",
    "weight = float(input(\"Please insert your weight (kg.): \"))\n",
    "height = int(input(\"Please insert your height (cm.): \"))\n",
    "\n",
    "if gender == \"Male\":\n",
    "    if weight > height - 100:\n",
    "        print(\"you should exercise.\")\n",
    "    else:\n",
    "        print(\"You have an excellent physique.\")\n",
    "elif gender == \"Female\":\n",
    "    if weight > height - 110:\n",
    "        print(\"you should exercise.\")\n",
    "    else:\n",
    "        print(\"You have an excellent physique.\")  "
   ]
  },
  {
   "cell_type": "code",
   "execution_count": 1,
   "metadata": {},
   "outputs": [
    {
     "name": "stdout",
     "output_type": "stream",
     "text": [
      "drive to fast\n"
     ]
    }
   ],
   "source": [
    "# 21 \n",
    "\n",
    "\"\"\"\n",
    "The code is asking the user to input a value for velocity in kilometers per hour. The input is then converted to a float data type using the `float()` function and stored in the variable `velocity`. The code is checking if the value of `velocity` is greater than 120. If it is, then it prints the message \"drive too fast\".\n",
    "\"\"\"\n",
    "\n",
    "velocity = float(input(\"velocity (km/hr): \"))\n",
    "\n",
    "if velocity > 120:\n",
    "    print(\"drive to fast\")"
   ]
  },
  {
   "cell_type": "code",
   "execution_count": 4,
   "metadata": {},
   "outputs": [
    {
     "name": "stdout",
     "output_type": "stream",
     "text": [
      "pay 500 baht\n"
     ]
    }
   ],
   "source": [
    "# 22\n",
    "\n",
    "\"\"\"\n",
    "The code is asking the user to input a value for velocity in kilometers per hour. It then checks if the velocity is greater than 120. If it is, it prints \"pay 1000 baht\". If the velocity is not greater than 120, it checks if the velocity is greater than 80. If it is, it prints \"pay 500 baht\".\n",
    "\"\"\"\n",
    "\n",
    "velocity = float(input(\"velocity (km/hr): \"))\n",
    "\n",
    "if velocity > 120:\n",
    "    print(\"pay 1000 baht\")\n",
    "elif velocity > 80:\n",
    "    print(\"pay 500 baht\")"
   ]
  },
  {
   "cell_type": "code",
   "execution_count": 5,
   "metadata": {},
   "outputs": [
    {
     "name": "stdout",
     "output_type": "stream",
     "text": [
      "enjoy listening!\n"
     ]
    }
   ],
   "source": [
    "# 23\n",
    "\n",
    "\"\"\"\n",
    "The code is asking the user to input a value for `listen_time`. It then checks if the value of `listen_time` is greater than 4. If it is, it prints \"danger to your ears\". Otherwise, it prints \"enjoy listening!\". This code is likely checking if the duration of listening time is safe for the user's ears.\n",
    "\"\"\"\n",
    "\n",
    "listen_time = float(input(\"\"))\n",
    "\n",
    "if listen_time > 4:\n",
    "    print(\"danger to your ears\")\n",
    "else:\n",
    "    print(\"enjoy listening!\")"
   ]
  },
  {
   "cell_type": "code",
   "execution_count": 6,
   "metadata": {},
   "outputs": [
    {
     "name": "stdout",
     "output_type": "stream",
     "text": [
      "600.0\n"
     ]
    }
   ],
   "source": [
    "# 24\n",
    "\n",
    "\"\"\"\n",
    "The code is calculating the fee for a transportation service based on the status and distance provided by the user.\n",
    "\"\"\"\n",
    "\n",
    "status = str(input())\n",
    "distance = float(input())\n",
    "\n",
    "if status == \"คล่องตัว\":\n",
    "    fee = distance * 10\n",
    "elif status == \"ปานกลาง\":\n",
    "    fee = distance * 12\n",
    "elif status == \"หนาแน่น\":\n",
    "    fee = distance * 15\n",
    "print(fee)\n"
   ]
  },
  {
   "cell_type": "code",
   "execution_count": 7,
   "metadata": {},
   "outputs": [
    {
     "name": "stdout",
     "output_type": "stream",
     "text": [
      "pass\n"
     ]
    }
   ],
   "source": [
    "# 25\n",
    "\n",
    "\"\"\"\n",
    "The code is taking an input from the user and storing it in the variable `score`. It then checks if the value of `score` is greater than or equal to 50. If it is, it prints \"pass\". Otherwise, it prints \"fail\".\n",
    "\"\"\"\n",
    "\n",
    "score = int(input())\n",
    "\n",
    "if score >= 50:\n",
    "    print(\"pass\")\n",
    "else:\n",
    "    print(\"fail\")"
   ]
  },
  {
   "cell_type": "code",
   "execution_count": 8,
   "metadata": {},
   "outputs": [
    {
     "name": "stdout",
     "output_type": "stream",
     "text": [
      "D\n"
     ]
    }
   ],
   "source": [
    "# 26\n",
    "\n",
    "\"\"\"\n",
    "The code is taking an input from the user and storing it in the variable `score`. It then checks the value of `score` against different conditions using if statements.\n",
    "\"\"\"\n",
    "\n",
    "score = int(input())\n",
    "\n",
    "if score >= 80:\n",
    "    print(\"A\")\n",
    "if score >= 70:\n",
    "    print(\"B\")\n",
    "if score >= 60:\n",
    "    print(\"C\")\n",
    "if score >= 50:\n",
    "    print(\"D\")\n",
    "else:\n",
    "    print(\"F\")"
   ]
  },
  {
   "cell_type": "code",
   "execution_count": 11,
   "metadata": {},
   "outputs": [
    {
     "name": "stdout",
     "output_type": "stream",
     "text": [
      "You got discount 150.0\n"
     ]
    }
   ],
   "source": [
    "# 27\n",
    "\n",
    "\"\"\"\n",
    "The code is asking the user if they are a member and storing their response in the variable `isMember`. It then asks the user for the bill amount and stores it in the variable `bill`. Then, checking if the user is a member by comparing the value of the `isMember` variable to the string \"yes\". If the user is a member, it then checks the value of the `bill` variable to determine the discount amount. If the bill is greater than or equal to 5000, the discount is calculated as 15% of the bill amount. If the bill is between 1000 and 4999, the discount is calculated as 10% of the bill amount. If the bill is between 500 and 999, the discount is calculated as 5% of the bill amount. If the user is not a member, it prints \"no discount available\".\n",
    "\"\"\"\n",
    "\n",
    "isMember = str(input(\"Are you a member?: \"))\n",
    "bill = float(input())\n",
    "\n",
    "if isMember == \"yes\":\n",
    "    if bill >= 5000:\n",
    "        discount = bill * 0.15\n",
    "    elif bill >= 1000:\n",
    "        discount = bill * 0.10\n",
    "    elif bill >= 500:\n",
    "        discount = bill * 0.05\n",
    "    else:\n",
    "        discount = 0\n",
    "    print(\"You got discount\", discount)\n",
    "elif isMember == \"no\":\n",
    "    discount = 0\n",
    "    print(\"no discount available\")"
   ]
  },
  {
   "cell_type": "code",
   "execution_count": 13,
   "metadata": {},
   "outputs": [
    {
     "name": "stdout",
     "output_type": "stream",
     "text": [
      "14.499999999999998\n"
     ]
    }
   ],
   "source": [
    "# 28\n",
    "\n",
    "\"\"\"\n",
    "The code is asking the user to input a currency and an amount. If the currency is \"USD\", it will convert the amount to Thai Baht (THB) by multiplying it by the exchange rate of 32.5 and then print the result. If the currency is \"JPY\", it will convert the amount to THB by multiplying it by the exchange rate of 0.29 and then print the result.\n",
    "\"\"\"\n",
    "\n",
    "currency = str(input())\n",
    "amount = float(input())\n",
    "\n",
    "if currency == \"USD\":\n",
    "    THB = amount * 32.5\n",
    "    print(THB)\n",
    "elif currency == \"JPY\":\n",
    "    THB = amount * 0.29\n",
    "    print(THB)"
   ]
  },
  {
   "cell_type": "code",
   "execution_count": 17,
   "metadata": {},
   "outputs": [
    {
     "name": "stdout",
     "output_type": "stream",
     "text": [
      "20 ฿\n"
     ]
    }
   ],
   "source": [
    "# 29\n",
    "\n",
    "\"\"\"\n",
    "The code snippet is taking user input for the type of order and the amount of orders. It then checks the value of the `order` variable using if-elif-else statements. If the value of `order` matches \"fried egg\", \"omelet\", or \"boiled eggs\", it calculates the price based on the amount of orders and prints it. If the value of `order` does not match any of the specified options, it prints a message indicating the available options.\n",
    "\"\"\"\n",
    "\n",
    "order = str(input())\n",
    "amount = int(input(\"amount of orders: \"))\n",
    "\n",
    "if order == \"fried egg\":\n",
    "    price = amount * 7\n",
    "    print(price, \"฿\")\n",
    "elif order == \"omelet\":\n",
    "    price = amount * 10\n",
    "    print(price, \"฿\")\n",
    "elif order == \"boiled eggs\":\n",
    "    price = amount * 5\n",
    "    print(price, \"฿\")\n",
    "else:\n",
    "    print(\"The restaurant has fried egg, omelet and boiled eggs\")"
   ]
  },
  {
   "cell_type": "code",
   "execution_count": 19,
   "metadata": {},
   "outputs": [
    {
     "name": "stdout",
     "output_type": "stream",
     "text": [
      "I recommend ordering it with fried rice\n"
     ]
    }
   ],
   "source": [
    "# 30\n",
    "\n",
    "\"\"\"\n",
    "The code is taking user input and storing it in the variable `order`. It then checks the value of `order` using an if-elif-else statement. If `order` is equal to \"fried egg\", it will print \"I recommend ordering it with soup\". If `order` is equal to \"omelet\", it will print \"I recommend ordering it with fried rice\". If `order` is equal to \"boiled eggs\", it will print \"I recommend ordering it with salad\". If `order` is none of the above, it will print \"The restaurant has fried egg, omelet and boiled eggs\".\n",
    "\"\"\"\n",
    "\n",
    "order = str(input())\n",
    "\n",
    "if order == \"fried egg\":\n",
    "    print(\"I recommend ordering it with soup\")\n",
    "elif order == \"omelet\":\n",
    "    print(\"I recommend ordering it with fried rice\")\n",
    "elif order == \"boiled eggs\":\n",
    "    print(\"I recommend ordering it with salad\")\n",
    "else:\n",
    "    print(\"The restaurant has fried egg, omelet and boiled eggs\")"
   ]
  }
 ],
 "metadata": {
  "kernelspec": {
   "display_name": "Python 3",
   "language": "python",
   "name": "python3"
  },
  "language_info": {
   "codemirror_mode": {
    "name": "ipython",
    "version": 3
   },
   "file_extension": ".py",
   "mimetype": "text/x-python",
   "name": "python",
   "nbconvert_exporter": "python",
   "pygments_lexer": "ipython3",
   "version": "3.10.11"
  },
  "orig_nbformat": 4
 },
 "nbformat": 4,
 "nbformat_minor": 2
}
