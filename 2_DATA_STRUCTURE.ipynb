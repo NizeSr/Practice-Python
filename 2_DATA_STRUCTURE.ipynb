{
  "cells": [
    {
      "cell_type": "markdown",
      "metadata": {
        "colab_type": "text",
        "id": "view-in-github"
      },
      "source": [
        "<a href=\"https://colab.research.google.com/github/NizeSr/Python/blob/main/2_DATA_STRUCTURE.ipynb\" target=\"_parent\"><img src=\"https://colab.research.google.com/assets/colab-badge.svg\" alt=\"Open In Colab\"/></a>"
      ]
    },
    {
      "cell_type": "markdown",
      "metadata": {
        "id": "T0y2RA0ROnew"
      },
      "source": [
        "# Numeric"
      ]
    },
    {
      "cell_type": "code",
      "execution_count": null,
      "metadata": {
        "colab": {
          "base_uri": "https://localhost:8080/"
        },
        "id": "7IFrbzMqOshH",
        "outputId": "402436aa-289a-42e7-8f29-99c7bd9bb68f"
      },
      "outputs": [
        {
          "name": "stdout",
          "output_type": "stream",
          "text": [
            "5\n",
            "<class 'int'>\n"
          ]
        }
      ],
      "source": [
        "#1\n",
        "\n",
        "numeric1 = 5\n",
        "print(numeric1)\n",
        "print(type(numeric1))"
      ]
    },
    {
      "cell_type": "code",
      "execution_count": null,
      "metadata": {
        "colab": {
          "base_uri": "https://localhost:8080/"
        },
        "id": "PqQPnE0wO44I",
        "outputId": "cfa054af-7929-4c82-df24-ef3bbadd997d"
      },
      "outputs": [
        {
          "name": "stdout",
          "output_type": "stream",
          "text": [
            "-3\n",
            "<class 'int'>\n"
          ]
        }
      ],
      "source": [
        "#2\n",
        "\n",
        "numeric2 = -3\n",
        "print(numeric2)\n",
        "print(type(numeric2))"
      ]
    },
    {
      "cell_type": "code",
      "execution_count": null,
      "metadata": {
        "colab": {
          "base_uri": "https://localhost:8080/"
        },
        "id": "tbYxWyqfzKdF",
        "outputId": "932acf6b-82b1-4289-c1ad-4eeb67b25785"
      },
      "outputs": [
        {
          "name": "stdout",
          "output_type": "stream",
          "text": [
            "0\n",
            "<class 'int'>\n"
          ]
        }
      ],
      "source": [
        "#3\n",
        "\n",
        "numeric3 = 0\n",
        "print(numeric3)\n",
        "print(type(numeric3))"
      ]
    },
    {
      "cell_type": "code",
      "execution_count": null,
      "metadata": {
        "colab": {
          "base_uri": "https://localhost:8080/"
        },
        "id": "P8kQejJ9zXYQ",
        "outputId": "688d5c07-ee5e-455c-d4a7-94a4cbb93cad"
      },
      "outputs": [
        {
          "name": "stdout",
          "output_type": "stream",
          "text": [
            "Insert integer: 5\n",
            "5\n",
            "<class 'int'>\n"
          ]
        }
      ],
      "source": [
        "#4\n",
        "\n",
        "int1 = int(input('Insert integer: '))\n",
        "print(int1)\n",
        "print(type(int1))"
      ]
    },
    {
      "cell_type": "code",
      "execution_count": null,
      "metadata": {
        "colab": {
          "base_uri": "https://localhost:8080/"
        },
        "id": "UrgwZ5K6zpp5",
        "outputId": "9274290c-15a5-4fa1-b8dd-1adf97e5dfb5"
      },
      "outputs": [
        {
          "name": "stdout",
          "output_type": "stream",
          "text": [
            "5.0\n",
            "<class 'float'>\n"
          ]
        }
      ],
      "source": [
        "#5\n",
        "\n",
        "numeric1 = 5.0\n",
        "print(numeric1)\n",
        "print(type(numeric1))"
      ]
    },
    {
      "cell_type": "code",
      "execution_count": null,
      "metadata": {
        "colab": {
          "base_uri": "https://localhost:8080/"
        },
        "id": "W4O2hvBp8HJ8",
        "outputId": "ddae9259-09df-4e39-c1f6-ab59db2a47dd"
      },
      "outputs": [
        {
          "name": "stdout",
          "output_type": "stream",
          "text": [
            "-3.1\n",
            "<class 'float'>\n"
          ]
        }
      ],
      "source": [
        "#6\n",
        "\n",
        "numeric2 = -3.1\n",
        "print(numeric2)\n",
        "print(type(numeric2))"
      ]
    },
    {
      "cell_type": "code",
      "execution_count": null,
      "metadata": {
        "colab": {
          "base_uri": "https://localhost:8080/"
        },
        "id": "61e3qXn-8RH3",
        "outputId": "32909e01-bc58-44d5-a9c9-c7a8e5f93d21"
      },
      "outputs": [
        {
          "name": "stdout",
          "output_type": "stream",
          "text": [
            "0.0\n",
            "<class 'float'>\n"
          ]
        }
      ],
      "source": [
        "#7\n",
        "\n",
        "numeric3 = 0.0\n",
        "print(numeric3)\n",
        "print(type(numeric3))"
      ]
    },
    {
      "cell_type": "code",
      "execution_count": null,
      "metadata": {
        "colab": {
          "base_uri": "https://localhost:8080/"
        },
        "id": "0w_452Sp8cdi",
        "outputId": "83620be8-3340-475d-f9c5-174127a5e5b9"
      },
      "outputs": [
        {
          "name": "stdout",
          "output_type": "stream",
          "text": [
            "Insert float: 9.9\n",
            "9.9\n",
            "<class 'float'>\n"
          ]
        }
      ],
      "source": [
        "#8\n",
        "\n",
        "float1 = float(input('Insert float: '))\n",
        "print(float1)\n",
        "print(type(float1))"
      ]
    },
    {
      "cell_type": "code",
      "execution_count": null,
      "metadata": {
        "colab": {
          "base_uri": "https://localhost:8080/"
        },
        "id": "ikDoytgG82nx",
        "outputId": "892a428a-f8d7-4374-886f-b0593d1304bf"
      },
      "outputs": [
        {
          "name": "stdout",
          "output_type": "stream",
          "text": [
            "Insert integer_1: 2\n",
            "Insert integer_2: 3\n",
            "(5, -1, 6, 0.6666666666666666)\n",
            "<class 'tuple'>\n"
          ]
        }
      ],
      "source": [
        "#9.1\n",
        "\n",
        "int1 = int(input('Insert integer_1: '))\n",
        "int2 = int(input('Insert integer_2: '))\n",
        "calculation = int1 + int2, int1 - int2, int1 * int2, int1 / int2\n",
        "print(calculation)\n",
        "print(type(calculation))"
      ]
    },
    {
      "cell_type": "code",
      "execution_count": null,
      "metadata": {
        "colab": {
          "base_uri": "https://localhost:8080/"
        },
        "id": "KzuTLYaF9sua",
        "outputId": "90e0dcee-96bf-47f6-b263-3ff4ce740b64"
      },
      "outputs": [
        {
          "name": "stdout",
          "output_type": "stream",
          "text": [
            "Insert integer_1: 2\n",
            "Insert integer_2: 3\n",
            "integer_1:  2 <class 'int'>\n",
            "integer_2:  3 <class 'int'>\n",
            "ผลบวก = 5 <class 'int'> ผลลบ = -1 <class 'int'> ผลคูณ = 6 <class 'int'> ผลหาร = 0.6666666666666666 <class 'float'>\n"
          ]
        }
      ],
      "source": [
        "#9.2\n",
        "\n",
        "int1 = int(input('Insert integer_1: '))\n",
        "int2 = int(input('Insert integer_2: '))\n",
        "\n",
        "print('integer_1: ', int1, type(int1))\n",
        "print('integer_2: ', int2, type(int2))\n",
        "\n",
        "a = int1 + int2\n",
        "b = int1 - int2\n",
        "c = int1 * int2\n",
        "d = int1 / int2\n",
        "\n",
        "print('ผลบวก =', a, type(a),\n",
        "      'ผลลบ =', b, type(b),\n",
        "      'ผลคูณ =', c, type(c),\n",
        "      'ผลหาร =', d, type(d))\n"
      ]
    },
    {
      "cell_type": "code",
      "execution_count": null,
      "metadata": {
        "colab": {
          "base_uri": "https://localhost:8080/"
        },
        "id": "nAfz-nLW_INW",
        "outputId": "92b35a13-9cc2-4200-a25b-21b6dc6116b3"
      },
      "outputs": [
        {
          "name": "stdout",
          "output_type": "stream",
          "text": [
            "Insert float_1: 2.5\n",
            "Insert float_2: 3.5\n",
            "(6.0, -1.0, 8.75, 0.7142857142857143)\n",
            "<class 'tuple'>\n"
          ]
        }
      ],
      "source": [
        "#10.1\n",
        "\n",
        "float1 = float(input('Insert float_1: '))\n",
        "float2 = float(input('Insert float_2: '))\n",
        "calculation = float1 + float2, float1 - float2, float1 * float2, float1 / float2\n",
        "print(calculation)\n",
        "print(type(calculation))"
      ]
    },
    {
      "cell_type": "code",
      "execution_count": 30,
      "metadata": {
        "colab": {
          "base_uri": "https://localhost:8080/"
        },
        "id": "8EILSgiWIy5G",
        "outputId": "204a676e-ced1-4ab6-a0ed-f500b3374b04"
      },
      "outputs": [
        {
          "name": "stdout",
          "output_type": "stream",
          "text": [
            "Insert float_1: 2.5\n",
            "Insert float_2: 3.5\n",
            "float_1:  2.5 <class 'float'>\n",
            "float_2:  3.5 <class 'float'>\n",
            "ผลบวก = 6.0 <class 'float'> ผลลบ = -1.0 <class 'float'> ผลคูณ = 8.75 <class 'float'> ผลหาร = 0.7142857142857143 <class 'float'>\n"
          ]
        }
      ],
      "source": [
        "#10.2\n",
        "\n",
        "float1 = float(input('Insert float_1: '))\n",
        "float2 = float(input('Insert float_2: '))\n",
        "\n",
        "print('float_1: ', float1, type(float1))\n",
        "print('float_2: ', float2, type(float2))\n",
        "\n",
        "a = float1 + float2\n",
        "b = float1 - float2\n",
        "c = float1 * float2\n",
        "d = float1 / float2\n",
        "\n",
        "print('ผลบวก =', a, type(a),\n",
        "      'ผลลบ =', b, type(b),\n",
        "      'ผลคูณ =', c, type(c),\n",
        "      'ผลหาร =', d, type(d))"
      ]
    },
    {
      "cell_type": "code",
      "execution_count": 29,
      "metadata": {
        "colab": {
          "base_uri": "https://localhost:8080/"
        },
        "id": "JIH8Js14KY6f",
        "outputId": "cb493a9f-fdc6-48ae-b098-c465eff319ef"
      },
      "outputs": [
        {
          "name": "stdout",
          "output_type": "stream",
          "text": [
            "Insert integer_1: 5\n",
            "Insert float_1: 2.5\n",
            "(7.5, 2.5, 12.5, 2.0)\n",
            "<class 'tuple'>\n"
          ]
        }
      ],
      "source": [
        "#11.1\n",
        "\n",
        "int1 = int(input('Insert integer_1: '))\n",
        "float1 = float(input('Insert float_1: '))\n",
        "calculation = int1 + float1, int1 - float1, int1 * float1, int1 / float1\n",
        "print(calculation)\n",
        "print(type(calculation))"
      ]
    },
    {
      "cell_type": "code",
      "execution_count": 31,
      "metadata": {
        "colab": {
          "base_uri": "https://localhost:8080/"
        },
        "id": "E2aSEhEsLBkm",
        "outputId": "1187c725-3203-46b9-9599-175f12b8689f"
      },
      "outputs": [
        {
          "name": "stdout",
          "output_type": "stream",
          "text": [
            "Insert integer_1: 5\n",
            "Insert float_1: 2.5\n",
            "integer_1:  5 <class 'int'>\n",
            "float_1:  2.5 <class 'float'>\n",
            "ผลบวก = 7.5 <class 'float'> ผลลบ = 2.5 <class 'float'> ผลคูณ = 12.5 <class 'float'> ผลหาร = 2.0 <class 'float'>\n"
          ]
        }
      ],
      "source": [
        "#11.2\n",
        "\n",
        "int1 = int(input('Insert integer_1: '))\n",
        "float1 = float(input('Insert float_1: '))\n",
        "\n",
        "print('integer_1: ', int1, type(int1))\n",
        "print('float_1: ', float1, type(float1))\n",
        "\n",
        "a = int1 + float1\n",
        "b = int1 - float1\n",
        "c = int1 * float1\n",
        "d = int1 / float1\n",
        "\n",
        "print('ผลบวก =', a, type(a),\n",
        "      'ผลลบ =', b, type(b),\n",
        "      'ผลคูณ =', c, type(c),\n",
        "      'ผลหาร =', d, type(d))"
      ]
    },
    {
      "cell_type": "code",
      "execution_count": 32,
      "metadata": {
        "colab": {
          "base_uri": "https://localhost:8080/"
        },
        "id": "qXioHGFZLkVB",
        "outputId": "9e5bfc6e-e5ce-47ab-e2b6-9242234430e8"
      },
      "outputs": [
        {
          "name": "stdout",
          "output_type": "stream",
          "text": [
            "True <class 'bool'>\n"
          ]
        }
      ],
      "source": [
        "#12\n",
        "\n",
        "logic1 = True\n",
        "print(logic1, type(logic1))"
      ]
    },
    {
      "cell_type": "code",
      "execution_count": 33,
      "metadata": {
        "colab": {
          "base_uri": "https://localhost:8080/"
        },
        "id": "2wTTPslXMBpu",
        "outputId": "e3b340c3-0734-4cb5-ae8e-4f2163a38950"
      },
      "outputs": [
        {
          "name": "stdout",
          "output_type": "stream",
          "text": [
            "False <class 'bool'>\n"
          ]
        }
      ],
      "source": [
        "#13\n",
        "\n",
        "logic2 = False\n",
        "print(logic2, type(logic2))"
      ]
    },
    {
      "cell_type": "code",
      "execution_count": 36,
      "metadata": {
        "colab": {
          "base_uri": "https://localhost:8080/"
        },
        "id": "1pSGadpcMO4Z",
        "outputId": "585466e3-c6ab-4cc1-d328-664694e6146b"
      },
      "outputs": [
        {
          "name": "stdout",
          "output_type": "stream",
          "text": [
            "False\n",
            "False\n"
          ]
        }
      ],
      "source": [
        "#14\n",
        "logic1 = True\n",
        "logic2 = False\n",
        "\n",
        "print(logic1 and logic2)\n",
        "\n",
        "a = logic1 & logic2 #& = และ\n",
        "print(a)"
      ]
    },
    {
      "cell_type": "code",
      "execution_count": 37,
      "metadata": {
        "colab": {
          "base_uri": "https://localhost:8080/"
        },
        "id": "2zA6m_tsMg6Q",
        "outputId": "d3d65944-d8a9-49d8-e61c-1bd3b1b55eb9"
      },
      "outputs": [
        {
          "name": "stdout",
          "output_type": "stream",
          "text": [
            "True\n",
            "True\n"
          ]
        }
      ],
      "source": [
        "#15\n",
        "\n",
        "logic1 = True\n",
        "logic2 = False\n",
        "\n",
        "print(logic1 or logic2)\n",
        "\n",
        "a = logic1 or logic2\n",
        "print(a)"
      ]
    },
    {
      "cell_type": "code",
      "execution_count": 39,
      "metadata": {
        "colab": {
          "base_uri": "https://localhost:8080/"
        },
        "id": "dKNFQ2xCNrXQ",
        "outputId": "dede26d2-f015-427f-d035-1411c6550843"
      },
      "outputs": [
        {
          "name": "stdout",
          "output_type": "stream",
          "text": [
            "(1+2j) <class 'complex'>\n"
          ]
        }
      ],
      "source": [
        "#16\n",
        "\n",
        "complex1 = 1 +2j\n",
        "print(complex1, type(complex1))"
      ]
    },
    {
      "cell_type": "code",
      "execution_count": 40,
      "metadata": {
        "colab": {
          "base_uri": "https://localhost:8080/"
        },
        "id": "2HugXWexN3zX",
        "outputId": "661f4f0e-0792-49ba-c6a4-a436bd7a5774"
      },
      "outputs": [
        {
          "name": "stdout",
          "output_type": "stream",
          "text": [
            "1.0\n"
          ]
        }
      ],
      "source": [
        "#17\n",
        "\n",
        "complex1 = 1 +2j\n",
        "print(complex1.real) #ส่วนจริง"
      ]
    },
    {
      "cell_type": "code",
      "execution_count": 43,
      "metadata": {
        "colab": {
          "base_uri": "https://localhost:8080/"
        },
        "id": "9dZ4rr88OGcL",
        "outputId": "e309bd7c-5578-4ec3-fbc8-2aba04c5091a"
      },
      "outputs": [
        {
          "name": "stdout",
          "output_type": "stream",
          "text": [
            "2.0\n"
          ]
        }
      ],
      "source": [
        "#18\n",
        "\n",
        "complex1 = 1 +2j\n",
        "print(complex1.imag) #ส่วนจินตภาพ"
      ]
    },
    {
      "cell_type": "markdown",
      "metadata": {
        "id": "TrO9YKKROZLj"
      },
      "source": [
        "# String"
      ]
    },
    {
      "cell_type": "code",
      "execution_count": 44,
      "metadata": {
        "colab": {
          "base_uri": "https://localhost:8080/"
        },
        "id": "6kw0nREZOb94",
        "outputId": "65de5752-6cc8-478b-e3b0-46dbf8bb2253"
      },
      "outputs": [
        {
          "name": "stdout",
          "output_type": "stream",
          "text": [
            "Python <class 'str'>\n"
          ]
        }
      ],
      "source": [
        "#19\n",
        "\n",
        "string1 = 'Python'\n",
        "print(string1, type(string1))"
      ]
    },
    {
      "cell_type": "code",
      "execution_count": 46,
      "metadata": {
        "colab": {
          "base_uri": "https://localhost:8080/"
        },
        "id": "R-J1ALPTlyrY",
        "outputId": "2496e3b7-bba1-42ba-cebc-3290c53eb7c2"
      },
      "outputs": [
        {
          "name": "stdout",
          "output_type": "stream",
          "text": [
            "P\n"
          ]
        }
      ],
      "source": [
        "#20\n",
        "\n",
        "string1 = 'Python'\n",
        "print(string1[0])"
      ]
    },
    {
      "cell_type": "code",
      "execution_count": 47,
      "metadata": {
        "colab": {
          "base_uri": "https://localhost:8080/"
        },
        "id": "AJj8zsYHAHS0",
        "outputId": "3a647460-725b-4395-c2d5-9a519307509a"
      },
      "outputs": [
        {
          "name": "stdout",
          "output_type": "stream",
          "text": [
            "y\n"
          ]
        }
      ],
      "source": [
        "#21\n",
        "\n",
        "string1 = 'Python'\n",
        "print(string1[1])\n"
      ]
    },
    {
      "cell_type": "code",
      "execution_count": 48,
      "metadata": {
        "colab": {
          "base_uri": "https://localhost:8080/"
        },
        "id": "yFofDFWLAd0E",
        "outputId": "9956a658-0705-451a-ee26-e8ed7b3e59a9"
      },
      "outputs": [
        {
          "name": "stdout",
          "output_type": "stream",
          "text": [
            "n\n"
          ]
        }
      ],
      "source": [
        "#22\n",
        "\n",
        "string1 = 'Python'\n",
        "print(string1[-1])"
      ]
    },
    {
      "cell_type": "code",
      "execution_count": 50,
      "metadata": {
        "colab": {
          "base_uri": "https://localhost:8080/"
        },
        "id": "ZsWLELwRAlPU",
        "outputId": "621f3534-317d-4f10-916f-0e3fb3631cd2"
      },
      "outputs": [
        {
          "name": "stdout",
          "output_type": "stream",
          "text": [
            "o\n"
          ]
        }
      ],
      "source": [
        "#23\n",
        "\n",
        "string1 = 'Python'\n",
        "print(string1[-2])"
      ]
    },
    {
      "cell_type": "code",
      "execution_count": 52,
      "metadata": {
        "colab": {
          "base_uri": "https://localhost:8080/"
        },
        "id": "Ldhyy6R3Aoiz",
        "outputId": "024eabd8-579a-43f8-cb5e-c2cb73836d85"
      },
      "outputs": [
        {
          "name": "stdout",
          "output_type": "stream",
          "text": [
            "t\n"
          ]
        }
      ],
      "source": [
        "#24\n",
        "\n",
        "string1 = 'Python'\n",
        "print(string1[2])"
      ]
    },
    {
      "cell_type": "code",
      "execution_count": 53,
      "metadata": {
        "colab": {
          "base_uri": "https://localhost:8080/"
        },
        "id": "SjH24WmEAxCQ",
        "outputId": "794305b2-3309-4928-82ef-61991c58cb56"
      },
      "outputs": [
        {
          "name": "stdout",
          "output_type": "stream",
          "text": [
            "h\n"
          ]
        }
      ],
      "source": [
        "#25\n",
        "\n",
        "string1 = 'Python'\n",
        "print(string1[-3])"
      ]
    },
    {
      "cell_type": "code",
      "execution_count": 57,
      "metadata": {
        "colab": {
          "base_uri": "https://localhost:8080/"
        },
        "id": "HDa_RfSrA6Af",
        "outputId": "f79ace49-5051-49b9-f739-109b1809de3f"
      },
      "outputs": [
        {
          "name": "stdout",
          "output_type": "stream",
          "text": [
            "yth\n"
          ]
        }
      ],
      "source": [
        "#26\n",
        "\n",
        "string1 = 'Python'\n",
        "print(string1[1:4]) #print str ที่ index 1-3 (ต้อง +1 ที่ตัวหลัง)"
      ]
    },
    {
      "cell_type": "code",
      "execution_count": 58,
      "metadata": {
        "colab": {
          "base_uri": "https://localhost:8080/"
        },
        "id": "svwURUZBBBV-",
        "outputId": "bb1ce464-7d70-4627-d7a9-495f69fb341c"
      },
      "outputs": [
        {
          "name": "stdout",
          "output_type": "stream",
          "text": [
            "tho\n"
          ]
        }
      ],
      "source": [
        "#27 -- from index 2 to -2\n",
        "\n",
        "string1 = 'Python'\n",
        "print(string1[2:-1])"
      ]
    },
    {
      "cell_type": "code",
      "execution_count": 59,
      "metadata": {
        "colab": {
          "base_uri": "https://localhost:8080/"
        },
        "id": "AzguPOy1BfWo",
        "outputId": "65068dac-ca27-4c96-8350-e99a63cfa894"
      },
      "outputs": [
        {
          "name": "stdout",
          "output_type": "stream",
          "text": [
            "thon\n"
          ]
        }
      ],
      "source": [
        "#28 -- from index 2 to -1\n",
        "\n",
        "string1 = 'Python'\n",
        "print(string1[2:])"
      ]
    },
    {
      "cell_type": "code",
      "execution_count": 61,
      "metadata": {
        "colab": {
          "base_uri": "https://localhost:8080/"
        },
        "id": "K1R_stW_B1bO",
        "outputId": "3c036b4e-73e8-4479-f5b9-47c03e2d5266"
      },
      "outputs": [
        {
          "name": "stdout",
          "output_type": "stream",
          "text": [
            "tho\n"
          ]
        }
      ],
      "source": [
        "#29 -- from index -4 to 4\n",
        "\n",
        "string1 = 'Python'\n",
        "print(string1[-4:5])"
      ]
    },
    {
      "cell_type": "code",
      "execution_count": 64,
      "metadata": {
        "colab": {
          "base_uri": "https://localhost:8080/"
        },
        "id": "8X9FgnkECLUq",
        "outputId": "be323f50-db48-430e-bf18-96eccdddefe8"
      },
      "outputs": [
        {
          "name": "stdout",
          "output_type": "stream",
          "text": [
            "Pytho\n",
            "Pytho\n"
          ]
        }
      ],
      "source": [
        "#30 -- from index -6 to 4\n",
        "\n",
        "string1 = 'Python'\n",
        "\n",
        "print(string1[-6:5])\n",
        "\n",
        "print(string1[:5])"
      ]
    },
    {
      "cell_type": "code",
      "execution_count": 63,
      "metadata": {
        "colab": {
          "base_uri": "https://localhost:8080/"
        },
        "id": "PoEHhHzTCOo3",
        "outputId": "bfa19fbb-74d7-49a0-d4c2-8efb2b6eb83d"
      },
      "outputs": [
        {
          "name": "stdout",
          "output_type": "stream",
          "text": [
            "tho\n"
          ]
        }
      ],
      "source": [
        "#31 -- from index -4 to -2\n",
        "\n",
        "string1 = 'Python'\n",
        "print(string1[-4:-1])"
      ]
    },
    {
      "cell_type": "code",
      "execution_count": 65,
      "metadata": {
        "colab": {
          "base_uri": "https://localhost:8080/"
        },
        "id": "wljWg--0DweG",
        "outputId": "703449ca-42d8-47fe-82ba-57504164cad5"
      },
      "outputs": [
        {
          "name": "stdout",
          "output_type": "stream",
          "text": [
            "Insert string: Python\n",
            "6\n"
          ]
        }
      ],
      "source": [
        "#32\n",
        "\n",
        "str1 = str(input('Insert string: '))\n",
        "print(len(string1))"
      ]
    },
    {
      "cell_type": "code",
      "execution_count": 1,
      "metadata": {
        "colab": {
          "base_uri": "https://localhost:8080/"
        },
        "id": "LemL0-SFE55Q",
        "outputId": "0ee26cac-0684-4ab6-a2f8-985b2c0394d5"
      },
      "outputs": [
        {
          "name": "stdout",
          "output_type": "stream",
          "text": [
            "Insert string: การบ้าน\n",
            "True\n"
          ]
        }
      ],
      "source": [
        "#33\n",
        "\n",
        "str1 = str(input('Insert string: '))\n",
        "\n",
        "print('ก' in str1)"
      ]
    },
    {
      "cell_type": "code",
      "execution_count": 2,
      "metadata": {
        "colab": {
          "base_uri": "https://localhost:8080/"
        },
        "id": "JtpCu_0hX9No",
        "outputId": "d5c7c175-274e-400c-9ce8-8176e87b24a4"
      },
      "outputs": [
        {
          "name": "stdout",
          "output_type": "stream",
          "text": [
            "Insert string_1: Data Analyst\n",
            "Insert string_2: Data\n",
            "True\n"
          ]
        }
      ],
      "source": [
        "#34\n",
        "\n",
        "string1 = str(input('Insert string_1: '))\n",
        "string2 = str(input('Insert string_2: '))\n",
        "\n",
        "print(string2 in string1)"
      ]
    },
    {
      "cell_type": "code",
      "execution_count": 3,
      "metadata": {
        "colab": {
          "base_uri": "https://localhost:8080/"
        },
        "id": "TT9Zz111hm1q",
        "outputId": "22fda65c-1571-41eb-ca6d-f31fd724b18a"
      },
      "outputs": [
        {
          "name": "stdout",
          "output_type": "stream",
          "text": [
            "Insert string_1: Data\n",
            "DAtA\n"
          ]
        }
      ],
      "source": [
        "#35\n",
        "\n",
        "string1 = str(input('Insert string_1: '))\n",
        "\n",
        "print(string1.replace('a', 'A'))"
      ]
    },
    {
      "cell_type": "code",
      "execution_count": 4,
      "metadata": {
        "colab": {
          "base_uri": "https://localhost:8080/"
        },
        "id": "GVpxPc10iFRn",
        "outputId": "e4058829-a464-44cc-b946-89eb6a9c2841"
      },
      "outputs": [
        {
          "name": "stdout",
          "output_type": "stream",
          "text": [
            "Insert string_1: Data\n",
            "DAtA\n"
          ]
        }
      ],
      "source": [
        "#36\n",
        "\n",
        "string1 = str(input('Insert string_1: '))\n",
        "string2 = string1.replace('a', 'A')\n",
        "\n",
        "print(string2)"
      ]
    },
    {
      "cell_type": "code",
      "execution_count": 6,
      "metadata": {
        "colab": {
          "base_uri": "https://localhost:8080/"
        },
        "id": "KKd4DLma2rT2",
        "outputId": "f376eedc-4f5a-4cb1-e214-f160627025c4"
      },
      "outputs": [
        {
          "name": "stdout",
          "output_type": "stream",
          "text": [
            "Insert sentence: I love data\n",
            "['I', 'love', 'data']\n"
          ]
        }
      ],
      "source": [
        "#37 ตัดคำโดยใช้ ' '\n",
        "\n",
        "sentence = str(input('Insert sentence: '))\n",
        "\n",
        "print(sentence.split(' '))"
      ]
    },
    {
      "cell_type": "code",
      "execution_count": 12,
      "metadata": {
        "colab": {
          "base_uri": "https://localhost:8080/"
        },
        "id": "y3KxIpoQ3PIY",
        "outputId": "786d6d7c-c19d-4ebf-8dd4-4608dd6fb6cc"
      },
      "outputs": [
        {
          "name": "stdout",
          "output_type": "stream",
          "text": [
            "Insert sentence: Data-Analysis\n",
            "insert string: -\n",
            "['Data', 'Analysis']\n"
          ]
        }
      ],
      "source": [
        "#38 ตัดคำโดยใช้ c\n",
        "\n",
        "sentence = input('Insert sentence: ')\n",
        "c = input('insert string: ')\n",
        "\n",
        "print(sentence.split(c))"
      ]
    },
    {
      "cell_type": "code",
      "execution_count": 14,
      "metadata": {
        "colab": {
          "base_uri": "https://localhost:8080/"
        },
        "id": "SwZZcvlb39Do",
        "outputId": "151c57f8-fc51-4813-f796-6cd42e28ec05"
      },
      "outputs": [
        {
          "name": "stdout",
          "output_type": "stream",
          "text": [
            "Insert str1: Data\n",
            "Insert str2: Analyst\n",
            "DataAnalyst\n"
          ]
        }
      ],
      "source": [
        "#39 นำ str2 ไปต่อท้าย str1\n",
        "\n",
        "str1 = str(input('Insert str1: '))\n",
        "str2 = str(input('Insert str2: '))\n",
        "\n",
        "print(str1 + str2)\n",
        "\n"
      ]
    },
    {
      "cell_type": "markdown",
      "metadata": {
        "id": "wKNqQFrq6Pt6"
      },
      "source": [
        "# List"
      ]
    },
    {
      "cell_type": "code",
      "execution_count": 13,
      "metadata": {
        "id": "8Ij8brvM6RUG"
      },
      "outputs": [
        {
          "name": "stdout",
          "output_type": "stream",
          "text": [
            "[0, 1, 2, 'a', 'b', 'c'] <class 'list'>\n"
          ]
        }
      ],
      "source": [
        "#40\n",
        "\n",
        "list1 = [0, 1, 2, 'a', 'b', 'c']\n",
        "print(list1, type(list1))"
      ]
    },
    {
      "cell_type": "code",
      "execution_count": 14,
      "metadata": {},
      "outputs": [
        {
          "name": "stdout",
          "output_type": "stream",
          "text": [
            "2\n"
          ]
        }
      ],
      "source": [
        "#41\n",
        "\n",
        "list1 = [0, 1, 2, 'a', 'b', 'c']\n",
        "print(list1[2])"
      ]
    },
    {
      "cell_type": "code",
      "execution_count": 15,
      "metadata": {},
      "outputs": [
        {
          "name": "stdout",
          "output_type": "stream",
          "text": [
            "a\n"
          ]
        }
      ],
      "source": [
        "#42\n",
        "\n",
        "list1 = [0, 1, 2, 'a', 'b', 'c']\n",
        "print(list1[-3])"
      ]
    },
    {
      "cell_type": "code",
      "execution_count": 16,
      "metadata": {},
      "outputs": [
        {
          "name": "stdout",
          "output_type": "stream",
          "text": [
            "0\n"
          ]
        }
      ],
      "source": [
        "#43\n",
        "\n",
        "list1 = [0, 1, 2, 'a', 'b', 'c']\n",
        "print(list1[0])"
      ]
    },
    {
      "cell_type": "code",
      "execution_count": 17,
      "metadata": {},
      "outputs": [
        {
          "name": "stdout",
          "output_type": "stream",
          "text": [
            "b\n"
          ]
        }
      ],
      "source": [
        "#44\n",
        "\n",
        "list1 = [0, 1, 2, 'a', 'b', 'c']\n",
        "print(list1[-2])"
      ]
    },
    {
      "cell_type": "code",
      "execution_count": 18,
      "metadata": {},
      "outputs": [
        {
          "name": "stdout",
          "output_type": "stream",
          "text": [
            "[2, 'a']\n"
          ]
        }
      ],
      "source": [
        "#45 -- from index 2 to 3\n",
        "\n",
        "list1 = [0, 1, 2, 'a', 'b', 'c']\n",
        "print(list1[2:4])"
      ]
    },
    {
      "cell_type": "code",
      "execution_count": 19,
      "metadata": {},
      "outputs": [
        {
          "name": "stdout",
          "output_type": "stream",
          "text": [
            "[1, 2, 'a', 'b']\n"
          ]
        }
      ],
      "source": [
        "#46 -- from index 1 to -2\n",
        "\n",
        "list1 = [0, 1, 2, 'a', 'b', 'c']\n",
        "print(list1[1:-1])"
      ]
    },
    {
      "cell_type": "code",
      "execution_count": 24,
      "metadata": {},
      "outputs": [
        {
          "name": "stdout",
          "output_type": "stream",
          "text": [
            "[1, 2, 'a', 'b']\n"
          ]
        }
      ],
      "source": [
        "#47\n",
        "\n",
        "list1 = [0, 1, 2, 'a', 'b', 'c']\n",
        "print(list1[1:-1])"
      ]
    },
    {
      "cell_type": "code",
      "execution_count": 23,
      "metadata": {},
      "outputs": [
        {
          "name": "stdout",
          "output_type": "stream",
          "text": [
            "['a', 'b', 'c']\n"
          ]
        }
      ],
      "source": [
        "#48\n",
        "\n",
        "list1 = [0, 1, 2, 'a', 'b', 'c']\n",
        "print(list1[3:])"
      ]
    },
    {
      "cell_type": "code",
      "execution_count": 25,
      "metadata": {},
      "outputs": [
        {
          "name": "stdout",
          "output_type": "stream",
          "text": [
            "[0, 1, 2]\n"
          ]
        }
      ],
      "source": [
        "#49\n",
        "\n",
        "list1 = [0, 1, 2, 'a', 'b', 'c']\n",
        "print(list1[:3])"
      ]
    },
    {
      "cell_type": "code",
      "execution_count": 27,
      "metadata": {},
      "outputs": [
        {
          "name": "stdout",
          "output_type": "stream",
          "text": [
            "['ant', 'bird', 'cat', 'duck', 'eagle']\n"
          ]
        }
      ],
      "source": [
        "#50 -- change value in index 3 to 'duck'\n",
        "\n",
        "list2 = ['ant', 'bird', 'cat', 'dog', 'eagle']\n",
        "\n",
        "list2[3] = 'duck'\n",
        "print(list2)"
      ]
    },
    {
      "cell_type": "code",
      "execution_count": 29,
      "metadata": {},
      "outputs": [
        {
          "name": "stdout",
          "output_type": "stream",
          "text": [
            "['ape', 'bird', 'cat', 'dog', 'eagle']\n"
          ]
        }
      ],
      "source": [
        "#51\n",
        "\n",
        "list2 = ['ant', 'bird', 'cat', 'dog', 'eagle']\n",
        "\n",
        "list2[0] = 'ape'\n",
        "print(list2)"
      ]
    },
    {
      "cell_type": "code",
      "execution_count": 30,
      "metadata": {},
      "outputs": [
        {
          "name": "stdout",
          "output_type": "stream",
          "text": [
            "['ant', 'bird', 'cat', 'dog', 'eagle', 'fish']\n"
          ]
        }
      ],
      "source": [
        "#52 -- Insert 'fish' into list2 at the last index\n",
        "\n",
        "list2 = ['ant', 'bird', 'cat', 'dog', 'eagle']\n",
        "\n",
        "list2.append('fish')\n",
        "print(list2)"
      ]
    },
    {
      "cell_type": "code",
      "execution_count": 3,
      "metadata": {},
      "outputs": [
        {
          "name": "stdout",
          "output_type": "stream",
          "text": [
            "['Data', 'Science', 'Specialist']\n"
          ]
        }
      ],
      "source": [
        "#53 -- Create an empthy list to get 3 inputs(string) by append method\n",
        "\n",
        "list3 = []\n",
        "\n",
        "str1 = input('Insert string_1: ')\n",
        "str2 = input('Insert string_2: ')\n",
        "str3 = input('Insert string_3: ')\n",
        "\n",
        "list3.append(str1)\n",
        "list3.append(str2)\n",
        "list3.append(str3)\n",
        "\n",
        "print(list3)"
      ]
    },
    {
      "cell_type": "code",
      "execution_count": 6,
      "metadata": {},
      "outputs": [
        {
          "name": "stdout",
          "output_type": "stream",
          "text": [
            "['apple', 'banana', 'cherry', 'eggfruit']\n"
          ]
        }
      ],
      "source": [
        "#54 -- Insert 'banana' into index 1\n",
        "\n",
        "list3 = ['apple', 'cherry', 'eggfruit']\n",
        "\n",
        "list3.insert(1, 'banana')\n",
        "print(list3)"
      ]
    },
    {
      "cell_type": "code",
      "execution_count": 8,
      "metadata": {},
      "outputs": [
        {
          "name": "stdout",
          "output_type": "stream",
          "text": [
            "['apple', 'cherry', 'kiwi', 'eggfruit']\n"
          ]
        }
      ],
      "source": [
        "#55 -- Insert 'kiwi' into index -2\n",
        "\n",
        "list3 = ['apple', 'cherry', 'eggfruit']\n",
        "\n",
        "list3.insert(-1, 'kiwi')\n",
        "print(list3)"
      ]
    },
    {
      "cell_type": "code",
      "execution_count": 10,
      "metadata": {},
      "outputs": [
        {
          "name": "stdout",
          "output_type": "stream",
          "text": [
            "[0, 1, 2, 3, 4]\n",
            "[0, 1, 2, 3, 4]\n"
          ]
        }
      ],
      "source": [
        "#56 -- Order value in list (น้อยไปมาก)\n",
        "\n",
        "list4 = [0, 4, 2, 3, 1]\n",
        "\n",
        "\n",
        "print(sorted(list4))\n",
        "\n",
        "list4.sort()\n",
        "print(list4)"
      ]
    },
    {
      "cell_type": "code",
      "execution_count": 11,
      "metadata": {},
      "outputs": [
        {
          "name": "stdout",
          "output_type": "stream",
          "text": [
            "[4, 3, 2, 1, 0]\n"
          ]
        }
      ],
      "source": [
        "#57 -- Order value in list (มากไปน้อย)\n",
        "\n",
        "list4 = [0, 4, 2, 3, 1]\n",
        "\n",
        "list4.sort(reverse=True)\n",
        "print(list4)"
      ]
    },
    {
      "cell_type": "code",
      "execution_count": 13,
      "metadata": {},
      "outputs": [
        {
          "name": "stdout",
          "output_type": "stream",
          "text": [
            "[0, 1, 2, 3, 4]\n"
          ]
        }
      ],
      "source": [
        "#58 -- Order value in list (น้อยไปมาก) -> store in sorted_list4 variable\n",
        "\n",
        "list4 = [0, 4, 2, 3, 1]\n",
        "\n",
        "sorted_list4 = sorted(list4)\n",
        "print(sorted_list4)"
      ]
    },
    {
      "cell_type": "code",
      "execution_count": 15,
      "metadata": {},
      "outputs": [
        {
          "name": "stdout",
          "output_type": "stream",
          "text": [
            "[4, 3, 2, 1, 0]\n"
          ]
        }
      ],
      "source": [
        "#59 -- Order value in list (มากไปน้อย) -> store in sorted_list4 variable\n",
        "\n",
        "from audioop import reverse\n",
        "\n",
        "\n",
        "list4 = [0, 4, 2, 3, 1]\n",
        "\n",
        "sorted_list4 = sorted(list4, reverse=True)\n",
        "print(sorted_list4)"
      ]
    },
    {
      "cell_type": "code",
      "execution_count": 17,
      "metadata": {},
      "outputs": [
        {
          "name": "stdout",
          "output_type": "stream",
          "text": [
            "['a', 'b', 'c', 'd', 'e']\n"
          ]
        }
      ],
      "source": [
        "#60\n",
        "\n",
        "list5 = ['d', 'a', 'c', 'b', 'e']\n",
        "\n",
        "list5.sort()\n",
        "print(list5)"
      ]
    },
    {
      "cell_type": "code",
      "execution_count": 18,
      "metadata": {},
      "outputs": [
        {
          "name": "stdout",
          "output_type": "stream",
          "text": [
            "['e', 'd', 'c', 'b', 'a']\n"
          ]
        }
      ],
      "source": [
        "#61\n",
        "\n",
        "list5 = ['d', 'a', 'c', 'b', 'e']\n",
        "\n",
        "sorted_list5 = sorted(list5, reverse=True)\n",
        "print(sorted_list5)"
      ]
    },
    {
      "cell_type": "code",
      "execution_count": 22,
      "metadata": {},
      "outputs": [
        {
          "name": "stdout",
          "output_type": "stream",
          "text": [
            "['a', 'b', 'c', 0, 1, 2]\n",
            "[0, 1, 2]\n"
          ]
        }
      ],
      "source": [
        "#62\n",
        "\n",
        "list1 = ['a', 'b', 'c']\n",
        "list2 = [0, 1, 2]\n",
        "\n",
        "list1.extend(list2)\n",
        "\n",
        "print(list1)\n",
        "print(list2)"
      ]
    },
    {
      "cell_type": "code",
      "execution_count": 24,
      "metadata": {},
      "outputs": [
        {
          "name": "stdout",
          "output_type": "stream",
          "text": [
            "['a', 'b', 'c']\n",
            "[0, 1, 2]\n",
            "['a', 'b', 'c', 0, 1, 2]\n"
          ]
        }
      ],
      "source": [
        "#63\n",
        "\n",
        "list1 = ['a', 'b', 'c']\n",
        "list2 = [0, 1, 2]\n",
        "\n",
        "list3 = list1 + list2\n",
        "\n",
        "print(list1)\n",
        "print(list2)\n",
        "print(list3)"
      ]
    },
    {
      "cell_type": "code",
      "execution_count": 25,
      "metadata": {},
      "outputs": [
        {
          "name": "stdout",
          "output_type": "stream",
          "text": [
            "[1, 3, 1, 2, 3]\n"
          ]
        }
      ],
      "source": [
        "#64 --delete value in index 1\n",
        "\n",
        "list1 = [1, 2, 3, 1, 2, 3]\n",
        "\n",
        "del list1[1]\n",
        "print(list1)"
      ]
    },
    {
      "cell_type": "code",
      "execution_count": 28,
      "metadata": {},
      "outputs": [
        {
          "name": "stdout",
          "output_type": "stream",
          "text": [
            "[1, 2, 1, 2]\n"
          ]
        }
      ],
      "source": [
        "#65 --delete 3 \n",
        "\n",
        "list1 = [1, 2, 3, 1, 2, 3]\n",
        "\n",
        "del list1[2]\n",
        "del list1[-1]\n",
        "print(list1)"
      ]
    },
    {
      "cell_type": "code",
      "execution_count": 34,
      "metadata": {},
      "outputs": [
        {
          "name": "stdout",
          "output_type": "stream",
          "text": [
            "[2, 3, 1, 2, 3]\n"
          ]
        }
      ],
      "source": [
        "#66 --remove 1 from a list by remove method\n",
        "\n",
        "list1 = [1, 2, 3, 1, 2, 3]\n",
        "\n",
        "list1.remove(1)\n",
        "print(list1)"
      ]
    },
    {
      "cell_type": "code",
      "execution_count": 33,
      "metadata": {},
      "outputs": [
        {
          "name": "stdout",
          "output_type": "stream",
          "text": [
            "[2, 3, 2, 3]\n"
          ]
        }
      ],
      "source": [
        "#67 --remove all 1 from a list by remove method\n",
        "\n",
        "list1 = [1, 2, 3, 1, 2, 3]\n",
        "\n",
        "list1.remove(1)\n",
        "list1.remove(1)\n",
        "print(list1)"
      ]
    },
    {
      "cell_type": "code",
      "execution_count": 38,
      "metadata": {},
      "outputs": [
        {
          "name": "stdout",
          "output_type": "stream",
          "text": [
            "[]\n"
          ]
        }
      ],
      "source": [
        "#68 --delete all values in list1\n",
        "\n",
        "list1 = [1, 2, 3, 1, 2, 3]\n",
        "\n",
        "list1.clear()\n",
        "print(list1)\n"
      ]
    },
    {
      "cell_type": "code",
      "execution_count": 40,
      "metadata": {},
      "outputs": [
        {
          "name": "stdout",
          "output_type": "stream",
          "text": [
            "6\n"
          ]
        }
      ],
      "source": [
        "#69\n",
        "\n",
        "list1 = [1, 2, 3, 'a', 'b', 'c']\n",
        "\n",
        "print(len(list1))"
      ]
    },
    {
      "cell_type": "code",
      "execution_count": 41,
      "metadata": {},
      "outputs": [
        {
          "name": "stdout",
          "output_type": "stream",
          "text": [
            "True\n"
          ]
        }
      ],
      "source": [
        "#70 \n",
        "\n",
        "list1 = [1, 2, 3, 4, 5]\n",
        "\n",
        "int1 = int(input('Insert integer: '))\n",
        "print(int1 in list1)"
      ]
    },
    {
      "cell_type": "markdown",
      "metadata": {},
      "source": [
        "# Tuple"
      ]
    },
    {
      "cell_type": "code",
      "execution_count": 42,
      "metadata": {},
      "outputs": [
        {
          "name": "stdout",
          "output_type": "stream",
          "text": [
            "('America', 'Brazil', 'China', 'Dominican', 'Egypt') <class 'tuple'>\n"
          ]
        }
      ],
      "source": [
        "#71\n",
        "\n",
        "tuple1 = ('America', 'Brazil', 'China', 'Dominican', 'Egypt')\n",
        "\n",
        "print(tuple1, type(tuple1))"
      ]
    },
    {
      "cell_type": "code",
      "execution_count": 44,
      "metadata": {},
      "outputs": [
        {
          "name": "stdout",
          "output_type": "stream",
          "text": [
            "Brazil\n"
          ]
        }
      ],
      "source": [
        "#72\n",
        "\n",
        "tuple1 = ('America', 'Brazil', 'China', 'Dominican', 'Egypt')\n",
        "\n",
        "print(tuple1[1])"
      ]
    },
    {
      "cell_type": "code",
      "execution_count": 45,
      "metadata": {},
      "outputs": [
        {
          "name": "stdout",
          "output_type": "stream",
          "text": [
            "Dominican\n"
          ]
        }
      ],
      "source": [
        "#73\n",
        "\n",
        "tuple1 = ('America', 'Brazil', 'China', 'Dominican', 'Egypt')\n",
        "\n",
        "print(tuple1[-2])"
      ]
    },
    {
      "cell_type": "code",
      "execution_count": 46,
      "metadata": {},
      "outputs": [
        {
          "name": "stdout",
          "output_type": "stream",
          "text": [
            "China\n"
          ]
        }
      ],
      "source": [
        "#74\n",
        "\n",
        "tuple1 = ('America', 'Brazil', 'China', 'Dominican', 'Egypt')\n",
        "\n",
        "print(tuple1[2])"
      ]
    },
    {
      "cell_type": "code",
      "execution_count": 47,
      "metadata": {},
      "outputs": [
        {
          "name": "stdout",
          "output_type": "stream",
          "text": [
            "Egypt\n"
          ]
        }
      ],
      "source": [
        "#75\n",
        "\n",
        "tuple1 = ('America', 'Brazil', 'China', 'Dominican', 'Egypt')\n",
        "\n",
        "print(tuple1[-1])"
      ]
    },
    {
      "cell_type": "code",
      "execution_count": 48,
      "metadata": {},
      "outputs": [
        {
          "name": "stdout",
          "output_type": "stream",
          "text": [
            "('two', 'three', 1)\n"
          ]
        }
      ],
      "source": [
        "#76 --from index 1 to 3\n",
        "\n",
        "tuple2 = ('one', 'two', 'three', 1, 2, 3)\n",
        "\n",
        "print(tuple2[1:4])"
      ]
    },
    {
      "cell_type": "code",
      "execution_count": 50,
      "metadata": {},
      "outputs": [
        {
          "name": "stdout",
          "output_type": "stream",
          "text": [
            "('three', 1, 2)\n"
          ]
        }
      ],
      "source": [
        "#77 --from index 2 to -2\n",
        "\n",
        "tuple2 = ('one', 'two', 'three', 1, 2, 3)\n",
        "\n",
        "print(tuple2[2:-1])"
      ]
    },
    {
      "cell_type": "code",
      "execution_count": 55,
      "metadata": {},
      "outputs": [
        {
          "name": "stdout",
          "output_type": "stream",
          "text": [
            "('three', 1)\n"
          ]
        }
      ],
      "source": [
        "#78\n",
        "\n",
        "tuple2 = ('one', 'two', 'three', 1, 2, 3)\n",
        "\n",
        "print(tuple2[2:-2])"
      ]
    },
    {
      "cell_type": "code",
      "execution_count": 57,
      "metadata": {},
      "outputs": [
        {
          "name": "stdout",
          "output_type": "stream",
          "text": [
            "('one', 'two', 'three')\n"
          ]
        }
      ],
      "source": [
        "#79\n",
        "\n",
        "tuple2 = ('one', 'two', 'three', 1, 2, 3)\n",
        "\n",
        "print(tuple2[:3])"
      ]
    },
    {
      "cell_type": "code",
      "execution_count": 58,
      "metadata": {},
      "outputs": [
        {
          "name": "stdout",
          "output_type": "stream",
          "text": [
            "(1, 2, 3)\n"
          ]
        }
      ],
      "source": [
        "#80\n",
        "\n",
        "tuple2 = ('one', 'two', 'three', 1, 2, 3)\n",
        "\n",
        "print(tuple2[-3:])"
      ]
    },
    {
      "cell_type": "code",
      "execution_count": 59,
      "metadata": {},
      "outputs": [
        {
          "name": "stdout",
          "output_type": "stream",
          "text": [
            "6\n"
          ]
        }
      ],
      "source": [
        "#81\n",
        "\n",
        "tuple2 = ('one', 'two', 'three', 1, 2, 3)\n",
        "\n",
        "print(len(tuple2))"
      ]
    },
    {
      "cell_type": "code",
      "execution_count": 62,
      "metadata": {},
      "outputs": [
        {
          "name": "stdout",
          "output_type": "stream",
          "text": [
            "True\n"
          ]
        }
      ],
      "source": [
        "#82\n",
        "\n",
        "tuple3 = ('one', 'two', 'three', 'four', 'five')\n",
        "\n",
        "str1 = input('Insert string: ')\n",
        "print(str1 in tuple3)"
      ]
    },
    {
      "cell_type": "markdown",
      "metadata": {},
      "source": [
        "# Dictionary"
      ]
    },
    {
      "cell_type": "code",
      "execution_count": 63,
      "metadata": {},
      "outputs": [
        {
          "name": "stdout",
          "output_type": "stream",
          "text": [
            "{'first_name': 'John', 'last_name': 'Doe'} <class 'dict'>\n"
          ]
        }
      ],
      "source": [
        "#83\n",
        "\n",
        "dict1 = {'first_name': 'John', 'last_name' : 'Doe'}\n",
        "print(dict1, type(dict1))"
      ]
    },
    {
      "cell_type": "code",
      "execution_count": 65,
      "metadata": {},
      "outputs": [
        {
          "name": "stdout",
          "output_type": "stream",
          "text": [
            "John\n"
          ]
        }
      ],
      "source": [
        "#84\n",
        "\n",
        "dict1 = {'first_name': 'John', 'last_name' : 'Doe'}\n",
        "print(dict1['first_name'])"
      ]
    },
    {
      "cell_type": "code",
      "execution_count": 66,
      "metadata": {},
      "outputs": [
        {
          "name": "stdout",
          "output_type": "stream",
          "text": [
            "Doe\n"
          ]
        }
      ],
      "source": [
        "#85\n",
        "\n",
        "dict1 = {'first_name': 'John', 'last_name' : 'Doe'}\n",
        "print(dict1['last_name'])"
      ]
    },
    {
      "cell_type": "code",
      "execution_count": 69,
      "metadata": {},
      "outputs": [
        {
          "name": "stdout",
          "output_type": "stream",
          "text": [
            "dict_keys(['first_name', 'last_name'])\n"
          ]
        }
      ],
      "source": [
        "#86\n",
        "\n",
        "dict1 = {'first_name': 'John', 'last_name' : 'Doe'}\n",
        "print(dict1.keys())"
      ]
    },
    {
      "cell_type": "code",
      "execution_count": 71,
      "metadata": {},
      "outputs": [
        {
          "name": "stdout",
          "output_type": "stream",
          "text": [
            "dict_values(['John', 'Doe'])\n"
          ]
        }
      ],
      "source": [
        "#87\n",
        "\n",
        "dict1 = {'first_name': 'John', 'last_name' : 'Doe'}\n",
        "print(dict1.values())"
      ]
    },
    {
      "cell_type": "code",
      "execution_count": null,
      "metadata": {},
      "outputs": [],
      "source": []
    }
  ],
  "metadata": {
    "colab": {
      "authorship_tag": "ABX9TyM65lnjwClCIo3QSxm6YeEY",
      "collapsed_sections": [],
      "include_colab_link": true,
      "provenance": []
    },
    "kernelspec": {
      "display_name": "Python 3.10.8 64-bit (microsoft store)",
      "language": "python",
      "name": "python3"
    },
    "language_info": {
      "codemirror_mode": {
        "name": "ipython",
        "version": 3
      },
      "file_extension": ".py",
      "mimetype": "text/x-python",
      "name": "python",
      "nbconvert_exporter": "python",
      "pygments_lexer": "ipython3",
      "version": "3.10.8"
    },
    "vscode": {
      "interpreter": {
        "hash": "3b7e9cb8e453d6cda0fe8c8dd13f891a1f09162f0e7c66ffeae7751a7aecf00d"
      }
    }
  },
  "nbformat": 4,
  "nbformat_minor": 0
}
