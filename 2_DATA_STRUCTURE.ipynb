{
  "nbformat": 4,
  "nbformat_minor": 0,
  "metadata": {
    "colab": {
      "provenance": [],
      "collapsed_sections": [],
      "authorship_tag": "ABX9TyM65lnjwClCIo3QSxm6YeEY",
      "include_colab_link": true
    },
    "kernelspec": {
      "name": "python3",
      "display_name": "Python 3"
    },
    "language_info": {
      "name": "python"
    }
  },
  "cells": [
    {
      "cell_type": "markdown",
      "metadata": {
        "id": "view-in-github",
        "colab_type": "text"
      },
      "source": [
        "<a href=\"https://colab.research.google.com/github/NizeSr/Python/blob/main/2_DATA_STRUCTURE.ipynb\" target=\"_parent\"><img src=\"https://colab.research.google.com/assets/colab-badge.svg\" alt=\"Open In Colab\"/></a>"
      ]
    },
    {
      "cell_type": "markdown",
      "source": [
        "# Numeric"
      ],
      "metadata": {
        "id": "T0y2RA0ROnew"
      }
    },
    {
      "cell_type": "code",
      "source": [
        "#1\n",
        "\n",
        "numeric1 = 5\n",
        "print(numeric1)\n",
        "print(type(numeric1))"
      ],
      "metadata": {
        "colab": {
          "base_uri": "https://localhost:8080/"
        },
        "id": "7IFrbzMqOshH",
        "outputId": "402436aa-289a-42e7-8f29-99c7bd9bb68f"
      },
      "execution_count": null,
      "outputs": [
        {
          "output_type": "stream",
          "name": "stdout",
          "text": [
            "5\n",
            "<class 'int'>\n"
          ]
        }
      ]
    },
    {
      "cell_type": "code",
      "source": [
        "#2\n",
        "\n",
        "numeric2 = -3\n",
        "print(numeric2)\n",
        "print(type(numeric2))"
      ],
      "metadata": {
        "id": "PqQPnE0wO44I",
        "colab": {
          "base_uri": "https://localhost:8080/"
        },
        "outputId": "cfa054af-7929-4c82-df24-ef3bbadd997d"
      },
      "execution_count": null,
      "outputs": [
        {
          "output_type": "stream",
          "name": "stdout",
          "text": [
            "-3\n",
            "<class 'int'>\n"
          ]
        }
      ]
    },
    {
      "cell_type": "code",
      "source": [
        "#3\n",
        "\n",
        "numeric3 = 0\n",
        "print(numeric3)\n",
        "print(type(numeric3))"
      ],
      "metadata": {
        "colab": {
          "base_uri": "https://localhost:8080/"
        },
        "id": "tbYxWyqfzKdF",
        "outputId": "932acf6b-82b1-4289-c1ad-4eeb67b25785"
      },
      "execution_count": null,
      "outputs": [
        {
          "output_type": "stream",
          "name": "stdout",
          "text": [
            "0\n",
            "<class 'int'>\n"
          ]
        }
      ]
    },
    {
      "cell_type": "code",
      "source": [
        "#4\n",
        "\n",
        "int1 = int(input('Insert integer: '))\n",
        "print(int1)\n",
        "print(type(int1))"
      ],
      "metadata": {
        "colab": {
          "base_uri": "https://localhost:8080/"
        },
        "id": "P8kQejJ9zXYQ",
        "outputId": "688d5c07-ee5e-455c-d4a7-94a4cbb93cad"
      },
      "execution_count": null,
      "outputs": [
        {
          "output_type": "stream",
          "name": "stdout",
          "text": [
            "Insert integer: 5\n",
            "5\n",
            "<class 'int'>\n"
          ]
        }
      ]
    },
    {
      "cell_type": "code",
      "source": [
        "#5\n",
        "\n",
        "numeric1 = 5.0\n",
        "print(numeric1)\n",
        "print(type(numeric1))"
      ],
      "metadata": {
        "colab": {
          "base_uri": "https://localhost:8080/"
        },
        "id": "UrgwZ5K6zpp5",
        "outputId": "9274290c-15a5-4fa1-b8dd-1adf97e5dfb5"
      },
      "execution_count": null,
      "outputs": [
        {
          "output_type": "stream",
          "name": "stdout",
          "text": [
            "5.0\n",
            "<class 'float'>\n"
          ]
        }
      ]
    },
    {
      "cell_type": "code",
      "source": [
        "#6\n",
        "\n",
        "numeric2 = -3.1\n",
        "print(numeric2)\n",
        "print(type(numeric2))"
      ],
      "metadata": {
        "colab": {
          "base_uri": "https://localhost:8080/"
        },
        "id": "W4O2hvBp8HJ8",
        "outputId": "ddae9259-09df-4e39-c1f6-ab59db2a47dd"
      },
      "execution_count": null,
      "outputs": [
        {
          "output_type": "stream",
          "name": "stdout",
          "text": [
            "-3.1\n",
            "<class 'float'>\n"
          ]
        }
      ]
    },
    {
      "cell_type": "code",
      "source": [
        "#7\n",
        "\n",
        "numeric3 = 0.0\n",
        "print(numeric3)\n",
        "print(type(numeric3))"
      ],
      "metadata": {
        "colab": {
          "base_uri": "https://localhost:8080/"
        },
        "id": "61e3qXn-8RH3",
        "outputId": "32909e01-bc58-44d5-a9c9-c7a8e5f93d21"
      },
      "execution_count": null,
      "outputs": [
        {
          "output_type": "stream",
          "name": "stdout",
          "text": [
            "0.0\n",
            "<class 'float'>\n"
          ]
        }
      ]
    },
    {
      "cell_type": "code",
      "source": [
        "#8\n",
        "\n",
        "float1 = float(input('Insert float: '))\n",
        "print(float1)\n",
        "print(type(float1))"
      ],
      "metadata": {
        "colab": {
          "base_uri": "https://localhost:8080/"
        },
        "id": "0w_452Sp8cdi",
        "outputId": "83620be8-3340-475d-f9c5-174127a5e5b9"
      },
      "execution_count": null,
      "outputs": [
        {
          "output_type": "stream",
          "name": "stdout",
          "text": [
            "Insert float: 9.9\n",
            "9.9\n",
            "<class 'float'>\n"
          ]
        }
      ]
    },
    {
      "cell_type": "code",
      "source": [
        "#9.1\n",
        "\n",
        "int1 = int(input('Insert integer_1: '))\n",
        "int2 = int(input('Insert integer_2: '))\n",
        "calculation = int1 + int2, int1 - int2, int1 * int2, int1 / int2\n",
        "print(calculation)\n",
        "print(type(calculation))"
      ],
      "metadata": {
        "colab": {
          "base_uri": "https://localhost:8080/"
        },
        "id": "ikDoytgG82nx",
        "outputId": "892a428a-f8d7-4374-886f-b0593d1304bf"
      },
      "execution_count": null,
      "outputs": [
        {
          "output_type": "stream",
          "name": "stdout",
          "text": [
            "Insert integer_1: 2\n",
            "Insert integer_2: 3\n",
            "(5, -1, 6, 0.6666666666666666)\n",
            "<class 'tuple'>\n"
          ]
        }
      ]
    },
    {
      "cell_type": "code",
      "source": [
        "#9.2\n",
        "\n",
        "int1 = int(input('Insert integer_1: '))\n",
        "int2 = int(input('Insert integer_2: '))\n",
        "\n",
        "print('integer_1: ', int1, type(int1))\n",
        "print('integer_2: ', int2, type(int2))\n",
        "\n",
        "a = int1 + int2\n",
        "b = int1 - int2\n",
        "c = int1 * int2\n",
        "d = int1 / int2\n",
        "\n",
        "print('ผลบวก =', a, type(a),\n",
        "      'ผลลบ =', b, type(b),\n",
        "      'ผลคูณ =', c, type(c),\n",
        "      'ผลหาร =', d, type(d))\n"
      ],
      "metadata": {
        "colab": {
          "base_uri": "https://localhost:8080/"
        },
        "id": "KzuTLYaF9sua",
        "outputId": "90e0dcee-96bf-47f6-b263-3ff4ce740b64"
      },
      "execution_count": null,
      "outputs": [
        {
          "output_type": "stream",
          "name": "stdout",
          "text": [
            "Insert integer_1: 2\n",
            "Insert integer_2: 3\n",
            "integer_1:  2 <class 'int'>\n",
            "integer_2:  3 <class 'int'>\n",
            "ผลบวก = 5 <class 'int'> ผลลบ = -1 <class 'int'> ผลคูณ = 6 <class 'int'> ผลหาร = 0.6666666666666666 <class 'float'>\n"
          ]
        }
      ]
    },
    {
      "cell_type": "code",
      "source": [
        "#10.1\n",
        "\n",
        "float1 = float(input('Insert float_1: '))\n",
        "float2 = float(input('Insert float_2: '))\n",
        "calculation = float1 + float2, float1 - float2, float1 * float2, float1 / float2\n",
        "print(calculation)\n",
        "print(type(calculation))"
      ],
      "metadata": {
        "colab": {
          "base_uri": "https://localhost:8080/"
        },
        "id": "nAfz-nLW_INW",
        "outputId": "92b35a13-9cc2-4200-a25b-21b6dc6116b3"
      },
      "execution_count": null,
      "outputs": [
        {
          "output_type": "stream",
          "name": "stdout",
          "text": [
            "Insert float_1: 2.5\n",
            "Insert float_2: 3.5\n",
            "(6.0, -1.0, 8.75, 0.7142857142857143)\n",
            "<class 'tuple'>\n"
          ]
        }
      ]
    },
    {
      "cell_type": "code",
      "source": [
        "#10.2\n",
        "\n",
        "float1 = float(input('Insert float_1: '))\n",
        "float2 = float(input('Insert float_2: '))\n",
        "\n",
        "print('float_1: ', float1, type(float1))\n",
        "print('float_2: ', float2, type(float2))\n",
        "\n",
        "a = float1 + float2\n",
        "b = float1 - float2\n",
        "c = float1 * float2\n",
        "d = float1 / float2\n",
        "\n",
        "print('ผลบวก =', a, type(a),\n",
        "      'ผลลบ =', b, type(b),\n",
        "      'ผลคูณ =', c, type(c),\n",
        "      'ผลหาร =', d, type(d))"
      ],
      "metadata": {
        "id": "8EILSgiWIy5G",
        "colab": {
          "base_uri": "https://localhost:8080/"
        },
        "outputId": "204a676e-ced1-4ab6-a0ed-f500b3374b04"
      },
      "execution_count": 30,
      "outputs": [
        {
          "output_type": "stream",
          "name": "stdout",
          "text": [
            "Insert float_1: 2.5\n",
            "Insert float_2: 3.5\n",
            "float_1:  2.5 <class 'float'>\n",
            "float_2:  3.5 <class 'float'>\n",
            "ผลบวก = 6.0 <class 'float'> ผลลบ = -1.0 <class 'float'> ผลคูณ = 8.75 <class 'float'> ผลหาร = 0.7142857142857143 <class 'float'>\n"
          ]
        }
      ]
    },
    {
      "cell_type": "code",
      "source": [
        "#11.1\n",
        "\n",
        "int1 = int(input('Insert integer_1: '))\n",
        "float1 = float(input('Insert float_1: '))\n",
        "calculation = int1 + float1, int1 - float1, int1 * float1, int1 / float1\n",
        "print(calculation)\n",
        "print(type(calculation))"
      ],
      "metadata": {
        "colab": {
          "base_uri": "https://localhost:8080/"
        },
        "id": "JIH8Js14KY6f",
        "outputId": "cb493a9f-fdc6-48ae-b098-c465eff319ef"
      },
      "execution_count": 29,
      "outputs": [
        {
          "output_type": "stream",
          "name": "stdout",
          "text": [
            "Insert integer_1: 5\n",
            "Insert float_1: 2.5\n",
            "(7.5, 2.5, 12.5, 2.0)\n",
            "<class 'tuple'>\n"
          ]
        }
      ]
    },
    {
      "cell_type": "code",
      "source": [
        "#11.2\n",
        "\n",
        "int1 = int(input('Insert integer_1: '))\n",
        "float1 = float(input('Insert float_1: '))\n",
        "\n",
        "print('integer_1: ', int1, type(int1))\n",
        "print('float_1: ', float1, type(float1))\n",
        "\n",
        "a = int1 + float1\n",
        "b = int1 - float1\n",
        "c = int1 * float1\n",
        "d = int1 / float1\n",
        "\n",
        "print('ผลบวก =', a, type(a),\n",
        "      'ผลลบ =', b, type(b),\n",
        "      'ผลคูณ =', c, type(c),\n",
        "      'ผลหาร =', d, type(d))"
      ],
      "metadata": {
        "colab": {
          "base_uri": "https://localhost:8080/"
        },
        "id": "E2aSEhEsLBkm",
        "outputId": "1187c725-3203-46b9-9599-175f12b8689f"
      },
      "execution_count": 31,
      "outputs": [
        {
          "output_type": "stream",
          "name": "stdout",
          "text": [
            "Insert integer_1: 5\n",
            "Insert float_1: 2.5\n",
            "integer_1:  5 <class 'int'>\n",
            "float_1:  2.5 <class 'float'>\n",
            "ผลบวก = 7.5 <class 'float'> ผลลบ = 2.5 <class 'float'> ผลคูณ = 12.5 <class 'float'> ผลหาร = 2.0 <class 'float'>\n"
          ]
        }
      ]
    },
    {
      "cell_type": "code",
      "source": [
        "#12\n",
        "\n",
        "logic1 = True\n",
        "print(logic1, type(logic1))"
      ],
      "metadata": {
        "colab": {
          "base_uri": "https://localhost:8080/"
        },
        "id": "qXioHGFZLkVB",
        "outputId": "9e5bfc6e-e5ce-47ab-e2b6-9242234430e8"
      },
      "execution_count": 32,
      "outputs": [
        {
          "output_type": "stream",
          "name": "stdout",
          "text": [
            "True <class 'bool'>\n"
          ]
        }
      ]
    },
    {
      "cell_type": "code",
      "source": [
        "#13\n",
        "\n",
        "logic2 = False\n",
        "print(logic2, type(logic2))"
      ],
      "metadata": {
        "colab": {
          "base_uri": "https://localhost:8080/"
        },
        "id": "2wTTPslXMBpu",
        "outputId": "e3b340c3-0734-4cb5-ae8e-4f2163a38950"
      },
      "execution_count": 33,
      "outputs": [
        {
          "output_type": "stream",
          "name": "stdout",
          "text": [
            "False <class 'bool'>\n"
          ]
        }
      ]
    },
    {
      "cell_type": "code",
      "source": [
        "#14\n",
        "logic1 = True\n",
        "logic2 = False\n",
        "\n",
        "print(logic1 and logic2)\n",
        "\n",
        "a = logic1 & logic2 #& = และ\n",
        "print(a)"
      ],
      "metadata": {
        "colab": {
          "base_uri": "https://localhost:8080/"
        },
        "id": "1pSGadpcMO4Z",
        "outputId": "585466e3-c6ab-4cc1-d328-664694e6146b"
      },
      "execution_count": 36,
      "outputs": [
        {
          "output_type": "stream",
          "name": "stdout",
          "text": [
            "False\n",
            "False\n"
          ]
        }
      ]
    },
    {
      "cell_type": "code",
      "source": [
        "#15\n",
        "\n",
        "logic1 = True\n",
        "logic2 = False\n",
        "\n",
        "print(logic1 or logic2)\n",
        "\n",
        "a = logic1 or logic2\n",
        "print(a)"
      ],
      "metadata": {
        "colab": {
          "base_uri": "https://localhost:8080/"
        },
        "id": "2zA6m_tsMg6Q",
        "outputId": "d3d65944-d8a9-49d8-e61c-1bd3b1b55eb9"
      },
      "execution_count": 37,
      "outputs": [
        {
          "output_type": "stream",
          "name": "stdout",
          "text": [
            "True\n",
            "True\n"
          ]
        }
      ]
    },
    {
      "cell_type": "code",
      "source": [
        "#16\n",
        "\n",
        "complex1 = 1 +2j\n",
        "print(complex1, type(complex1))"
      ],
      "metadata": {
        "colab": {
          "base_uri": "https://localhost:8080/"
        },
        "id": "dKNFQ2xCNrXQ",
        "outputId": "dede26d2-f015-427f-d035-1411c6550843"
      },
      "execution_count": 39,
      "outputs": [
        {
          "output_type": "stream",
          "name": "stdout",
          "text": [
            "(1+2j) <class 'complex'>\n"
          ]
        }
      ]
    },
    {
      "cell_type": "code",
      "source": [
        "#17\n",
        "\n",
        "complex1 = 1 +2j\n",
        "print(complex1.real) #ส่วนจริง"
      ],
      "metadata": {
        "colab": {
          "base_uri": "https://localhost:8080/"
        },
        "id": "2HugXWexN3zX",
        "outputId": "661f4f0e-0792-49ba-c6a4-a436bd7a5774"
      },
      "execution_count": 40,
      "outputs": [
        {
          "output_type": "stream",
          "name": "stdout",
          "text": [
            "1.0\n"
          ]
        }
      ]
    },
    {
      "cell_type": "code",
      "source": [
        "#18\n",
        "\n",
        "complex1 = 1 +2j\n",
        "print(complex1.imag) #ส่วนจินตภาพ"
      ],
      "metadata": {
        "colab": {
          "base_uri": "https://localhost:8080/"
        },
        "id": "9dZ4rr88OGcL",
        "outputId": "e309bd7c-5578-4ec3-fbc8-2aba04c5091a"
      },
      "execution_count": 43,
      "outputs": [
        {
          "output_type": "stream",
          "name": "stdout",
          "text": [
            "2.0\n"
          ]
        }
      ]
    },
    {
      "cell_type": "markdown",
      "source": [
        "# String"
      ],
      "metadata": {
        "id": "TrO9YKKROZLj"
      }
    },
    {
      "cell_type": "code",
      "source": [
        "#19\n",
        "\n",
        "string1 = 'Python'\n",
        "print(string1, type(string1))"
      ],
      "metadata": {
        "colab": {
          "base_uri": "https://localhost:8080/"
        },
        "id": "6kw0nREZOb94",
        "outputId": "65de5752-6cc8-478b-e3b0-46dbf8bb2253"
      },
      "execution_count": 44,
      "outputs": [
        {
          "output_type": "stream",
          "name": "stdout",
          "text": [
            "Python <class 'str'>\n"
          ]
        }
      ]
    },
    {
      "cell_type": "code",
      "source": [
        "#20\n",
        "\n",
        "string1 = 'Python'\n",
        "print(string1[0])"
      ],
      "metadata": {
        "colab": {
          "base_uri": "https://localhost:8080/"
        },
        "id": "R-J1ALPTlyrY",
        "outputId": "2496e3b7-bba1-42ba-cebc-3290c53eb7c2"
      },
      "execution_count": 46,
      "outputs": [
        {
          "output_type": "stream",
          "name": "stdout",
          "text": [
            "P\n"
          ]
        }
      ]
    },
    {
      "cell_type": "code",
      "source": [
        "#21\n",
        "\n",
        "string1 = 'Python'\n",
        "print(string1[1])\n"
      ],
      "metadata": {
        "colab": {
          "base_uri": "https://localhost:8080/"
        },
        "id": "AJj8zsYHAHS0",
        "outputId": "3a647460-725b-4395-c2d5-9a519307509a"
      },
      "execution_count": 47,
      "outputs": [
        {
          "output_type": "stream",
          "name": "stdout",
          "text": [
            "y\n"
          ]
        }
      ]
    },
    {
      "cell_type": "code",
      "source": [
        "#22\n",
        "\n",
        "string1 = 'Python'\n",
        "print(string1[-1])"
      ],
      "metadata": {
        "colab": {
          "base_uri": "https://localhost:8080/"
        },
        "id": "yFofDFWLAd0E",
        "outputId": "9956a658-0705-451a-ee26-e8ed7b3e59a9"
      },
      "execution_count": 48,
      "outputs": [
        {
          "output_type": "stream",
          "name": "stdout",
          "text": [
            "n\n"
          ]
        }
      ]
    },
    {
      "cell_type": "code",
      "source": [
        "#23\n",
        "\n",
        "string1 = 'Python'\n",
        "print(string1[-2])"
      ],
      "metadata": {
        "colab": {
          "base_uri": "https://localhost:8080/"
        },
        "id": "ZsWLELwRAlPU",
        "outputId": "621f3534-317d-4f10-916f-0e3fb3631cd2"
      },
      "execution_count": 50,
      "outputs": [
        {
          "output_type": "stream",
          "name": "stdout",
          "text": [
            "o\n"
          ]
        }
      ]
    },
    {
      "cell_type": "code",
      "source": [
        "#24\n",
        "\n",
        "string1 = 'Python'\n",
        "print(string1[2])"
      ],
      "metadata": {
        "colab": {
          "base_uri": "https://localhost:8080/"
        },
        "id": "Ldhyy6R3Aoiz",
        "outputId": "024eabd8-579a-43f8-cb5e-c2cb73836d85"
      },
      "execution_count": 52,
      "outputs": [
        {
          "output_type": "stream",
          "name": "stdout",
          "text": [
            "t\n"
          ]
        }
      ]
    },
    {
      "cell_type": "code",
      "source": [
        "#25\n",
        "\n",
        "string1 = 'Python'\n",
        "print(string1[-3])"
      ],
      "metadata": {
        "colab": {
          "base_uri": "https://localhost:8080/"
        },
        "id": "SjH24WmEAxCQ",
        "outputId": "794305b2-3309-4928-82ef-61991c58cb56"
      },
      "execution_count": 53,
      "outputs": [
        {
          "output_type": "stream",
          "name": "stdout",
          "text": [
            "h\n"
          ]
        }
      ]
    },
    {
      "cell_type": "code",
      "source": [
        "#26\n",
        "\n",
        "string1 = 'Python'\n",
        "print(string1[1:4]) #print str ที่ index 1-3 (ต้อง +1 ที่ตัวหลัง)"
      ],
      "metadata": {
        "colab": {
          "base_uri": "https://localhost:8080/"
        },
        "id": "HDa_RfSrA6Af",
        "outputId": "f79ace49-5051-49b9-f739-109b1809de3f"
      },
      "execution_count": 57,
      "outputs": [
        {
          "output_type": "stream",
          "name": "stdout",
          "text": [
            "yth\n"
          ]
        }
      ]
    },
    {
      "cell_type": "code",
      "source": [
        "#27 -- from index 2 to -2\n",
        "\n",
        "string1 = 'Python'\n",
        "print(string1[2:-1])"
      ],
      "metadata": {
        "colab": {
          "base_uri": "https://localhost:8080/"
        },
        "id": "svwURUZBBBV-",
        "outputId": "bb1ce464-7d70-4627-d7a9-495f69fb341c"
      },
      "execution_count": 58,
      "outputs": [
        {
          "output_type": "stream",
          "name": "stdout",
          "text": [
            "tho\n"
          ]
        }
      ]
    },
    {
      "cell_type": "code",
      "source": [
        "#28 -- from index 2 to -1\n",
        "\n",
        "string1 = 'Python'\n",
        "print(string1[2:])"
      ],
      "metadata": {
        "colab": {
          "base_uri": "https://localhost:8080/"
        },
        "id": "AzguPOy1BfWo",
        "outputId": "65068dac-ca27-4c96-8350-e99a63cfa894"
      },
      "execution_count": 59,
      "outputs": [
        {
          "output_type": "stream",
          "name": "stdout",
          "text": [
            "thon\n"
          ]
        }
      ]
    },
    {
      "cell_type": "code",
      "source": [
        "#29 -- from index -4 to 4\n",
        "\n",
        "string1 = 'Python'\n",
        "print(string1[-4:5])"
      ],
      "metadata": {
        "colab": {
          "base_uri": "https://localhost:8080/"
        },
        "id": "K1R_stW_B1bO",
        "outputId": "3c036b4e-73e8-4479-f5b9-47c03e2d5266"
      },
      "execution_count": 61,
      "outputs": [
        {
          "output_type": "stream",
          "name": "stdout",
          "text": [
            "tho\n"
          ]
        }
      ]
    },
    {
      "cell_type": "code",
      "source": [
        "#30 -- from index -6 to 4\n",
        "\n",
        "string1 = 'Python'\n",
        "\n",
        "print(string1[-6:5])\n",
        "\n",
        "print(string1[:5])"
      ],
      "metadata": {
        "colab": {
          "base_uri": "https://localhost:8080/"
        },
        "id": "8X9FgnkECLUq",
        "outputId": "be323f50-db48-430e-bf18-96eccdddefe8"
      },
      "execution_count": 64,
      "outputs": [
        {
          "output_type": "stream",
          "name": "stdout",
          "text": [
            "Pytho\n",
            "Pytho\n"
          ]
        }
      ]
    },
    {
      "cell_type": "code",
      "source": [
        "#31 -- from index -4 to -2\n",
        "\n",
        "string1 = 'Python'\n",
        "print(string1[-4:-1])"
      ],
      "metadata": {
        "colab": {
          "base_uri": "https://localhost:8080/"
        },
        "id": "PoEHhHzTCOo3",
        "outputId": "bfa19fbb-74d7-49a0-d4c2-8efb2b6eb83d"
      },
      "execution_count": 63,
      "outputs": [
        {
          "output_type": "stream",
          "name": "stdout",
          "text": [
            "tho\n"
          ]
        }
      ]
    },
    {
      "cell_type": "code",
      "source": [
        "#32\n",
        "\n",
        "str1 = str(input('Insert string: '))\n",
        "print(len(string1))"
      ],
      "metadata": {
        "colab": {
          "base_uri": "https://localhost:8080/"
        },
        "id": "wljWg--0DweG",
        "outputId": "703449ca-42d8-47fe-82ba-57504164cad5"
      },
      "execution_count": 65,
      "outputs": [
        {
          "output_type": "stream",
          "name": "stdout",
          "text": [
            "Insert string: Python\n",
            "6\n"
          ]
        }
      ]
    },
    {
      "cell_type": "code",
      "source": [
        "#33\n",
        "\n",
        "str1 = str(input('Insert string: '))\n",
        "\n",
        "print('ก' in str1)"
      ],
      "metadata": {
        "colab": {
          "base_uri": "https://localhost:8080/"
        },
        "id": "LemL0-SFE55Q",
        "outputId": "0ee26cac-0684-4ab6-a2f8-985b2c0394d5"
      },
      "execution_count": 1,
      "outputs": [
        {
          "output_type": "stream",
          "name": "stdout",
          "text": [
            "Insert string: การบ้าน\n",
            "True\n"
          ]
        }
      ]
    },
    {
      "cell_type": "code",
      "source": [
        "#34\n",
        "\n",
        "string1 = str(input('Insert string_1: '))\n",
        "string2 = str(input('Insert string_2: '))\n",
        "\n",
        "print(string2 in string1)"
      ],
      "metadata": {
        "colab": {
          "base_uri": "https://localhost:8080/"
        },
        "id": "JtpCu_0hX9No",
        "outputId": "d5c7c175-274e-400c-9ce8-8176e87b24a4"
      },
      "execution_count": 2,
      "outputs": [
        {
          "output_type": "stream",
          "name": "stdout",
          "text": [
            "Insert string_1: Data Analyst\n",
            "Insert string_2: Data\n",
            "True\n"
          ]
        }
      ]
    },
    {
      "cell_type": "code",
      "source": [
        "#35\n",
        "\n",
        "string1 = str(input('Insert string_1: '))\n",
        "\n",
        "print(string1.replace('a', 'A'))"
      ],
      "metadata": {
        "colab": {
          "base_uri": "https://localhost:8080/"
        },
        "id": "TT9Zz111hm1q",
        "outputId": "22fda65c-1571-41eb-ca6d-f31fd724b18a"
      },
      "execution_count": 3,
      "outputs": [
        {
          "output_type": "stream",
          "name": "stdout",
          "text": [
            "Insert string_1: Data\n",
            "DAtA\n"
          ]
        }
      ]
    },
    {
      "cell_type": "code",
      "source": [
        "#36\n",
        "\n",
        "string1 = str(input('Insert string_1: '))\n",
        "string2 = string1.replace('a', 'A')\n",
        "\n",
        "print(string2)"
      ],
      "metadata": {
        "colab": {
          "base_uri": "https://localhost:8080/"
        },
        "id": "GVpxPc10iFRn",
        "outputId": "e4058829-a464-44cc-b946-89eb6a9c2841"
      },
      "execution_count": 4,
      "outputs": [
        {
          "output_type": "stream",
          "name": "stdout",
          "text": [
            "Insert string_1: Data\n",
            "DAtA\n"
          ]
        }
      ]
    },
    {
      "cell_type": "code",
      "source": [
        "#37 ตัดคำโดยใช้ ' '\n",
        "\n",
        "sentence = str(input('Insert sentence: '))\n",
        "\n",
        "print(sentence.split(' '))"
      ],
      "metadata": {
        "colab": {
          "base_uri": "https://localhost:8080/"
        },
        "id": "KKd4DLma2rT2",
        "outputId": "f376eedc-4f5a-4cb1-e214-f160627025c4"
      },
      "execution_count": 6,
      "outputs": [
        {
          "output_type": "stream",
          "name": "stdout",
          "text": [
            "Insert sentence: I love data\n",
            "['I', 'love', 'data']\n"
          ]
        }
      ]
    },
    {
      "cell_type": "code",
      "source": [
        "#38 ตัดคำโดยใช้ c\n",
        "\n",
        "sentence = input('Insert sentence: ')\n",
        "c = input('insert string: ')\n",
        "\n",
        "print(sentence.split(c))"
      ],
      "metadata": {
        "colab": {
          "base_uri": "https://localhost:8080/"
        },
        "id": "y3KxIpoQ3PIY",
        "outputId": "786d6d7c-c19d-4ebf-8dd4-4608dd6fb6cc"
      },
      "execution_count": 12,
      "outputs": [
        {
          "output_type": "stream",
          "name": "stdout",
          "text": [
            "Insert sentence: Data-Analysis\n",
            "insert string: -\n",
            "['Data', 'Analysis']\n"
          ]
        }
      ]
    },
    {
      "cell_type": "code",
      "source": [
        "#39 นำ str2 ไปต่อท้าย str1\n",
        "\n",
        "str1 = str(input('Insert str1: '))\n",
        "str2 = str(input('Insert str2: '))\n",
        "\n",
        "print(str1 + str2)\n",
        "\n"
      ],
      "metadata": {
        "colab": {
          "base_uri": "https://localhost:8080/"
        },
        "id": "SwZZcvlb39Do",
        "outputId": "151c57f8-fc51-4813-f796-6cd42e28ec05"
      },
      "execution_count": 14,
      "outputs": [
        {
          "output_type": "stream",
          "name": "stdout",
          "text": [
            "Insert str1: Data\n",
            "Insert str2: Analyst\n",
            "DataAnalyst\n"
          ]
        }
      ]
    },
    {
      "cell_type": "markdown",
      "source": [
        "# List"
      ],
      "metadata": {
        "id": "wKNqQFrq6Pt6"
      }
    },
    {
      "cell_type": "code",
      "source": [
        "#40"
      ],
      "metadata": {
        "id": "8Ij8brvM6RUG"
      },
      "execution_count": null,
      "outputs": []
    }
  ]
}