{
  "cells": [
    {
      "cell_type": "markdown",
      "metadata": {
        "colab_type": "text",
        "id": "view-in-github"
      },
      "source": [
        "<a href=\"https://colab.research.google.com/github/NizeSr/Python/blob/main/1_PRINT_COMMAND.ipynb\" target=\"_parent\"><img src=\"https://colab.research.google.com/assets/colab-badge.svg\" alt=\"Open In Colab\"/></a>"
      ]
    },
    {
      "cell_type": "markdown",
      "metadata": {
        "id": "lssAotzaJYCA"
      },
      "source": [
        "# Print String"
      ]
    },
    {
      "cell_type": "code",
      "execution_count": null,
      "metadata": {
        "colab": {
          "background_save": true,
          "base_uri": "https://localhost:8080/"
        },
        "id": "erxaZpTMFCu9",
        "outputId": "27de2d09-1278-4866-ec69-778860cf615e"
      },
      "outputs": [
        {
          "name": "stdout",
          "output_type": "stream",
          "text": [
            "Hello\n"
          ]
        }
      ],
      "source": [
        "print(\"Hello\")"
      ]
    },
    {
      "cell_type": "code",
      "execution_count": null,
      "metadata": {
        "colab": {
          "background_save": true,
          "base_uri": "https://localhost:8080/"
        },
        "id": "gpsHf1UqFOyP",
        "outputId": "037a6fa4-8723-4d93-a780-bd910ae3595b"
      },
      "outputs": [
        {
          "name": "stdout",
          "output_type": "stream",
          "text": [
            "Hello World\n"
          ]
        }
      ],
      "source": [
        "print(\"Hello World\")"
      ]
    },
    {
      "cell_type": "code",
      "execution_count": null,
      "metadata": {
        "colab": {
          "background_save": true,
          "base_uri": "https://localhost:8080/"
        },
        "id": "_EWBviRdFcSs",
        "outputId": "b5f34f50-0194-4930-b22c-cc57329540dd"
      },
      "outputs": [
        {
          "name": "stdout",
          "output_type": "stream",
          "text": [
            "hello_python\n"
          ]
        }
      ],
      "source": [
        "print(\"hello_python\")"
      ]
    },
    {
      "cell_type": "code",
      "execution_count": null,
      "metadata": {
        "colab": {
          "background_save": true,
          "base_uri": "https://localhost:8080/"
        },
        "id": "6k9LofBgFsg3",
        "outputId": "4c4fec1d-da2d-4b3c-ad88-7d168fb3f066"
      },
      "outputs": [
        {
          "name": "stdout",
          "output_type": "stream",
          "text": [
            "Merry X'Mas\n"
          ]
        }
      ],
      "source": [
        "print(\"Merry X'Mas\")"
      ]
    },
    {
      "cell_type": "code",
      "execution_count": null,
      "metadata": {
        "colab": {
          "background_save": true,
          "base_uri": "https://localhost:8080/"
        },
        "id": "OT-b6oylFySZ",
        "outputId": "94676e97-5014-4256-8a5b-edc98beb1627"
      },
      "outputs": [
        {
          "name": "stdout",
          "output_type": "stream",
          "text": [
            "I want to ask you \"Why don't you drive to work\"\n"
          ]
        }
      ],
      "source": [
        "print('I want to ask you \"Why don\\'t you drive to work\"')"
      ]
    },
    {
      "cell_type": "code",
      "execution_count": null,
      "metadata": {
        "colab": {
          "background_save": true,
          "base_uri": "https://localhost:8080/"
        },
        "id": "PC-HVJjSGLnq",
        "outputId": "ed2dcab2-312d-4d13-a5bc-9f8db83187e9"
      },
      "outputs": [
        {
          "name": "stdout",
          "output_type": "stream",
          "text": [
            "\"I don't have a car\"\n"
          ]
        }
      ],
      "source": [
        "print('\"I don\\'t have a car\"')"
      ]
    },
    {
      "cell_type": "code",
      "execution_count": null,
      "metadata": {
        "colab": {
          "background_save": true,
          "base_uri": "https://localhost:8080/"
        },
        "id": "xNx4Oe08GT64",
        "outputId": "02b18ee8-ffb4-4568-c58a-d811ac0d4919"
      },
      "outputs": [
        {
          "name": "stdout",
          "output_type": "stream",
          "text": [
            "You got a new job !? That's so eciting\n"
          ]
        }
      ],
      "source": [
        "print('You got a new job !? That\\'s so eciting')"
      ]
    },
    {
      "cell_type": "code",
      "execution_count": null,
      "metadata": {
        "colab": {
          "background_save": true,
          "base_uri": "https://localhost:8080/"
        },
        "id": "Riw49LiGGgqk",
        "outputId": "09592f76-0c17-46da-91e2-823705d85961"
      },
      "outputs": [
        {
          "name": "stdout",
          "output_type": "stream",
          "text": [
            "สวัสดีวันจันทร์\n"
          ]
        }
      ],
      "source": [
        "print('สวัสดีวันจันทร์')"
      ]
    },
    {
      "cell_type": "code",
      "execution_count": null,
      "metadata": {
        "colab": {
          "background_save": true,
          "base_uri": "https://localhost:8080/"
        },
        "id": "HwS1swMeGnyw",
        "outputId": "340ca8df-382e-4421-f680-8af55cd978dd"
      },
      "outputs": [
        {
          "name": "stdout",
          "output_type": "stream",
          "text": [
            "ความแตกต่างระหว่างคนเก่งกับคนไม่เก่ง คือ \"การใช้เวลาว่างให้เป็นประโยชน์\"\n"
          ]
        }
      ],
      "source": [
        "print('ความแตกต่างระหว่างคนเก่งกับคนไม่เก่ง คือ \"การใช้เวลาว่างให้เป็นประโยชน์\"')"
      ]
    },
    {
      "cell_type": "code",
      "execution_count": null,
      "metadata": {
        "colab": {
          "background_save": true,
          "base_uri": "https://localhost:8080/"
        },
        "id": "IGhhTnJcGz6W",
        "outputId": "02c7f2f8-30cb-4e55-a217-51f4db1e6429"
      },
      "outputs": [
        {
          "name": "stdout",
          "output_type": "stream",
          "text": [
            "/\\/\\/\\\n"
          ]
        }
      ],
      "source": [
        "print('/\\\\/\\\\/\\\\')"
      ]
    },
    {
      "cell_type": "code",
      "execution_count": null,
      "metadata": {
        "colab": {
          "background_save": true,
          "base_uri": "https://localhost:8080/"
        },
        "id": "cdGCIKOeG8Au",
        "outputId": "bd6cbbcd-1630-4706-e418-7064f5054618"
      },
      "outputs": [
        {
          "name": "stdout",
          "output_type": "stream",
          "text": [
            "a\n",
            "an\n",
            "ant\n"
          ]
        }
      ],
      "source": [
        "print('''a\n",
        "an\n",
        "ant''')"
      ]
    },
    {
      "cell_type": "code",
      "execution_count": null,
      "metadata": {
        "colab": {
          "background_save": true,
          "base_uri": "https://localhost:8080/"
        },
        "id": "MlOlDVxvHB_Z",
        "outputId": "a3d3e78f-7040-465f-d664-56ef6bc0f4dc"
      },
      "outputs": [
        {
          "name": "stdout",
          "output_type": "stream",
          "text": [
            "\t*\n",
            "*\t*\t*\n",
            "\t*\n"
          ]
        }
      ],
      "source": [
        "print('''\\t*\n",
        "*\\t*\\t*\n",
        "\\t*''')"
      ]
    },
    {
      "cell_type": "code",
      "execution_count": null,
      "metadata": {
        "colab": {
          "background_save": true,
          "base_uri": "https://localhost:8080/"
        },
        "id": "Ug8nxTmZHYB5",
        "outputId": "019e2f3d-b599-47cb-fa47-f7a7847759f7"
      },
      "outputs": [
        {
          "name": "stdout",
          "output_type": "stream",
          "text": [
            "*\t+\t*\n",
            "+\t*\t+\n",
            "*\t+\t*\n"
          ]
        }
      ],
      "source": [
        "print('''*\\t+\\t*\n",
        "+\\t*\\t+\n",
        "*\\t+\\t*''')"
      ]
    },
    {
      "cell_type": "code",
      "execution_count": null,
      "metadata": {
        "colab": {
          "background_save": true,
          "base_uri": "https://localhost:8080/"
        },
        "id": "bM70EDgCHlZH",
        "outputId": "8b7a2b5f-4b52-4711-aae6-078cfc28b4fd"
      },
      "outputs": [
        {
          "name": "stdout",
          "output_type": "stream",
          "text": [
            "Just because something\n",
            "thinks differently from you,\n",
            "does that mean it's not thinking ?\n"
          ]
        }
      ],
      "source": [
        "print('''Just because something\n",
        "thinks differently from you,\n",
        "does that mean it\\'s not thinking ?''')"
      ]
    },
    {
      "cell_type": "code",
      "execution_count": null,
      "metadata": {
        "colab": {
          "background_save": true,
          "base_uri": "https://localhost:8080/"
        },
        "id": "UB9uRF80H5Pg",
        "outputId": "9bda82b0-3efc-4dc9-ff09-1ef514562d8d"
      },
      "outputs": [
        {
          "name": "stdout",
          "output_type": "stream",
          "text": [
            "\\\t\t/\n",
            "\tx\n",
            "/\t\t\\\n"
          ]
        }
      ],
      "source": [
        "print('''\\\\\\t\\t/\n",
        "\\tx\n",
        "/\\t\\t\\\\''')"
      ]
    },
    {
      "cell_type": "markdown",
      "metadata": {
        "id": "8vFWkqYoJ2OT"
      },
      "source": [
        "# Print String + Numeric"
      ]
    },
    {
      "cell_type": "code",
      "execution_count": null,
      "metadata": {
        "colab": {
          "base_uri": "https://localhost:8080/"
        },
        "id": "qZEzlzV2J8Qy",
        "outputId": "d6303944-57f5-4c89-dbd0-c782d061e5e4"
      },
      "outputs": [
        {
          "name": "stdout",
          "output_type": "stream",
          "text": [
            "2 x 3 = 6\n"
          ]
        }
      ],
      "source": [
        "a = 2\n",
        "b =3\n",
        "print('2 x 3 =', a*b)"
      ]
    },
    {
      "cell_type": "code",
      "execution_count": null,
      "metadata": {
        "colab": {
          "base_uri": "https://localhost:8080/"
        },
        "id": "ghdLo5o1KQ8R",
        "outputId": "89c4a247-160f-458d-d8e0-63eccb812751"
      },
      "outputs": [
        {
          "name": "stdout",
          "output_type": "stream",
          "text": [
            "2 + 3 = 3 + 2 = 5\n"
          ]
        }
      ],
      "source": [
        "a = 2\n",
        "b =3\n",
        "print('2 + 3 = 3 + 2 =', a+b)"
      ]
    },
    {
      "cell_type": "code",
      "execution_count": null,
      "metadata": {
        "colab": {
          "base_uri": "https://localhost:8080/"
        },
        "id": "zCQG1OZJKj0G",
        "outputId": "b175b887-9106-4252-a8ec-d55f5300c2e7"
      },
      "outputs": [
        {
          "name": "stdout",
          "output_type": "stream",
          "text": [
            "2*(3+5) = 2*3 + 2*5\n"
          ]
        }
      ],
      "source": [
        "a = 2\n",
        "b = 3\n",
        "c = 5\n",
        "print('%d*(%d+%d) = %d*%d + %d*%d' %(a, b, c, a, b, a, c))"
      ]
    },
    {
      "cell_type": "code",
      "execution_count": null,
      "metadata": {
        "colab": {
          "base_uri": "https://localhost:8080/"
        },
        "id": "eQuYkifmLZ2n",
        "outputId": "5c0897f9-6010-4db9-f3b7-eb9b9fd9eeec"
      },
      "outputs": [
        {
          "name": "stdout",
          "output_type": "stream",
          "text": [
            "2 + 2 = 4.9000\n"
          ]
        }
      ],
      "source": [
        "a = 2.4\n",
        "b = 2.5\n",
        "print('%d + %d = %.4f' %(a, b, (a+b)))"
      ]
    },
    {
      "cell_type": "code",
      "execution_count": null,
      "metadata": {
        "colab": {
          "base_uri": "https://localhost:8080/"
        },
        "id": "gOYkz8WWLwTa",
        "outputId": "0903f482-61c7-4a56-d66b-b8a8fa832111"
      },
      "outputs": [
        {
          "name": "stdout",
          "output_type": "stream",
          "text": [
            "5.00 - 2.00 = 3.0000\n"
          ]
        }
      ],
      "source": [
        "a = 5\n",
        "b =2\n",
        "print('%.2f - %.2f = %.4f' %(a, b, (a-b)))"
      ]
    },
    {
      "cell_type": "code",
      "execution_count": null,
      "metadata": {
        "colab": {
          "base_uri": "https://localhost:8080/"
        },
        "id": "kVQt1hjVL_s0",
        "outputId": "cea4c01b-76c5-4058-feb7-07a6732c8aab"
      },
      "outputs": [
        {
          "name": "stdout",
          "output_type": "stream",
          "text": [
            "ฉันเกิดวันที่ 25 ธันวาคม\n"
          ]
        }
      ],
      "source": [
        "birthday = 25\n",
        "print('ฉันเกิดวันที่ %d ธันวาคม' %(birthday))"
      ]
    },
    {
      "cell_type": "code",
      "execution_count": null,
      "metadata": {
        "colab": {
          "base_uri": "https://localhost:8080/"
        },
        "id": "tJzNZy_pMzif",
        "outputId": "ab4868d9-9675-4624-e418-19ccf40a18f8"
      },
      "outputs": [
        {
          "name": "stdout",
          "output_type": "stream",
          "text": [
            "5 เท่าของ 100 มีค่าเท่ากับ 500\n"
          ]
        }
      ],
      "source": [
        "a = 5\n",
        "b =100\n",
        "print('%d เท่าของ %d มีค่าเท่ากับ %d' %(a, b, (a*b)))"
      ]
    },
    {
      "cell_type": "code",
      "execution_count": null,
      "metadata": {
        "colab": {
          "base_uri": "https://localhost:8080/"
        },
        "id": "HXmCzqaENAgE",
        "outputId": "13f7e393-1890-4e6f-dd65-4720beefa8c8"
      },
      "outputs": [
        {
          "name": "stdout",
          "output_type": "stream",
          "text": [
            "เขามีเงินเยอะกว่าฉัน 3.50 บาท\n"
          ]
        }
      ],
      "source": [
        "a = 3.5\n",
        "print('เขามีเงินเยอะกว่าฉัน %.2f บาท' %(a))"
      ]
    },
    {
      "cell_type": "code",
      "execution_count": null,
      "metadata": {
        "colab": {
          "base_uri": "https://localhost:8080/"
        },
        "id": "jPUEwRNWNL4S",
        "outputId": "c3a63de6-857d-4649-8149-da72e3e5d8a2"
      },
      "outputs": [
        {
          "name": "stdout",
          "output_type": "stream",
          "text": [
            "ฉันได้กำไร 5 %\n"
          ]
        }
      ],
      "source": [
        "a = 5\n",
        "print('ฉันได้กำไร %d %%' %(a))"
      ]
    },
    {
      "cell_type": "code",
      "execution_count": null,
      "metadata": {
        "colab": {
          "base_uri": "https://localhost:8080/"
        },
        "id": "Si5tCu55NVz9",
        "outputId": "79df1a23-8eb9-4e89-b8d4-6d84895d983b"
      },
      "outputs": [
        {
          "name": "stdout",
          "output_type": "stream",
          "text": [
            "เมือวานฉันขาดทุน 2 % วันนี้ฉันได้กำไร 3.50 %\n"
          ]
        }
      ],
      "source": [
        "a = 2; b = 3.5\n",
        "##ประกาศตัวแปรต่อกันได้โดยคั่นด้วย ; \n",
        "print('เมือวานฉันขาดทุน %d %% วันนี้ฉันได้กำไร %.2f %%' %(a, b))"
      ]
    },
    {
      "cell_type": "code",
      "execution_count": 1,
      "metadata": {},
      "outputs": [
        {
          "name": "stdout",
          "output_type": "stream",
          "text": [
            "Just because something\n",
            "thinks differently from you,\n",
            "does that mean it's not thinking ?\n",
            "-------------------- Separation --------------------\n",
            "What can we actually do to make changes to the world ? are 757 changes enough ?\n"
          ]
        }
      ],
      "source": [
        "import random\n",
        "print('''Just because something\n",
        "thinks differently from you,\n",
        "does that mean it\\'s not thinking ?''')\n",
        "print('-'*20 + ' Separation ' + '-'*20)\n",
        "print('''What can we actually do to make changes to the world ? are {} changes enough ?'''.format(random.randint(1, 1000)))"
      ]
    },
    {
      "cell_type": "code",
      "execution_count": null,
      "metadata": {},
      "outputs": [],
      "source": []
    }
  ],
  "metadata": {
    "colab": {
      "authorship_tag": "ABX9TyNJ9T2FauF/9VQyEvEjzua3",
      "collapsed_sections": [
        "lssAotzaJYCA",
        "8vFWkqYoJ2OT"
      ],
      "include_colab_link": true,
      "provenance": []
    },
    "kernelspec": {
      "display_name": "Python 3.9.12 ('ai')",
      "language": "python",
      "name": "python3"
    },
    "language_info": {
      "codemirror_mode": {
        "name": "ipython",
        "version": 3
      },
      "file_extension": ".py",
      "mimetype": "text/x-python",
      "name": "python",
      "nbconvert_exporter": "python",
      "pygments_lexer": "ipython3",
      "version": "3.9.12"
    },
    "vscode": {
      "interpreter": {
        "hash": "7bd603fbb5200d4fc214fd5f7132f014fc11e76c974e1566141bd15e938ea76f"
      }
    }
  },
  "nbformat": 4,
  "nbformat_minor": 0
}
